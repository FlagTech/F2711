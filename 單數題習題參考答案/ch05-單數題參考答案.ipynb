{
 "cells": [
  {
   "cell_type": "markdown",
   "metadata": {
    "id": "KUQ5eEhoE_ZL"
   },
   "source": [
    "### 5.1 選擇性敘述"
   ]
  },
  {
   "cell_type": "markdown",
   "metadata": {
    "id": "Ib2LTZDhW1AL"
   },
   "source": [
    "#### 第1題"
   ]
  },
  {
   "cell_type": "code",
   "execution_count": 1,
   "metadata": {
    "colab": {
     "base_uri": "https://localhost:8080/"
    },
    "executionInfo": {
     "elapsed": 6835,
     "status": "ok",
     "timestamp": 1648885192145,
     "user": {
      "displayName": "wien hong",
      "userId": "11131435925814580522"
     },
     "user_tz": -480
    },
    "id": "x3BSZzY-L6-g",
    "outputId": "0c608472-48fc-4168-f927-fcc292ab1a66"
   },
   "outputs": [
    {
     "name": "stdin",
     "output_type": "stream",
     "text": [
      "Input temperature:  23\n"
     ]
    },
    {
     "name": "stdout",
     "output_type": "stream",
     "text": [
      "現在溫度為23度，不開冷暖氣\n"
     ]
    }
   ],
   "source": [
    "t=int(input('Input temperature: '))\n",
    "if t>28:\n",
    "    print('開冷氣')\n",
    "elif t<15:\n",
    "    print('開暖氣')\n",
    "else:\n",
    "    print(f'現在溫度為{t}度，不開冷暖氣')"
   ]
  },
  {
   "cell_type": "markdown",
   "metadata": {
    "id": "vdy4nDibQ2Tb"
   },
   "source": [
    "#### 第3題"
   ]
  },
  {
   "cell_type": "code",
   "execution_count": 2,
   "metadata": {
    "colab": {
     "base_uri": "https://localhost:8080/"
    },
    "executionInfo": {
     "elapsed": 10014,
     "status": "ok",
     "timestamp": 1648885214437,
     "user": {
      "displayName": "wien hong",
      "userId": "11131435925814580522"
     },
     "user_tz": -480
    },
    "id": "IGVyVHFhNNfu",
    "outputId": "83697667-32de-45fb-b66f-e9288eb8feae"
   },
   "outputs": [
    {
     "name": "stdin",
     "output_type": "stream",
     "text": [
      "Input a year:  2022\n"
     ]
    },
    {
     "name": "stdout",
     "output_type": "stream",
     "text": [
      "2022是平年\n"
     ]
    }
   ],
   "source": [
    "y=int(input('Input a year: '))\n",
    "if y%400 ==0 or (y%4 == 0 and y%100 != 0):\n",
    "    print(f'{y}是閏年')\n",
    "else:\n",
    "    print(f'{y}是平年')"
   ]
  },
  {
   "cell_type": "markdown",
   "metadata": {
    "id": "yq-CJ0wVUad_"
   },
   "source": [
    "#### 第5題"
   ]
  },
  {
   "cell_type": "code",
   "execution_count": 3,
   "metadata": {
    "colab": {
     "base_uri": "https://localhost:8080/"
    },
    "executionInfo": {
     "elapsed": 8233,
     "status": "ok",
     "timestamp": 1648885372668,
     "user": {
      "displayName": "wien hong",
      "userId": "11131435925814580522"
     },
     "user_tz": -480
    },
    "id": "lIjUBQDan8vM",
    "outputId": "7a2ef2d1-5c12-4085-8798-a774dcb1b076"
   },
   "outputs": [
    {
     "name": "stdin",
     "output_type": "stream",
     "text": [
      "Input a score:  98\n"
     ]
    },
    {
     "name": "stdout",
     "output_type": "stream",
     "text": [
      "98分，等級為A\n"
     ]
    }
   ],
   "source": [
    "x=int(input('Input a score: '))\n",
    "if x >= 90:\n",
    "    print(f'{x}分，等級為A')\n",
    "elif 80 <= x < 90:\n",
    "    print(f'{x}分，等級為B')\n",
    "elif 70 <= x < 80:\n",
    "    print(f'{x}分，等級為C')\n",
    "elif 60 <= x < 70: \n",
    "    print(f'{x}分，等級為D')\n",
    "else:\n",
    "    print(f'{x}分，等級為F')"
   ]
  },
  {
   "cell_type": "markdown",
   "metadata": {
    "id": "_sGF_Na-Ugf7"
   },
   "source": [
    "#### 第7題"
   ]
  },
  {
   "cell_type": "code",
   "execution_count": 4,
   "metadata": {
    "colab": {
     "base_uri": "https://localhost:8080/"
    },
    "executionInfo": {
     "elapsed": 401,
     "status": "ok",
     "timestamp": 1648885904497,
     "user": {
      "displayName": "wien hong",
      "userId": "11131435925814580522"
     },
     "user_tz": -480
    },
    "id": "Xd8suMhtzxKa",
    "outputId": "795c0b84-9af0-48b2-f71f-9da709e1bf1f"
   },
   "outputs": [
    {
     "name": "stdout",
     "output_type": "stream",
     "text": [
      "5為奇數\n"
     ]
    }
   ],
   "source": [
    "#(a)\n",
    "print('5為奇數') if 5%2==1 else print('5為偶數')      "
   ]
  },
  {
   "cell_type": "code",
   "execution_count": 5,
   "metadata": {
    "colab": {
     "base_uri": "https://localhost:8080/"
    },
    "executionInfo": {
     "elapsed": 7,
     "status": "ok",
     "timestamp": 1648885966422,
     "user": {
      "displayName": "wien hong",
      "userId": "11131435925814580522"
     },
     "user_tz": -480
    },
    "id": "vmmjWw8HhuoR",
    "outputId": "f5295986-261d-4715-f885-ed2ed2c26525"
   },
   "outputs": [
    {
     "data": {
      "text/plain": [
       "3"
      ]
     },
     "execution_count": 5,
     "metadata": {},
     "output_type": "execute_result"
    }
   ],
   "source": [
    "#(b)\n",
    "x,y=1,3\n",
    "z = x if x>y else y\n",
    "z"
   ]
  },
  {
   "cell_type": "code",
   "execution_count": 6,
   "metadata": {
    "colab": {
     "base_uri": "https://localhost:8080/"
    },
    "executionInfo": {
     "elapsed": 392,
     "status": "ok",
     "timestamp": 1648885988856,
     "user": {
      "displayName": "wien hong",
      "userId": "11131435925814580522"
     },
     "user_tz": -480
    },
    "id": "PzBFnSwC0yOZ",
    "outputId": "bae0816f-2f71-44c7-926b-c161f34fc680"
   },
   "outputs": [
    {
     "name": "stdout",
     "output_type": "stream",
     "text": [
      "x is not empty\n"
     ]
    }
   ],
   "source": [
    "#(c)\n",
    "x=[5,6,4]\n",
    "print('x is not empty') if x else print('x is empty') "
   ]
  },
  {
   "cell_type": "code",
   "execution_count": 7,
   "metadata": {
    "colab": {
     "base_uri": "https://localhost:8080/"
    },
    "executionInfo": {
     "elapsed": 472,
     "status": "ok",
     "timestamp": 1648886004919,
     "user": {
      "displayName": "wien hong",
      "userId": "11131435925814580522"
     },
     "user_tz": -480
    },
    "id": "o0RqYsE6ixhi",
    "outputId": "f36a7460-ebb3-4016-d122-62222b29ca4f"
   },
   "outputs": [
    {
     "data": {
      "text/plain": [
       "10"
      ]
     },
     "execution_count": 7,
     "metadata": {},
     "output_type": "execute_result"
    }
   ],
   "source": [
    "#(d)\n",
    "x=-10\n",
    "x=-x if x<0 else x\n",
    "x"
   ]
  },
  {
   "cell_type": "markdown",
   "metadata": {
    "id": "bl0TOwf2UlcS"
   },
   "source": [
    "#### 第9題"
   ]
  },
  {
   "cell_type": "code",
   "execution_count": 8,
   "metadata": {
    "colab": {
     "base_uri": "https://localhost:8080/"
    },
    "executionInfo": {
     "elapsed": 2865,
     "status": "ok",
     "timestamp": 1648886149228,
     "user": {
      "displayName": "wien hong",
      "userId": "11131435925814580522"
     },
     "user_tz": -480
    },
    "id": "JzZh7SEQ5cGa",
    "outputId": "73f76860-7f35-4357-b8cc-73bdf351ec16"
   },
   "outputs": [
    {
     "name": "stdin",
     "output_type": "stream",
     "text": [
      "Input parking hrs: 27\n"
     ]
    },
    {
     "name": "stdout",
     "output_type": "stream",
     "text": [
      "停車27小時，應繳810元\n"
     ]
    }
   ],
   "source": [
    "hr=int(input('Input parking hrs:'))\n",
    "if hr <= 12:\n",
    "    print(f'停車{hr:>}小時，應繳{hr*40}元')\n",
    "else:\n",
    "    print(f'停車{hr:>}小時，應繳{(hr-12)*30+12*30}元')"
   ]
  },
  {
   "cell_type": "markdown",
   "metadata": {
    "id": "PJA-4AbBUtZs"
   },
   "source": [
    "#### 第11題"
   ]
  },
  {
   "cell_type": "code",
   "execution_count": 9,
   "metadata": {
    "colab": {
     "base_uri": "https://localhost:8080/"
    },
    "executionInfo": {
     "elapsed": 9721,
     "status": "ok",
     "timestamp": 1648886264289,
     "user": {
      "displayName": "wien hong",
      "userId": "11131435925814580522"
     },
     "user_tz": -480
    },
    "id": "yt0yPjm3qiMk",
    "outputId": "456a8bf6-544a-434e-ee8c-6bb19eda75d8"
   },
   "outputs": [
    {
     "name": "stdin",
     "output_type": "stream",
     "text": [
      "三個邊長: 4,5,6\n"
     ]
    },
    {
     "name": "stdout",
     "output_type": "stream",
     "text": [
      "(4, 5, 6)可成為三角形，但不是直角三角形\n"
     ]
    }
   ],
   "source": [
    "(a,b,c)=eval(input(\"三個邊長:\"))\n",
    "if a+b > c and a+c > b and b+c > a:\n",
    "    if (a**2 + b**2 == c**2) or (a**2 + c**2 == b**2) or (b**2 + c**2 == a**2):\n",
    "        print(f'{a,b,c}為直角三角形')\n",
    "    else:\n",
    "        print(f'{a,b,c}可成為三角形，但不是直角三角形')\n",
    "else:\n",
    "    print(f'{a,b,c}無法形成三角形')\n"
   ]
  },
  {
   "cell_type": "markdown",
   "metadata": {
    "id": "Lh7zcvaYFPOK"
   },
   "source": [
    "### 5.2 for 迴圈 "
   ]
  },
  {
   "cell_type": "markdown",
   "metadata": {
    "id": "_KQyvUn7U31j"
   },
   "source": [
    "#### 第13題"
   ]
  },
  {
   "cell_type": "code",
   "execution_count": 10,
   "metadata": {
    "colab": {
     "base_uri": "https://localhost:8080/"
    },
    "executionInfo": {
     "elapsed": 4555,
     "status": "ok",
     "timestamp": 1648887242248,
     "user": {
      "displayName": "wien hong",
      "userId": "11131435925814580522"
     },
     "user_tz": -480
    },
    "id": "HgZNlYKN10XY",
    "outputId": "d78d3b8d-d9b7-4018-a5b4-96690bb3b45f"
   },
   "outputs": [
    {
     "name": "stdin",
     "output_type": "stream",
     "text": [
      "Input an integer: 12\n"
     ]
    },
    {
     "name": "stdout",
     "output_type": "stream",
     "text": [
      "479001600\n"
     ]
    }
   ],
   "source": [
    "n=int(input('Input an integer:'))\n",
    "total = 1\n",
    "for i in range(1,n+1):\n",
    "    total *= i\n",
    "print(total)"
   ]
  },
  {
   "cell_type": "markdown",
   "metadata": {
    "id": "MhJ1c95W88u7"
   },
   "source": [
    "#### 第15題\n"
   ]
  },
  {
   "cell_type": "code",
   "execution_count": 11,
   "metadata": {
    "colab": {
     "base_uri": "https://localhost:8080/"
    },
    "executionInfo": {
     "elapsed": 1049,
     "status": "ok",
     "timestamp": 1648887349118,
     "user": {
      "displayName": "wien hong",
      "userId": "11131435925814580522"
     },
     "user_tz": -480
    },
    "id": "BbrXC0YuH5c8",
    "outputId": "87704d75-69a2-4faf-d8b4-a3f3ece5bef5"
   },
   "outputs": [
    {
     "name": "stdout",
     "output_type": "stream",
     "text": [
      "*****\n",
      "****\n",
      "***\n",
      "**\n",
      "*\n"
     ]
    }
   ],
   "source": [
    "#(a)\n",
    "for r in range(5,0,-1):           \n",
    "    for c in range(r):\n",
    "        print('*',end='')\n",
    "    print()"
   ]
  },
  {
   "cell_type": "code",
   "execution_count": 12,
   "metadata": {
    "colab": {
     "base_uri": "https://localhost:8080/"
    },
    "executionInfo": {
     "elapsed": 14,
     "status": "ok",
     "timestamp": 1648887349666,
     "user": {
      "displayName": "wien hong",
      "userId": "11131435925814580522"
     },
     "user_tz": -480
    },
    "id": "Q0LBNLJkLTwt",
    "outputId": "64f631b9-77ee-406b-b489-286bb26e1cbb"
   },
   "outputs": [
    {
     "name": "stdout",
     "output_type": "stream",
     "text": [
      "    *\n",
      "   **\n",
      "  ***\n",
      " ****\n",
      "*****\n"
     ]
    }
   ],
   "source": [
    "#(b)\n",
    "for r in range(1,6):            \n",
    "    for c in range(5-r,0,-1):\n",
    "        print(' ',end='')\n",
    "    for c in range(r):\n",
    "        print('*',end='')\n",
    "    print()"
   ]
  },
  {
   "cell_type": "code",
   "execution_count": 13,
   "metadata": {
    "colab": {
     "base_uri": "https://localhost:8080/"
    },
    "executionInfo": {
     "elapsed": 5,
     "status": "ok",
     "timestamp": 1648887351390,
     "user": {
      "displayName": "wien hong",
      "userId": "11131435925814580522"
     },
     "user_tz": -480
    },
    "id": "HKi5xv-0jxGU",
    "outputId": "2315ddc3-d51e-4f81-d3b9-3c73646f9b68"
   },
   "outputs": [
    {
     "name": "stdout",
     "output_type": "stream",
     "text": [
      "*****\n",
      " ****\n",
      "  ***\n",
      "   **\n",
      "    *\n"
     ]
    }
   ],
   "source": [
    "#(c)\n",
    "for i in range(5,0,-1):           \n",
    "    print(' '*(5-i)+'*'*(i))"
   ]
  },
  {
   "cell_type": "code",
   "execution_count": 14,
   "metadata": {
    "colab": {
     "base_uri": "https://localhost:8080/"
    },
    "executionInfo": {
     "elapsed": 425,
     "status": "ok",
     "timestamp": 1648887354135,
     "user": {
      "displayName": "wien hong",
      "userId": "11131435925814580522"
     },
     "user_tz": -480
    },
    "id": "FLVM48AulDnB",
    "outputId": "cebc4c6a-af96-4f77-a7b3-d7ccdcfea653"
   },
   "outputs": [
    {
     "name": "stdout",
     "output_type": "stream",
     "text": [
      "*****\n",
      "^****\n",
      "^^***\n",
      "^^^**\n",
      "^^^^*\n"
     ]
    }
   ],
   "source": [
    "#(d)\n",
    "for i in range(5,0,-1):           \n",
    "    print('^'*(5-i)+'*'*(i))"
   ]
  },
  {
   "cell_type": "code",
   "execution_count": 15,
   "metadata": {
    "colab": {
     "base_uri": "https://localhost:8080/"
    },
    "executionInfo": {
     "elapsed": 414,
     "status": "ok",
     "timestamp": 1648887356777,
     "user": {
      "displayName": "wien hong",
      "userId": "11131435925814580522"
     },
     "user_tz": -480
    },
    "id": "lKYQsfpx0Q0V",
    "outputId": "6a0785d0-46af-4ba3-ed84-e2af87877fa8"
   },
   "outputs": [
    {
     "name": "stdout",
     "output_type": "stream",
     "text": [
      "1\n",
      "12\n",
      "123\n",
      "1234\n",
      "12345\n"
     ]
    }
   ],
   "source": [
    "#(e)\n",
    "for r in range(1,6):            \n",
    "    for c in range(1,r+1):\n",
    "        print(c,end='')\n",
    "    print()"
   ]
  },
  {
   "cell_type": "code",
   "execution_count": 16,
   "metadata": {
    "colab": {
     "base_uri": "https://localhost:8080/"
    },
    "executionInfo": {
     "elapsed": 405,
     "status": "ok",
     "timestamp": 1648887359347,
     "user": {
      "displayName": "wien hong",
      "userId": "11131435925814580522"
     },
     "user_tz": -480
    },
    "id": "2wcBvfH1ApbN",
    "outputId": "159f2b28-2756-4c37-cae1-474b4dd71748"
   },
   "outputs": [
    {
     "name": "stdout",
     "output_type": "stream",
     "text": [
      "5\n",
      "54\n",
      "543\n",
      "5432\n",
      "54321\n"
     ]
    }
   ],
   "source": [
    "#(f)\n",
    "for r in range(5,0,-1):          \n",
    "    for c in range(5,r-1,-1):\n",
    "        print(c,end='')\n",
    "    print()"
   ]
  },
  {
   "cell_type": "code",
   "execution_count": 17,
   "metadata": {
    "colab": {
     "base_uri": "https://localhost:8080/"
    },
    "executionInfo": {
     "elapsed": 424,
     "status": "ok",
     "timestamp": 1648887362398,
     "user": {
      "displayName": "wien hong",
      "userId": "11131435925814580522"
     },
     "user_tz": -480
    },
    "id": "t1WEVGGwtgap",
    "outputId": "53974669-7956-4981-adf5-a3ebce46e359"
   },
   "outputs": [
    {
     "name": "stdout",
     "output_type": "stream",
     "text": [
      "1\n",
      "22\n",
      "333\n",
      "4444\n",
      "55555\n"
     ]
    }
   ],
   "source": [
    "#(g)\n",
    "for r in range(1,6):             \n",
    "    for c in range(r):\n",
    "        print(r,end='')\n",
    "    print() "
   ]
  },
  {
   "cell_type": "code",
   "execution_count": 18,
   "metadata": {
    "colab": {
     "base_uri": "https://localhost:8080/"
    },
    "executionInfo": {
     "elapsed": 4,
     "status": "ok",
     "timestamp": 1648887364303,
     "user": {
      "displayName": "wien hong",
      "userId": "11131435925814580522"
     },
     "user_tz": -480
    },
    "id": "PqhLmrBXsUmx",
    "outputId": "c9d6d06e-2da6-40db-8b28-bf327e9fd674"
   },
   "outputs": [
    {
     "name": "stdout",
     "output_type": "stream",
     "text": [
      "0\n",
      "12\n",
      "345\n",
      "6789\n",
      "abcde\n"
     ]
    }
   ],
   "source": [
    "#(h)\n",
    "str_='0123456789abcde'\n",
    "i=0\n",
    "for r in range(1,6):\n",
    "    for c in range(r):\n",
    "        print(str_[i],end='')\n",
    "        i += 1\n",
    "    print()"
   ]
  },
  {
   "cell_type": "code",
   "execution_count": 19,
   "metadata": {
    "colab": {
     "base_uri": "https://localhost:8080/"
    },
    "executionInfo": {
     "elapsed": 417,
     "status": "ok",
     "timestamp": 1648887440476,
     "user": {
      "displayName": "wien hong",
      "userId": "11131435925814580522"
     },
     "user_tz": -480
    },
    "id": "bICXrYaf01Jj",
    "outputId": "607e7516-a8d7-471a-8889-332bf90390a0"
   },
   "outputs": [
    {
     "name": "stdout",
     "output_type": "stream",
     "text": [
      "0\n",
      "12\n",
      "345\n",
      "6789\n",
      "abcde\n"
     ]
    }
   ],
   "source": [
    "#(h) Alternative\n",
    "i=0\n",
    "for r in range(1,6):\n",
    "    for c in range(r):\n",
    "        print(f'{i:x}',end='')\n",
    "        i += 1\n",
    "    print()"
   ]
  },
  {
   "cell_type": "markdown",
   "metadata": {
    "id": "vTEnprIj3giA"
   },
   "source": [
    "#### 第17題"
   ]
  },
  {
   "cell_type": "code",
   "execution_count": 20,
   "metadata": {
    "colab": {
     "base_uri": "https://localhost:8080/"
    },
    "executionInfo": {
     "elapsed": 419,
     "status": "ok",
     "timestamp": 1648887692808,
     "user": {
      "displayName": "wien hong",
      "userId": "11131435925814580522"
     },
     "user_tz": -480
    },
    "id": "wSfEWyTv3lJU",
    "outputId": "f6f2f588-b274-454f-c498-0c8997c6a64d"
   },
   "outputs": [
    {
     "name": "stdout",
     "output_type": "stream",
     "text": [
      "第1組：總和為11\n",
      "第2組：Incomplete data\n",
      "第3組：總和為17\n"
     ]
    }
   ],
   "source": [
    "lst=[[2,4,5],[5,8,None],[10,3,4]]\n",
    "cnt=1\n",
    "for sub_lst in lst:\n",
    "    print(f'第{cnt}組：',end='')\n",
    "    if None in sub_lst:\n",
    "        print(f'Incomplete data')\n",
    "    else:\n",
    "        print(f'總和為{sum(sub_lst)}')\n",
    "    cnt+=1"
   ]
  },
  {
   "cell_type": "markdown",
   "metadata": {
    "id": "px1ouUM83nNO"
   },
   "source": [
    "#### 第19題"
   ]
  },
  {
   "cell_type": "code",
   "execution_count": 21,
   "metadata": {
    "colab": {
     "base_uri": "https://localhost:8080/"
    },
    "executionInfo": {
     "elapsed": 8828,
     "status": "ok",
     "timestamp": 1648888031099,
     "user": {
      "displayName": "wien hong",
      "userId": "11131435925814580522"
     },
     "user_tz": -480
    },
    "id": "pqpdc4e62wMh",
    "outputId": "087407ec-79e2-4c12-823e-d59dcab5f660"
   },
   "outputs": [
    {
     "name": "stdin",
     "output_type": "stream",
     "text": [
      "Input a:  34\n",
      "Input b:  53\n"
     ]
    },
    {
     "name": "stdout",
     "output_type": "stream",
     "text": [
      "最大公因數為 1\n"
     ]
    }
   ],
   "source": [
    "a = int(input('Input a: '))\n",
    "b = int(input('Input b: '))\n",
    "for n in range(1,min([a,b])+1):\n",
    "    if a%n==0 and b%n==0:\n",
    "       gcd=n\n",
    "print('最大公因數為', gcd)"
   ]
  },
  {
   "cell_type": "markdown",
   "metadata": {
    "id": "6mPujd12G7_P"
   },
   "source": [
    "### 5.3 while迴圈"
   ]
  },
  {
   "cell_type": "markdown",
   "metadata": {
    "id": "FtYD5MWhoKE4"
   },
   "source": [
    "#### 第21題"
   ]
  },
  {
   "cell_type": "code",
   "execution_count": 22,
   "metadata": {
    "colab": {
     "base_uri": "https://localhost:8080/"
    },
    "executionInfo": {
     "elapsed": 5448,
     "status": "ok",
     "timestamp": 1648903983541,
     "user": {
      "displayName": "wien hong",
      "userId": "11131435925814580522"
     },
     "user_tz": -480
    },
    "id": "pAdONaEQ9r9b",
    "outputId": "2f6c2b7e-931d-44b6-bfda-911503f9eed5"
   },
   "outputs": [
    {
     "name": "stdin",
     "output_type": "stream",
     "text": [
      "Input a number: 345\n"
     ]
    },
    {
     "name": "stdout",
     "output_type": "stream",
     "text": [
      "690\n"
     ]
    }
   ],
   "source": [
    "n=input('Input a number:')\n",
    "s=[]\n",
    "for c in n:\n",
    "    if c.isdigit():\n",
    "        s.append(c)\n",
    "print(int(''.join(s))*2)"
   ]
  },
  {
   "cell_type": "markdown",
   "metadata": {
    "id": "nbw1GTKRoQns"
   },
   "source": [
    "###### 第23題"
   ]
  },
  {
   "cell_type": "code",
   "execution_count": 24,
   "metadata": {
    "colab": {
     "base_uri": "https://localhost:8080/"
    },
    "executionInfo": {
     "elapsed": 3699,
     "status": "ok",
     "timestamp": 1648904125125,
     "user": {
      "displayName": "wien hong",
      "userId": "11131435925814580522"
     },
     "user_tz": -480
    },
    "id": "tAzjN40YNEKz",
    "outputId": "751c2818-2574-4aff-cd00-5ab3c4f23d00"
   },
   "outputs": [
    {
     "name": "stdin",
     "output_type": "stream",
     "text": [
      "Input a num: 67\n"
     ]
    },
    {
     "name": "stdout",
     "output_type": "stream",
     "text": [
      "67是質數\n"
     ]
    }
   ],
   "source": [
    "num=int(input('Input a num:'))\n",
    "a=20\n",
    "while a < num:\n",
    "    if num % a == 0:\n",
    "        print(f'{num}不是質數')\n",
    "        break\n",
    "    a+=1\n",
    "if a == num:\n",
    "    print(f'{num}是質數')"
   ]
  },
  {
   "cell_type": "markdown",
   "metadata": {
    "id": "jCPWn6MYHClo"
   },
   "source": [
    "### 5.4 break、continue和pass敘述"
   ]
  },
  {
   "cell_type": "markdown",
   "metadata": {
    "id": "-CGlpDhIoTKm"
   },
   "source": [
    "#### 第25題"
   ]
  },
  {
   "cell_type": "code",
   "execution_count": 25,
   "metadata": {
    "colab": {
     "base_uri": "https://localhost:8080/"
    },
    "executionInfo": {
     "elapsed": 327,
     "status": "ok",
     "timestamp": 1648904313532,
     "user": {
      "displayName": "wien hong",
      "userId": "11131435925814580522"
     },
     "user_tz": -480
    },
    "id": "8nfGhPqMd04x",
    "outputId": "ef474bc0-703b-40fb-b5e6-8514abfcd2d3"
   },
   "outputs": [
    {
     "name": "stdout",
     "output_type": "stream",
     "text": [
      "14\n"
     ]
    }
   ],
   "source": [
    "total = 0                    \n",
    "n = 1\n",
    "while True:\n",
    "    if total >= 100:\n",
    "        print(n-1)\n",
    "        break\n",
    "    total=total+n\n",
    "    n=n+1"
   ]
  },
  {
   "cell_type": "markdown",
   "metadata": {
    "id": "qcs_2isaoXKg"
   },
   "source": [
    "#### 第27題"
   ]
  },
  {
   "cell_type": "code",
   "execution_count": 26,
   "metadata": {
    "colab": {
     "base_uri": "https://localhost:8080/"
    },
    "executionInfo": {
     "elapsed": 309,
     "status": "ok",
     "timestamp": 1648904386258,
     "user": {
      "displayName": "wien hong",
      "userId": "11131435925814580522"
     },
     "user_tz": -480
    },
    "id": "XCKvrPIIZTQn",
    "outputId": "ec935f7e-e7ff-4a60-cf45-4f30d2a54b09"
   },
   "outputs": [
    {
     "name": "stdout",
     "output_type": "stream",
     "text": [
      "23\n",
      "128\n",
      "233\n"
     ]
    }
   ],
   "source": [
    "count = 0                         #方法一\n",
    "for i in range(10000):\n",
    "    if i%3==2 and i%5==3 and i%7==2:\n",
    "        print(i)\n",
    "        count += 1\n",
    "        if count == 3:\n",
    "            break"
   ]
  },
  {
   "cell_type": "code",
   "execution_count": 27,
   "metadata": {
    "colab": {
     "base_uri": "https://localhost:8080/"
    },
    "executionInfo": {
     "elapsed": 270,
     "status": "ok",
     "timestamp": 1648904394000,
     "user": {
      "displayName": "wien hong",
      "userId": "11131435925814580522"
     },
     "user_tz": -480
    },
    "id": "W2nk_1G8Z_AI",
    "outputId": "994ac170-0432-4615-d0ee-a74dc468b22a"
   },
   "outputs": [
    {
     "name": "stdout",
     "output_type": "stream",
     "text": [
      "23\n",
      "128\n",
      "233\n"
     ]
    }
   ],
   "source": [
    "count = 0      #while True無窮迴圈 #方法二\n",
    "i = 0\n",
    "while True:\n",
    "    if i%3==2 and i%5==3 and i%7==2:\n",
    "        print(i)\n",
    "        count += 1\n",
    "        if count == 3:\n",
    "            break\n",
    "    i += 1"
   ]
  },
  {
   "cell_type": "markdown",
   "metadata": {
    "id": "NvNwB2SEHM-I"
   },
   "source": [
    "### 5.5 帶有else的迴圈"
   ]
  },
  {
   "cell_type": "markdown",
   "metadata": {
    "id": "Wou07rQ_oZ4y"
   },
   "source": [
    "#### 第29題"
   ]
  },
  {
   "cell_type": "code",
   "execution_count": 28,
   "metadata": {
    "colab": {
     "base_uri": "https://localhost:8080/"
    },
    "executionInfo": {
     "elapsed": 7711,
     "status": "ok",
     "timestamp": 1648904861979,
     "user": {
      "displayName": "wien hong",
      "userId": "11131435925814580522"
     },
     "user_tz": -480
    },
    "id": "zM3_mmigqaTC",
    "outputId": "ae4337f0-0a6a-40a0-a336-5a9920b27a5d"
   },
   "outputs": [
    {
     "name": "stdin",
     "output_type": "stream",
     "text": [
      "Input a str1: 54325u54\n"
     ]
    },
    {
     "name": "stdout",
     "output_type": "stream",
     "text": [
      "輸入的數包含不合法的字元\n"
     ]
    }
   ],
   "source": [
    "str1=input('Input a str1:')\n",
    "for n in str1:\n",
    "    if not n.isdigit():\n",
    "        print('輸入的數包含不合法的字元')  \n",
    "        break   \n",
    "else:\n",
    "    print(str1,end='')"
   ]
  },
  {
   "cell_type": "markdown",
   "metadata": {
    "id": "-irgCDTRodSH"
   },
   "source": [
    "#### 第31題"
   ]
  },
  {
   "cell_type": "code",
   "execution_count": 29,
   "metadata": {
    "colab": {
     "base_uri": "https://localhost:8080/"
    },
    "executionInfo": {
     "elapsed": 12741,
     "status": "ok",
     "timestamp": 1648907541162,
     "user": {
      "displayName": "wien hong",
      "userId": "11131435925814580522"
     },
     "user_tz": -480
    },
    "id": "Wvf85Kme2Kt4",
    "outputId": "e5cc3eb2-902f-4a74-87c7-c968375ae0fc"
   },
   "outputs": [
    {
     "name": "stdin",
     "output_type": "stream",
     "text": [
      "Input lst: [4,8,1,-4]\n"
     ]
    },
    {
     "name": "stdout",
     "output_type": "stream",
     "text": [
      "最少有一個數不在[0, 255]之內\n"
     ]
    }
   ],
   "source": [
    "lower_limit = 0\n",
    "upper_limit = 255\n",
    "\n",
    "lst = eval(input('Input lst:'))\n",
    "for n in lst:\n",
    "    if n<lower_limit or n> upper_limit:\n",
    "        print(\"最少有一個數不在[0, 255]之內\")\n",
    "        break\n",
    "else:\n",
    "    print(\"輸入的數全在範圍內\")"
   ]
  },
  {
   "cell_type": "markdown",
   "metadata": {
    "id": "3jSTUH2bHUTo"
   },
   "source": [
    "### 5.6 串列生成式"
   ]
  },
  {
   "cell_type": "markdown",
   "metadata": {
    "id": "hrWSA9YNohIR"
   },
   "source": [
    "#### 第33題"
   ]
  },
  {
   "cell_type": "code",
   "execution_count": 30,
   "metadata": {
    "colab": {
     "base_uri": "https://localhost:8080/"
    },
    "executionInfo": {
     "elapsed": 290,
     "status": "ok",
     "timestamp": 1648908153811,
     "user": {
      "displayName": "wien hong",
      "userId": "11131435925814580522"
     },
     "user_tz": -480
    },
    "id": "VVPWdc6JV6dX",
    "outputId": "f7832cf5-4917-4c08-bb9d-44c99d3332ea"
   },
   "outputs": [
    {
     "data": {
      "text/plain": [
       "['i', 'u', 'e', 'A', 'u', 'u', 'i', 'e']"
      ]
     },
     "execution_count": 30,
     "metadata": {},
     "output_type": "execute_result"
    }
   ],
   "source": [
    "lsts=['Spring','Summer','Autumn','Winter']\n",
    "[c for lst in lsts for c in lst if c in 'aeiouAEIOU']"
   ]
  },
  {
   "cell_type": "markdown",
   "metadata": {
    "id": "gteADEkAojXT"
   },
   "source": [
    "#### 第35題"
   ]
  },
  {
   "cell_type": "code",
   "execution_count": 31,
   "metadata": {
    "colab": {
     "base_uri": "https://localhost:8080/"
    },
    "executionInfo": {
     "elapsed": 8,
     "status": "ok",
     "timestamp": 1648908333675,
     "user": {
      "displayName": "wien hong",
      "userId": "11131435925814580522"
     },
     "user_tz": -480
    },
    "id": "o3fylo-oofcb",
    "outputId": "f6e66d56-c78b-4208-e4d5-22edced806e4"
   },
   "outputs": [
    {
     "data": {
      "text/plain": [
       "[(1, 4), (1, 5), (2, 4), (2, 5), (3, 4), (3, 5)]"
      ]
     },
     "execution_count": 31,
     "metadata": {},
     "output_type": "execute_result"
    }
   ],
   "source": [
    "num1=[1,2,3]\n",
    "num2=[4,5]\n",
    "[(n1,n2) for n1 in num1 for n2 in num2]"
   ]
  }
 ],
 "metadata": {
  "colab": {
   "collapsed_sections": [],
   "name": "ch05-習題參考答案.ipynb",
   "provenance": [
    {
     "file_id": "1PLQHjC8Sqb7TzRI8eCXYNLXu-d98xzwA",
     "timestamp": 1635322986191
    }
   ]
  },
  "kernelspec": {
   "display_name": "Python 3 (ipykernel)",
   "language": "python",
   "name": "python3"
  },
  "language_info": {
   "codemirror_mode": {
    "name": "ipython",
    "version": 3
   },
   "file_extension": ".py",
   "mimetype": "text/x-python",
   "name": "python",
   "nbconvert_exporter": "python",
   "pygments_lexer": "ipython3",
   "version": "3.8.9"
  }
 },
 "nbformat": 4,
 "nbformat_minor": 4
}

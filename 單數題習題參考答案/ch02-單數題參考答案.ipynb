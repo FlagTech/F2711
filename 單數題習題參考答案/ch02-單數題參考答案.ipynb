{
 "cells": [
  {
   "cell_type": "markdown",
   "metadata": {
    "id": "LnwzS06uJZQT"
   },
   "source": [
    "### 2.1 簡單的資料型別"
   ]
  },
  {
   "cell_type": "markdown",
   "metadata": {
    "id": "RTvVTwISQq9V"
   },
   "source": [
    "#### 第1題"
   ]
  },
  {
   "cell_type": "markdown",
   "metadata": {
    "id": "zchXtjcXQ5Js"
   },
   "source": [
    "* 整數： (c), (i), (j), (l)\n",
    "* 浮點數：(d), (f), (g), (h)\n",
    "* 複數：(k)\n",
    "* 字串：(a), (m)\n",
    "* 布林:(b), (e)"
   ]
  },
  {
   "cell_type": "markdown",
   "metadata": {
    "id": "UYN_dJZ-J7tu"
   },
   "source": [
    "### 2.2 變數與常數"
   ]
  },
  {
   "cell_type": "markdown",
   "metadata": {
    "id": "pRqM9bkhdYD8"
   },
   "source": [
    "#### 第3題"
   ]
  },
  {
   "cell_type": "code",
   "execution_count": 1,
   "metadata": {
    "colab": {
     "base_uri": "https://localhost:8080/"
    },
    "executionInfo": {
     "elapsed": 72,
     "status": "ok",
     "timestamp": 1648831503965,
     "user": {
      "displayName": "wien hong",
      "userId": "11131435925814580522"
     },
     "user_tz": -480
    },
    "id": "uDuL9Q7MdZcU",
    "outputId": "607182d5-fcc6-400c-d557-5f5c7b4d3f6a"
   },
   "outputs": [
    {
     "data": {
      "text/plain": [
       "float"
      ]
     },
     "execution_count": 1,
     "metadata": {},
     "output_type": "execute_result"
    }
   ],
   "source": [
    "num=12;\n",
    "num=12+7.2\n",
    "type(num)"
   ]
  },
  {
   "cell_type": "markdown",
   "metadata": {
    "id": "_odOdHAIKEZU"
   },
   "source": [
    "### 2.3 常用的運算子"
   ]
  },
  {
   "cell_type": "markdown",
   "metadata": {
    "id": "imFYsPhvr0pK"
   },
   "source": [
    "#### 第5題"
   ]
  },
  {
   "cell_type": "code",
   "execution_count": 2,
   "metadata": {
    "colab": {
     "base_uri": "https://localhost:8080/"
    },
    "executionInfo": {
     "elapsed": 66,
     "status": "ok",
     "timestamp": 1648831503966,
     "user": {
      "displayName": "wien hong",
      "userId": "11131435925814580522"
     },
     "user_tz": -480
    },
    "id": "CRLqD3rkxAuF",
    "outputId": "bbf1288d-1e3b-4d93-eadd-3a4a167b7eef"
   },
   "outputs": [
    {
     "data": {
      "text/plain": [
       "1329227995784915872903807060280344576"
      ]
     },
     "execution_count": 2,
     "metadata": {},
     "output_type": "execute_result"
    }
   ],
   "source": [
    "2**120"
   ]
  },
  {
   "cell_type": "markdown",
   "metadata": {
    "id": "4q5lnpWsr5na"
   },
   "source": [
    "#### 第7題"
   ]
  },
  {
   "cell_type": "code",
   "execution_count": 3,
   "metadata": {
    "colab": {
     "base_uri": "https://localhost:8080/"
    },
    "executionInfo": {
     "elapsed": 56,
     "status": "ok",
     "timestamp": 1648831503966,
     "user": {
      "displayName": "wien hong",
      "userId": "11131435925814580522"
     },
     "user_tz": -480
    },
    "id": "tbpp0LbDxGSk",
    "outputId": "5fd4caf3-b5a6-4029-89e8-def99693df98"
   },
   "outputs": [
    {
     "name": "stdout",
     "output_type": "stream",
     "text": [
      "121 101\n"
     ]
    }
   ],
   "source": [
    "print(ord('y'),ord('e'))  #算出'大小寫的編碼'字元數"
   ]
  },
  {
   "cell_type": "markdown",
   "metadata": {
    "id": "RbhrnHJZx0GM"
   },
   "source": [
    "* 由於 kitty 和 kitten 的前四個字母都相同，所以比較第五個字元的字元碼。\n",
    "* 字母 y 的字元碼為 121， e 的字元碼為 101，所以得到 False。"
   ]
  },
  {
   "cell_type": "markdown",
   "metadata": {
    "id": "7JADmSEbr_sC"
   },
   "source": [
    "#### 第9題 \n"
   ]
  },
  {
   "cell_type": "code",
   "execution_count": 4,
   "metadata": {
    "colab": {
     "base_uri": "https://localhost:8080/"
    },
    "executionInfo": {
     "elapsed": 42,
     "status": "ok",
     "timestamp": 1648831503968,
     "user": {
      "displayName": "wien hong",
      "userId": "11131435925814580522"
     },
     "user_tz": -480
    },
    "id": "P276aSuN5TVR",
    "outputId": "82acf3ae-51da-44f6-a09b-a2f57f6027a2"
   },
   "outputs": [
    {
     "name": "stdout",
     "output_type": "stream",
     "text": [
      "0b1100\n",
      "0b1000\n"
     ]
    }
   ],
   "source": [
    "x=12; y=8   \n",
    "print(bin(x)); print(bin(y))"
   ]
  },
  {
   "cell_type": "code",
   "execution_count": 5,
   "metadata": {
    "colab": {
     "base_uri": "https://localhost:8080/"
    },
    "executionInfo": {
     "elapsed": 38,
     "status": "ok",
     "timestamp": 1648831503969,
     "user": {
      "displayName": "wien hong",
      "userId": "11131435925814580522"
     },
     "user_tz": -480
    },
    "id": "1dCTOyuj6qF6",
    "outputId": "66247435-0de6-462e-d53e-7f659e5c2af2"
   },
   "outputs": [
    {
     "data": {
      "text/plain": [
       "8"
      ]
     },
     "execution_count": 5,
     "metadata": {},
     "output_type": "execute_result"
    }
   ],
   "source": [
    "#(a)\n",
    "x&y   # and"
   ]
  },
  {
   "cell_type": "code",
   "execution_count": 6,
   "metadata": {
    "colab": {
     "base_uri": "https://localhost:8080/"
    },
    "executionInfo": {
     "elapsed": 35,
     "status": "ok",
     "timestamp": 1648831503969,
     "user": {
      "displayName": "wien hong",
      "userId": "11131435925814580522"
     },
     "user_tz": -480
    },
    "id": "aUoLO5h261ea",
    "outputId": "e22d6041-9279-4f1a-e17f-f7b1cd1aa8fc"
   },
   "outputs": [
    {
     "data": {
      "text/plain": [
       "12"
      ]
     },
     "execution_count": 6,
     "metadata": {},
     "output_type": "execute_result"
    }
   ],
   "source": [
    "#(b)\n",
    "x|y   # or"
   ]
  },
  {
   "cell_type": "code",
   "execution_count": 7,
   "metadata": {
    "colab": {
     "base_uri": "https://localhost:8080/"
    },
    "executionInfo": {
     "elapsed": 31,
     "status": "ok",
     "timestamp": 1648831503970,
     "user": {
      "displayName": "wien hong",
      "userId": "11131435925814580522"
     },
     "user_tz": -480
    },
    "id": "FtrhLovv9Yt6",
    "outputId": "cefc61fa-6c49-458f-a758-c8a9c1e348c2"
   },
   "outputs": [
    {
     "data": {
      "text/plain": [
       "-13"
      ]
     },
     "execution_count": 7,
     "metadata": {},
     "output_type": "execute_result"
    }
   ],
   "source": [
    "#(c)\n",
    "~x    # not"
   ]
  },
  {
   "cell_type": "code",
   "execution_count": 8,
   "metadata": {
    "colab": {
     "base_uri": "https://localhost:8080/"
    },
    "executionInfo": {
     "elapsed": 29,
     "status": "ok",
     "timestamp": 1648831503971,
     "user": {
      "displayName": "wien hong",
      "userId": "11131435925814580522"
     },
     "user_tz": -480
    },
    "id": "GMrXGya79cdj",
    "outputId": "3be7c5bb-cdb2-4ba7-f7d1-82d93b0d8dc3"
   },
   "outputs": [
    {
     "data": {
      "text/plain": [
       "4"
      ]
     },
     "execution_count": 8,
     "metadata": {},
     "output_type": "execute_result"
    }
   ],
   "source": [
    "#(d)\n",
    "x^y   # xor"
   ]
  },
  {
   "cell_type": "code",
   "execution_count": 9,
   "metadata": {
    "colab": {
     "base_uri": "https://localhost:8080/"
    },
    "executionInfo": {
     "elapsed": 25,
     "status": "ok",
     "timestamp": 1648831503971,
     "user": {
      "displayName": "wien hong",
      "userId": "11131435925814580522"
     },
     "user_tz": -480
    },
    "id": "c89Oo-Z19fTM",
    "outputId": "9d184cb9-feb4-48f1-eb91-e1da776414d8"
   },
   "outputs": [
    {
     "data": {
      "text/plain": [
       "3"
      ]
     },
     "execution_count": 9,
     "metadata": {},
     "output_type": "execute_result"
    }
   ],
   "source": [
    "#(e)\n",
    "x>>2  # right-shift"
   ]
  },
  {
   "cell_type": "code",
   "execution_count": 10,
   "metadata": {
    "colab": {
     "base_uri": "https://localhost:8080/"
    },
    "executionInfo": {
     "elapsed": 446,
     "status": "ok",
     "timestamp": 1648831504394,
     "user": {
      "displayName": "wien hong",
      "userId": "11131435925814580522"
     },
     "user_tz": -480
    },
    "id": "MhUHyLCT9ia3",
    "outputId": "b8e84359-1e19-41c1-c752-66f19c4571ed"
   },
   "outputs": [
    {
     "data": {
      "text/plain": [
       "48"
      ]
     },
     "execution_count": 10,
     "metadata": {},
     "output_type": "execute_result"
    }
   ],
   "source": [
    "#(f)\n",
    "x<<2  # left-shift"
   ]
  },
  {
   "cell_type": "code",
   "execution_count": 11,
   "metadata": {
    "colab": {
     "base_uri": "https://localhost:8080/"
    },
    "executionInfo": {
     "elapsed": 152,
     "status": "ok",
     "timestamp": 1648831504395,
     "user": {
      "displayName": "wien hong",
      "userId": "11131435925814580522"
     },
     "user_tz": -480
    },
    "id": "_Hh79xZ49mpE",
    "outputId": "96ead746-cfab-49d1-8d6f-ffd08151017d"
   },
   "outputs": [
    {
     "data": {
      "text/plain": [
       "-9"
      ]
     },
     "execution_count": 11,
     "metadata": {},
     "output_type": "execute_result"
    }
   ],
   "source": [
    "#(g)\n",
    "~y    # not"
   ]
  },
  {
   "cell_type": "code",
   "execution_count": 12,
   "metadata": {
    "colab": {
     "base_uri": "https://localhost:8080/"
    },
    "executionInfo": {
     "elapsed": 150,
     "status": "ok",
     "timestamp": 1648831504396,
     "user": {
      "displayName": "wien hong",
      "userId": "11131435925814580522"
     },
     "user_tz": -480
    },
    "id": "w_k7MfbO9pmX",
    "outputId": "f4cfdfaf-8dcd-4f66-a723-389da751dc65"
   },
   "outputs": [
    {
     "data": {
      "text/plain": [
       "2"
      ]
     },
     "execution_count": 12,
     "metadata": {},
     "output_type": "execute_result"
    }
   ],
   "source": [
    "#(h)\n",
    "y>>2"
   ]
  },
  {
   "cell_type": "code",
   "execution_count": 13,
   "metadata": {
    "colab": {
     "base_uri": "https://localhost:8080/"
    },
    "executionInfo": {
     "elapsed": 148,
     "status": "ok",
     "timestamp": 1648831504397,
     "user": {
      "displayName": "wien hong",
      "userId": "11131435925814580522"
     },
     "user_tz": -480
    },
    "id": "6uULIUZv9rgG",
    "outputId": "a2beb3b3-2e09-4e37-ed37-70b9136884a8"
   },
   "outputs": [
    {
     "data": {
      "text/plain": [
       "32"
      ]
     },
     "execution_count": 13,
     "metadata": {},
     "output_type": "execute_result"
    }
   ],
   "source": [
    "#(i)\n",
    "y<<2"
   ]
  },
  {
   "cell_type": "markdown",
   "metadata": {
    "id": "DKG-w2o-KLka"
   },
   "source": [
    "### 2.4 變數的設值與運算的優先順序"
   ]
  },
  {
   "cell_type": "markdown",
   "metadata": {
    "id": "X1k4BdoGsC1T"
   },
   "source": [
    "#### 第11題"
   ]
  },
  {
   "cell_type": "code",
   "execution_count": 14,
   "metadata": {
    "colab": {
     "base_uri": "https://localhost:8080/"
    },
    "executionInfo": {
     "elapsed": 133,
     "status": "ok",
     "timestamp": 1648831504401,
     "user": {
      "displayName": "wien hong",
      "userId": "11131435925814580522"
     },
     "user_tz": -480
    },
    "id": "3uMcj2SVBN43",
    "outputId": "5551fdad-e44b-45b4-e20e-ec67a22322e4"
   },
   "outputs": [
    {
     "data": {
      "text/plain": [
       "42"
      ]
     },
     "execution_count": 14,
     "metadata": {},
     "output_type": "execute_result"
    }
   ],
   "source": [
    "#(a)\n",
    "6+3**2*4"
   ]
  },
  {
   "cell_type": "code",
   "execution_count": 15,
   "metadata": {
    "colab": {
     "base_uri": "https://localhost:8080/"
    },
    "executionInfo": {
     "elapsed": 128,
     "status": "ok",
     "timestamp": 1648831504401,
     "user": {
      "displayName": "wien hong",
      "userId": "11131435925814580522"
     },
     "user_tz": -480
    },
    "id": "mvDa22EdCCRx",
    "outputId": "5ef76f69-9b85-43f3-cc50-982c663125c4"
   },
   "outputs": [
    {
     "data": {
      "text/plain": [
       "13.0"
      ]
     },
     "execution_count": 15,
     "metadata": {},
     "output_type": "execute_result"
    }
   ],
   "source": [
    "#(b)\n",
    "15/3+4*4/2"
   ]
  },
  {
   "cell_type": "code",
   "execution_count": 16,
   "metadata": {
    "colab": {
     "base_uri": "https://localhost:8080/"
    },
    "executionInfo": {
     "elapsed": 130,
     "status": "ok",
     "timestamp": 1648831504406,
     "user": {
      "displayName": "wien hong",
      "userId": "11131435925814580522"
     },
     "user_tz": -480
    },
    "id": "QwNc7emRCe9p",
    "outputId": "cc5c52ed-6dff-432b-fb52-b25f2f3ff4e2"
   },
   "outputs": [
    {
     "data": {
      "text/plain": [
       "False"
      ]
     },
     "execution_count": 16,
     "metadata": {},
     "output_type": "execute_result"
    }
   ],
   "source": [
    "#(c)\n",
    "6>2+5"
   ]
  },
  {
   "cell_type": "markdown",
   "metadata": {
    "id": "KQCA5hsZKQCt"
   },
   "source": [
    "### 2.5 型別轉換"
   ]
  },
  {
   "cell_type": "markdown",
   "metadata": {
    "id": "KA83ie3_sKWz"
   },
   "source": [
    "#### 第13題"
   ]
  },
  {
   "cell_type": "code",
   "execution_count": 17,
   "metadata": {
    "colab": {
     "base_uri": "https://localhost:8080/"
    },
    "executionInfo": {
     "elapsed": 131,
     "status": "ok",
     "timestamp": 1648831504418,
     "user": {
      "displayName": "wien hong",
      "userId": "11131435925814580522"
     },
     "user_tz": -480
    },
    "id": "S2CiS2E9umcy",
    "outputId": "63645a74-9d32-4d5b-cbf4-ee342050724e"
   },
   "outputs": [
    {
     "data": {
      "text/plain": [
       "3"
      ]
     },
     "execution_count": 17,
     "metadata": {},
     "output_type": "execute_result"
    }
   ],
   "source": [
    "#(a)\n",
    "2+True    # 隱式，python將True轉為1，2+1=3"
   ]
  },
  {
   "cell_type": "code",
   "execution_count": 18,
   "metadata": {
    "colab": {
     "base_uri": "https://localhost:8080/"
    },
    "executionInfo": {
     "elapsed": 131,
     "status": "ok",
     "timestamp": 1648831504421,
     "user": {
      "displayName": "wien hong",
      "userId": "11131435925814580522"
     },
     "user_tz": -480
    },
    "id": "Yl64ivasvsfz",
    "outputId": "b07fcfdc-63eb-4d07-a68c-abe3f9c4f61b"
   },
   "outputs": [
    {
     "data": {
      "text/plain": [
       "23"
      ]
     },
     "execution_count": 18,
     "metadata": {},
     "output_type": "execute_result"
    }
   ],
   "source": [
    "#(b)\n",
    "6+int(17.4) # 顯式，透過int告訴Python，我們要取的是整數，因此 6+17=23"
   ]
  },
  {
   "cell_type": "code",
   "execution_count": 19,
   "metadata": {
    "colab": {
     "base_uri": "https://localhost:8080/"
    },
    "executionInfo": {
     "elapsed": 129,
     "status": "ok",
     "timestamp": 1648831504422,
     "user": {
      "displayName": "wien hong",
      "userId": "11131435925814580522"
     },
     "user_tz": -480
    },
    "id": "KPtpiOY0yBTl",
    "outputId": "6cf713bc-b3ba-471d-87f1-5dd3c3d58e8f"
   },
   "outputs": [
    {
     "data": {
      "text/plain": [
       "27.5"
      ]
     },
     "execution_count": 19,
     "metadata": {},
     "output_type": "execute_result"
    }
   ],
   "source": [
    "#(c)\n",
    "21+6.5    # 隱式，直接把21轉成浮點數為21.0，因此 21.0+6.5=27.5"
   ]
  },
  {
   "cell_type": "code",
   "execution_count": 20,
   "metadata": {
    "colab": {
     "base_uri": "https://localhost:8080/",
     "height": 35
    },
    "executionInfo": {
     "elapsed": 128,
     "status": "ok",
     "timestamp": 1648831504425,
     "user": {
      "displayName": "wien hong",
      "userId": "11131435925814580522"
     },
     "user_tz": -480
    },
    "id": "ZjQAusVeyVB3",
    "outputId": "b0efc8b7-36bc-4beb-a778-141d53b1232c"
   },
   "outputs": [
    {
     "data": {
      "text/plain": [
       "'2piggy'"
      ]
     },
     "execution_count": 20,
     "metadata": {},
     "output_type": "execute_result"
    }
   ],
   "source": [
    "#(d)\n",
    "str(2) + 'piggy' # 顯式，透過str告訴Python，我們要取的是字串'2'，因此得到 '2piggy'"
   ]
  },
  {
   "cell_type": "markdown",
   "metadata": {
    "id": "lhZEPndeKqL5"
   },
   "source": [
    "### 2.6 不同進位數字的轉換"
   ]
  },
  {
   "cell_type": "markdown",
   "metadata": {
    "id": "Rawk5uqgsOWE"
   },
   "source": [
    "#### 第15題\n",
    ">將10進位的整數1024分別轉成2進位、8進位和16進位"
   ]
  },
  {
   "cell_type": "code",
   "execution_count": 21,
   "metadata": {
    "colab": {
     "base_uri": "https://localhost:8080/",
     "height": 35
    },
    "executionInfo": {
     "elapsed": 104,
     "status": "ok",
     "timestamp": 1648831504428,
     "user": {
      "displayName": "wien hong",
      "userId": "11131435925814580522"
     },
     "user_tz": -480
    },
    "id": "Gk-o68au0f3d",
    "outputId": "52688150-6855-4e16-81ad-1199cf8302ed"
   },
   "outputs": [
    {
     "data": {
      "text/plain": [
       "'0b10000000000'"
      ]
     },
     "execution_count": 21,
     "metadata": {},
     "output_type": "execute_result"
    }
   ],
   "source": [
    "bin(1024)   #2 進位"
   ]
  },
  {
   "cell_type": "code",
   "execution_count": 22,
   "metadata": {
    "colab": {
     "base_uri": "https://localhost:8080/",
     "height": 35
    },
    "executionInfo": {
     "elapsed": 103,
     "status": "ok",
     "timestamp": 1648831504429,
     "user": {
      "displayName": "wien hong",
      "userId": "11131435925814580522"
     },
     "user_tz": -480
    },
    "id": "m9fr_xPY0m1k",
    "outputId": "1a74e639-97ec-4e87-a389-7bff639e12cb"
   },
   "outputs": [
    {
     "data": {
      "text/plain": [
       "'0o2000'"
      ]
     },
     "execution_count": 22,
     "metadata": {},
     "output_type": "execute_result"
    }
   ],
   "source": [
    "oct(1024)   #8 進位"
   ]
  },
  {
   "cell_type": "code",
   "execution_count": 23,
   "metadata": {
    "colab": {
     "base_uri": "https://localhost:8080/",
     "height": 35
    },
    "executionInfo": {
     "elapsed": 102,
     "status": "ok",
     "timestamp": 1648831504429,
     "user": {
      "displayName": "wien hong",
      "userId": "11131435925814580522"
     },
     "user_tz": -480
    },
    "id": "0K0DWR0R0ulK",
    "outputId": "6a8aaba2-307f-4fa4-c166-5bec2b04b82d"
   },
   "outputs": [
    {
     "data": {
      "text/plain": [
       "'0x400'"
      ]
     },
     "execution_count": 23,
     "metadata": {},
     "output_type": "execute_result"
    }
   ],
   "source": [
    "hex(1024)   #16 進位"
   ]
  },
  {
   "cell_type": "markdown",
   "metadata": {
    "id": "Tesh1ohPsQxD"
   },
   "source": [
    "#### 第17題\n",
    ">將2進位的數字0b1001001分別轉成8進位、10進位和16進位"
   ]
  },
  {
   "cell_type": "code",
   "execution_count": 24,
   "metadata": {
    "colab": {
     "base_uri": "https://localhost:8080/",
     "height": 35
    },
    "executionInfo": {
     "elapsed": 96,
     "status": "ok",
     "timestamp": 1648831504433,
     "user": {
      "displayName": "wien hong",
      "userId": "11131435925814580522"
     },
     "user_tz": -480
    },
    "id": "y2hTnJZN9qrq",
    "outputId": "293668ec-b91d-4d36-9031-3c606628fbd4"
   },
   "outputs": [
    {
     "data": {
      "text/plain": [
       "'0o111'"
      ]
     },
     "execution_count": 24,
     "metadata": {},
     "output_type": "execute_result"
    }
   ],
   "source": [
    "oct(0b1001001)   # 8 進位"
   ]
  },
  {
   "cell_type": "code",
   "execution_count": 25,
   "metadata": {
    "colab": {
     "base_uri": "https://localhost:8080/"
    },
    "executionInfo": {
     "elapsed": 95,
     "status": "ok",
     "timestamp": 1648831504434,
     "user": {
      "displayName": "wien hong",
      "userId": "11131435925814580522"
     },
     "user_tz": -480
    },
    "id": "b6Qxnpef3wzK",
    "outputId": "4fe2ca6c-2ec2-4437-ffda-ec3ad4edfbb8"
   },
   "outputs": [
    {
     "data": {
      "text/plain": [
       "36"
      ]
     },
     "execution_count": 25,
     "metadata": {},
     "output_type": "execute_result"
    }
   ],
   "source": [
    "0b100100         # 10 進位 "
   ]
  },
  {
   "cell_type": "code",
   "execution_count": 26,
   "metadata": {
    "colab": {
     "base_uri": "https://localhost:8080/",
     "height": 35
    },
    "executionInfo": {
     "elapsed": 93,
     "status": "ok",
     "timestamp": 1648831504435,
     "user": {
      "displayName": "wien hong",
      "userId": "11131435925814580522"
     },
     "user_tz": -480
    },
    "id": "yeb775Np5yUl",
    "outputId": "d3d85f91-818b-4637-ea7c-02c42970eeac"
   },
   "outputs": [
    {
     "data": {
      "text/plain": [
       "'0x49'"
      ]
     },
     "execution_count": 26,
     "metadata": {},
     "output_type": "execute_result"
    }
   ],
   "source": [
    "hex(0b1001001)   # 16 進位"
   ]
  },
  {
   "cell_type": "markdown",
   "metadata": {
    "id": "aVH0hcSFK5BM"
   },
   "source": [
    "### 2.7 輸出與輸入函數"
   ]
  },
  {
   "cell_type": "markdown",
   "metadata": {
    "id": "mDl8vof-sS51"
   },
   "source": [
    "#### 第19題"
   ]
  },
  {
   "cell_type": "code",
   "execution_count": 27,
   "metadata": {
    "id": "KuC7744Jwhyu"
   },
   "outputs": [],
   "source": [
    "a, b = 12670, 12.344"
   ]
  },
  {
   "cell_type": "code",
   "execution_count": 28,
   "metadata": {
    "colab": {
     "base_uri": "https://localhost:8080/"
    },
    "executionInfo": {
     "elapsed": 878,
     "status": "ok",
     "timestamp": 1648831505242,
     "user": {
      "displayName": "wien hong",
      "userId": "11131435925814580522"
     },
     "user_tz": -480
    },
    "id": "rOwvlLybweXv",
    "outputId": "1b34a937-d5b5-4eba-cc60-4ce7ac0ae3f3"
   },
   "outputs": [
    {
     "name": "stdout",
     "output_type": "stream",
     "text": [
      "a=  12670,b= 12.34\n"
     ]
    }
   ],
   "source": [
    "#(a)\n",
    "print(f'a={a:>7},b={b:6.2f}')          "
   ]
  },
  {
   "cell_type": "code",
   "execution_count": 29,
   "metadata": {
    "colab": {
     "base_uri": "https://localhost:8080/"
    },
    "executionInfo": {
     "elapsed": 33,
     "status": "ok",
     "timestamp": 1648831505243,
     "user": {
      "displayName": "wien hong",
      "userId": "11131435925814580522"
     },
     "user_tz": -480
    },
    "id": "KyjEVPS4CiZE",
    "outputId": "72f95b9b-1ec8-4418-9481-66ddd8ff616a"
   },
   "outputs": [
    {
     "name": "stdout",
     "output_type": "stream",
     "text": [
      "a= +12670,b=012.34\n"
     ]
    }
   ],
   "source": [
    "#(b)\n",
    "print(f'a={a:>+7},b={b:06.2f}')        "
   ]
  },
  {
   "cell_type": "code",
   "execution_count": 30,
   "metadata": {
    "colab": {
     "base_uri": "https://localhost:8080/"
    },
    "executionInfo": {
     "elapsed": 27,
     "status": "ok",
     "timestamp": 1648831505244,
     "user": {
      "displayName": "wien hong",
      "userId": "11131435925814580522"
     },
     "user_tz": -480
    },
    "id": "-_NiPXfODl-G",
    "outputId": "d85ffdef-7eaf-4f27-a0a8-4ee82841ed7a"
   },
   "outputs": [
    {
     "name": "stdout",
     "output_type": "stream",
     "text": [
      "a=+12,670,b=0012.3\n"
     ]
    }
   ],
   "source": [
    "#(c)\n",
    "print(f'a={a:+7,},b={b:06.1f}')        "
   ]
  },
  {
   "cell_type": "code",
   "execution_count": 31,
   "metadata": {
    "colab": {
     "base_uri": "https://localhost:8080/"
    },
    "executionInfo": {
     "elapsed": 20,
     "status": "ok",
     "timestamp": 1648831505245,
     "user": {
      "displayName": "wien hong",
      "userId": "11131435925814580522"
     },
     "user_tz": -480
    },
    "id": "kDgzskHtEd-A",
    "outputId": "b33cc49b-b85c-410d-b58d-c51c6d92d0c2"
   },
   "outputs": [
    {
     "name": "stdout",
     "output_type": "stream",
     "text": [
      "a=012,670,b=   +12\n"
     ]
    }
   ],
   "source": [
    "#(d)\n",
    "print(f'a={a:07,},b={b:>+6.0f}')       "
   ]
  },
  {
   "cell_type": "code",
   "execution_count": 32,
   "metadata": {
    "colab": {
     "base_uri": "https://localhost:8080/"
    },
    "executionInfo": {
     "elapsed": 15,
     "status": "ok",
     "timestamp": 1648831505245,
     "user": {
      "displayName": "wien hong",
      "userId": "11131435925814580522"
     },
     "user_tz": -480
    },
    "id": "c3azJpdzHMlP",
    "outputId": "7c21e4b3-7ae9-45e5-d05b-ec34681f728a"
   },
   "outputs": [
    {
     "name": "stdout",
     "output_type": "stream",
     "text": [
      "a={12670},b='  12'\n"
     ]
    }
   ],
   "source": [
    "#(e)\n",
    "print(f'a={{{a:>5}}},b=\\'{b:>4.0f}\\'') "
   ]
  },
  {
   "cell_type": "markdown",
   "metadata": {
    "id": "Au1bPp14sUwV"
   },
   "source": [
    "#### 第21題"
   ]
  },
  {
   "cell_type": "code",
   "execution_count": 33,
   "metadata": {
    "colab": {
     "base_uri": "https://localhost:8080/",
     "height": 53
    },
    "executionInfo": {
     "elapsed": 2770,
     "status": "ok",
     "timestamp": 1648831513156,
     "user": {
      "displayName": "wien hong",
      "userId": "11131435925814580522"
     },
     "user_tz": -480
    },
    "id": "KIwizII_wX9f",
    "outputId": "c38d4c2a-9536-406d-c679-27b273ce5946"
   },
   "outputs": [
    {
     "name": "stdin",
     "output_type": "stream",
     "text": [
      "input an integer: 564\n"
     ]
    },
    {
     "data": {
      "text/plain": [
       "'0b1000110100'"
      ]
     },
     "execution_count": 33,
     "metadata": {},
     "output_type": "execute_result"
    }
   ],
   "source": [
    "num=input('input an integer:')\n",
    "bin(int(num))"
   ]
  }
 ],
 "metadata": {
  "colab": {
   "collapsed_sections": [],
   "name": "ch02-習題參考答案.ipynb",
   "provenance": [
    {
     "file_id": "16Xy3tQEs--QmMdmIlpnykJwkCdHidJTz",
     "timestamp": 1634435799000
    }
   ]
  },
  "kernelspec": {
   "display_name": "Python 3 (ipykernel)",
   "language": "python",
   "name": "python3"
  },
  "language_info": {
   "codemirror_mode": {
    "name": "ipython",
    "version": 3
   },
   "file_extension": ".py",
   "mimetype": "text/x-python",
   "name": "python",
   "nbconvert_exporter": "python",
   "pygments_lexer": "ipython3",
   "version": "3.8.9"
  }
 },
 "nbformat": 4,
 "nbformat_minor": 4
}

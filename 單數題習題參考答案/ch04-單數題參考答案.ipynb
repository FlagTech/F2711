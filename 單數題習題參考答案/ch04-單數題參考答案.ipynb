{
 "cells": [
  {
   "cell_type": "markdown",
   "metadata": {
    "id": "a_4w6qvHvJ2Z"
   },
   "source": [
    "## 第四章 容器資料型別"
   ]
  },
  {
   "cell_type": "markdown",
   "metadata": {
    "id": "-lzwOLaFehE8"
   },
   "source": [
    "### 4.1 list 資料型別"
   ]
  },
  {
   "cell_type": "markdown",
   "metadata": {
    "id": "fWO_wQyvvYtf"
   },
   "source": [
    "#### 第1題"
   ]
  },
  {
   "cell_type": "code",
   "execution_count": 1,
   "metadata": {
    "colab": {
     "base_uri": "https://localhost:8080/"
    },
    "executionInfo": {
     "elapsed": 20,
     "status": "ok",
     "timestamp": 1648870808035,
     "user": {
      "displayName": "wien hong",
      "userId": "11131435925814580522"
     },
     "user_tz": -480
    },
    "id": "of_x_-vCvZ1o",
    "outputId": "8e4b1015-9f06-412a-fae7-fa827b77b99e"
   },
   "outputs": [
    {
     "data": {
      "text/plain": [
       "[1, 3, 5, 7, 9, 11, 13, 15, 17, 19]"
      ]
     },
     "execution_count": 1,
     "metadata": {},
     "output_type": "execute_result"
    }
   ],
   "source": [
    "list(range(1,20,2))"
   ]
  },
  {
   "cell_type": "markdown",
   "metadata": {
    "id": "HJX1h7dmwZYU"
   },
   "source": [
    "#### 第3題"
   ]
  },
  {
   "cell_type": "code",
   "execution_count": 2,
   "metadata": {
    "colab": {
     "base_uri": "https://localhost:8080/"
    },
    "executionInfo": {
     "elapsed": 87,
     "status": "ok",
     "timestamp": 1634451650310,
     "user": {
      "displayName": "wien hong",
      "photoUrl": "https://lh3.googleusercontent.com/a/default-user=s64",
      "userId": "11131435925814580522"
     },
     "user_tz": -480
    },
    "id": "FrxwYwWNxIpe",
    "outputId": "dbd92c80-6767-4574-bb8f-8b097015f293"
   },
   "outputs": [
    {
     "data": {
      "text/plain": [
       "[100, 104, 108, 112, 116, 120]"
      ]
     },
     "execution_count": 2,
     "metadata": {},
     "output_type": "execute_result"
    }
   ],
   "source": [
    "#(a)\n",
    "list(range(100,121,4))"
   ]
  },
  {
   "cell_type": "code",
   "execution_count": 3,
   "metadata": {
    "colab": {
     "base_uri": "https://localhost:8080/"
    },
    "executionInfo": {
     "elapsed": 288,
     "status": "ok",
     "timestamp": 1648870933876,
     "user": {
      "displayName": "wien hong",
      "userId": "11131435925814580522"
     },
     "user_tz": -480
    },
    "id": "4rvbC9IryTfB",
    "outputId": "0319dfe4-ae30-45ea-a936-05fdc2e537be"
   },
   "outputs": [
    {
     "data": {
      "text/plain": [
       "[-1, -2, -3, -4, -5, -6, -7, -8, -9]"
      ]
     },
     "execution_count": 3,
     "metadata": {},
     "output_type": "execute_result"
    }
   ],
   "source": [
    "#(b)\n",
    "list(range(-1,-10,-1))         "
   ]
  },
  {
   "cell_type": "code",
   "execution_count": 4,
   "metadata": {
    "colab": {
     "base_uri": "https://localhost:8080/"
    },
    "executionInfo": {
     "elapsed": 269,
     "status": "ok",
     "timestamp": 1648870957150,
     "user": {
      "displayName": "wien hong",
      "userId": "11131435925814580522"
     },
     "user_tz": -480
    },
    "id": "_JuJx_A9yhzE",
    "outputId": "c96d40d9-afeb-4cc8-c5aa-feb919fd391c"
   },
   "outputs": [
    {
     "data": {
      "text/plain": [
       "[-1, -4, -7, -10, -13, -16, -19]"
      ]
     },
     "execution_count": 4,
     "metadata": {},
     "output_type": "execute_result"
    }
   ],
   "source": [
    "#(c)\n",
    "list(range(-1,-20,-3))"
   ]
  },
  {
   "cell_type": "code",
   "execution_count": 5,
   "metadata": {
    "colab": {
     "base_uri": "https://localhost:8080/"
    },
    "executionInfo": {
     "elapsed": 10,
     "status": "ok",
     "timestamp": 1648870982282,
     "user": {
      "displayName": "wien hong",
      "userId": "11131435925814580522"
     },
     "user_tz": -480
    },
    "id": "Who35Yq0ys9w",
    "outputId": "9eca6c88-7d95-40ed-ec0f-0dc9579d3fe7"
   },
   "outputs": [
    {
     "data": {
      "text/plain": [
       "[10, 19, 28, 37, 46, 55, 64]"
      ]
     },
     "execution_count": 5,
     "metadata": {},
     "output_type": "execute_result"
    }
   ],
   "source": [
    "#(d)\n",
    "list(range(10,65,9))"
   ]
  },
  {
   "cell_type": "markdown",
   "metadata": {
    "id": "MKaoGUi_wjHe"
   },
   "source": [
    "#### 第5題"
   ]
  },
  {
   "cell_type": "code",
   "execution_count": 6,
   "metadata": {
    "colab": {
     "base_uri": "https://localhost:8080/"
    },
    "executionInfo": {
     "elapsed": 4,
     "status": "ok",
     "timestamp": 1648879060310,
     "user": {
      "displayName": "wien hong",
      "userId": "11131435925814580522"
     },
     "user_tz": -480
    },
    "id": "jI6tzgqn_2MX",
    "outputId": "843bd85c-aac4-4d35-c855-8e87bd2951ab"
   },
   "outputs": [
    {
     "name": "stdout",
     "output_type": "stream",
     "text": [
      "[43, 12, 12, 34, 2, 12]\n",
      "3\n"
     ]
    }
   ],
   "source": [
    "#(a)\n",
    "lst=[43,12,12,34]\n",
    "lst.extend([2,12])\n",
    "print(lst)\n",
    "print(lst.count(12))"
   ]
  },
  {
   "cell_type": "code",
   "execution_count": 7,
   "metadata": {
    "colab": {
     "base_uri": "https://localhost:8080/"
    },
    "executionInfo": {
     "elapsed": 375,
     "status": "ok",
     "timestamp": 1648879073575,
     "user": {
      "displayName": "wien hong",
      "userId": "11131435925814580522"
     },
     "user_tz": -480
    },
    "id": "JJ7eVrn-Astn",
    "outputId": "5d1d6c1f-26e3-4dab-e2a4-28a369973d2d"
   },
   "outputs": [
    {
     "data": {
      "text/plain": [
       "[43, 12, 12, 34, [25, 99]]"
      ]
     },
     "execution_count": 7,
     "metadata": {},
     "output_type": "execute_result"
    }
   ],
   "source": [
    "#(b)\n",
    "lst=[43,12,12,34]            \n",
    "lst.append([25,99])\n",
    "lst"
   ]
  },
  {
   "cell_type": "code",
   "execution_count": 8,
   "metadata": {
    "colab": {
     "base_uri": "https://localhost:8080/"
    },
    "executionInfo": {
     "elapsed": 7,
     "status": "ok",
     "timestamp": 1648879095819,
     "user": {
      "displayName": "wien hong",
      "userId": "11131435925814580522"
     },
     "user_tz": -480
    },
    "id": "9YnaatevBhf2",
    "outputId": "32115936-b481-46cf-ba7c-8daa3ebaefea"
   },
   "outputs": [
    {
     "data": {
      "text/plain": [
       "[43, 12, 65, 12, 34]"
      ]
     },
     "execution_count": 8,
     "metadata": {},
     "output_type": "execute_result"
    }
   ],
   "source": [
    "#(c)\n",
    "lst=[43,12,12,34]\n",
    "lst.insert(2,65)\n",
    "lst"
   ]
  },
  {
   "cell_type": "code",
   "execution_count": 9,
   "metadata": {
    "colab": {
     "base_uri": "https://localhost:8080/"
    },
    "executionInfo": {
     "elapsed": 287,
     "status": "ok",
     "timestamp": 1648879122858,
     "user": {
      "displayName": "wien hong",
      "userId": "11131435925814580522"
     },
     "user_tz": -480
    },
    "id": "tr_WjJepDTd_",
    "outputId": "f297ca63-d721-4185-ab46-95ec4ec63b9f"
   },
   "outputs": [
    {
     "data": {
      "text/plain": [
       "[43, 34]"
      ]
     },
     "execution_count": 9,
     "metadata": {},
     "output_type": "execute_result"
    }
   ],
   "source": [
    "#(d)\n",
    "lst=[43,12,12,34]\n",
    "lst.remove(12)\n",
    "lst.remove(12)\n",
    "lst"
   ]
  },
  {
   "cell_type": "code",
   "execution_count": 10,
   "metadata": {
    "colab": {
     "base_uri": "https://localhost:8080/"
    },
    "executionInfo": {
     "elapsed": 318,
     "status": "ok",
     "timestamp": 1648879386213,
     "user": {
      "displayName": "wien hong",
      "userId": "11131435925814580522"
     },
     "user_tz": -480
    },
    "id": "kRSfcS1EeM8L",
    "outputId": "480e93b5-1c7b-46e2-bb39-28c32bfed36a"
   },
   "outputs": [
    {
     "data": {
      "text/plain": [
       "[43, 34, 12, 12]"
      ]
     },
     "execution_count": 10,
     "metadata": {},
     "output_type": "execute_result"
    }
   ],
   "source": [
    "#(e)\n",
    "lst=[43,12,12,34] \n",
    "lst.sort(reverse=True)\n",
    "lst"
   ]
  },
  {
   "cell_type": "code",
   "execution_count": 11,
   "metadata": {
    "colab": {
     "base_uri": "https://localhost:8080/"
    },
    "executionInfo": {
     "elapsed": 322,
     "status": "ok",
     "timestamp": 1648879457359,
     "user": {
      "displayName": "wien hong",
      "userId": "11131435925814580522"
     },
     "user_tz": -480
    },
    "id": "-aeqPajBea5b",
    "outputId": "f5e190ba-1342-4c46-cd94-6f5239aa48d0"
   },
   "outputs": [
    {
     "data": {
      "text/plain": [
       "[43, 12]"
      ]
     },
     "execution_count": 11,
     "metadata": {},
     "output_type": "execute_result"
    }
   ],
   "source": [
    "lst=[43,12,12,34]\n",
    "lst.pop(-1)\n",
    "lst.pop(2)\n",
    "lst"
   ]
  },
  {
   "cell_type": "markdown",
   "metadata": {
    "id": "xohviWg9woWX"
   },
   "source": [
    "#### 第7題"
   ]
  },
  {
   "cell_type": "code",
   "execution_count": 12,
   "metadata": {
    "id": "gGGsgTh4jxjc"
   },
   "outputs": [],
   "source": [
    "lst=[[17,21],[98,12],[33,[44,[21,38,35]]],[35,42]]"
   ]
  },
  {
   "cell_type": "code",
   "execution_count": 13,
   "metadata": {
    "colab": {
     "base_uri": "https://localhost:8080/"
    },
    "executionInfo": {
     "elapsed": 287,
     "status": "ok",
     "timestamp": 1648879769266,
     "user": {
      "displayName": "wien hong",
      "userId": "11131435925814580522"
     },
     "user_tz": -480
    },
    "id": "_l7CBF8LkzLs",
    "outputId": "380e32d0-ae11-4aca-f567-62348c23864e"
   },
   "outputs": [
    {
     "data": {
      "text/plain": [
       "[17, 21]"
      ]
     },
     "execution_count": 13,
     "metadata": {},
     "output_type": "execute_result"
    }
   ],
   "source": [
    "#(a)\n",
    "lst[0]"
   ]
  },
  {
   "cell_type": "code",
   "execution_count": 14,
   "metadata": {
    "colab": {
     "base_uri": "https://localhost:8080/"
    },
    "executionInfo": {
     "elapsed": 278,
     "status": "ok",
     "timestamp": 1648879772764,
     "user": {
      "displayName": "wien hong",
      "userId": "11131435925814580522"
     },
     "user_tz": -480
    },
    "id": "56j_2nFEq15F",
    "outputId": "5bee81a6-8953-4fe0-fe1f-8e761ceb8ca2"
   },
   "outputs": [
    {
     "data": {
      "text/plain": [
       "21"
      ]
     },
     "execution_count": 14,
     "metadata": {},
     "output_type": "execute_result"
    }
   ],
   "source": [
    "#(b)\n",
    "lst[0][1]        "
   ]
  },
  {
   "cell_type": "code",
   "execution_count": 15,
   "metadata": {
    "colab": {
     "base_uri": "https://localhost:8080/"
    },
    "executionInfo": {
     "elapsed": 280,
     "status": "ok",
     "timestamp": 1648879776503,
     "user": {
      "displayName": "wien hong",
      "userId": "11131435925814580522"
     },
     "user_tz": -480
    },
    "id": "BaTOBwW_7IDU",
    "outputId": "2c7ea4e5-d446-4f47-bc62-961ec954ac40"
   },
   "outputs": [
    {
     "data": {
      "text/plain": [
       "33"
      ]
     },
     "execution_count": 15,
     "metadata": {},
     "output_type": "execute_result"
    }
   ],
   "source": [
    "#(c)\n",
    "lst[2][0]        "
   ]
  },
  {
   "cell_type": "code",
   "execution_count": 16,
   "metadata": {
    "colab": {
     "base_uri": "https://localhost:8080/"
    },
    "executionInfo": {
     "elapsed": 281,
     "status": "ok",
     "timestamp": 1648879779110,
     "user": {
      "displayName": "wien hong",
      "userId": "11131435925814580522"
     },
     "user_tz": -480
    },
    "id": "X5LqNZV07UxD",
    "outputId": "a44c0a77-b703-4851-ea61-e56584d8d8ca"
   },
   "outputs": [
    {
     "data": {
      "text/plain": [
       "[35, 42]"
      ]
     },
     "execution_count": 16,
     "metadata": {},
     "output_type": "execute_result"
    }
   ],
   "source": [
    "#(d)\n",
    "lst[3]           "
   ]
  },
  {
   "cell_type": "code",
   "execution_count": 17,
   "metadata": {
    "colab": {
     "base_uri": "https://localhost:8080/"
    },
    "executionInfo": {
     "elapsed": 298,
     "status": "ok",
     "timestamp": 1648879780814,
     "user": {
      "displayName": "wien hong",
      "userId": "11131435925814580522"
     },
     "user_tz": -480
    },
    "id": "Ecqul5Kt79h1",
    "outputId": "c0ee4c2d-722a-42c5-c611-3b82942e68e3"
   },
   "outputs": [
    {
     "data": {
      "text/plain": [
       "98"
      ]
     },
     "execution_count": 17,
     "metadata": {},
     "output_type": "execute_result"
    }
   ],
   "source": [
    "#(e)\n",
    "lst[1][0]        "
   ]
  },
  {
   "cell_type": "code",
   "execution_count": 18,
   "metadata": {
    "colab": {
     "base_uri": "https://localhost:8080/"
    },
    "executionInfo": {
     "elapsed": 11,
     "status": "ok",
     "timestamp": 1648879782720,
     "user": {
      "displayName": "wien hong",
      "userId": "11131435925814580522"
     },
     "user_tz": -480
    },
    "id": "LeSdnp_Y-6L6",
    "outputId": "e08ab062-0768-4ae2-9861-3be2255ffa53"
   },
   "outputs": [
    {
     "data": {
      "text/plain": [
       "44"
      ]
     },
     "execution_count": 18,
     "metadata": {},
     "output_type": "execute_result"
    }
   ],
   "source": [
    "#(f)\n",
    "lst[2][1][0]     "
   ]
  },
  {
   "cell_type": "code",
   "execution_count": 19,
   "metadata": {
    "colab": {
     "base_uri": "https://localhost:8080/"
    },
    "executionInfo": {
     "elapsed": 296,
     "status": "ok",
     "timestamp": 1648879784452,
     "user": {
      "displayName": "wien hong",
      "userId": "11131435925814580522"
     },
     "user_tz": -480
    },
    "id": "O9Nk0yaXxmQ7",
    "outputId": "1db0b385-6757-47a8-cb02-e58de5bc6aed"
   },
   "outputs": [
    {
     "data": {
      "text/plain": [
       "[21, 38, 35]"
      ]
     },
     "execution_count": 19,
     "metadata": {},
     "output_type": "execute_result"
    }
   ],
   "source": [
    "#(g)\n",
    "lst[2][1][1]     "
   ]
  },
  {
   "cell_type": "code",
   "execution_count": 20,
   "metadata": {
    "colab": {
     "base_uri": "https://localhost:8080/"
    },
    "executionInfo": {
     "elapsed": 298,
     "status": "ok",
     "timestamp": 1648879787759,
     "user": {
      "displayName": "wien hong",
      "userId": "11131435925814580522"
     },
     "user_tz": -480
    },
    "id": "W1cE_cW3MTXR",
    "outputId": "0393f426-539b-4359-a969-c4fc239c6627"
   },
   "outputs": [
    {
     "data": {
      "text/plain": [
       "[38, 35]"
      ]
     },
     "execution_count": 20,
     "metadata": {},
     "output_type": "execute_result"
    }
   ],
   "source": [
    "#(h)\n",
    "lst[2][1][1][1:] "
   ]
  },
  {
   "cell_type": "code",
   "execution_count": 21,
   "metadata": {
    "colab": {
     "base_uri": "https://localhost:8080/"
    },
    "executionInfo": {
     "elapsed": 10,
     "status": "ok",
     "timestamp": 1648879789858,
     "user": {
      "displayName": "wien hong",
      "userId": "11131435925814580522"
     },
     "user_tz": -480
    },
    "id": "GGFCqnLcMKeo",
    "outputId": "bab2ed68-7a6e-4db7-d2bb-6580f1a14400"
   },
   "outputs": [
    {
     "data": {
      "text/plain": [
       "[21, 38]"
      ]
     },
     "execution_count": 21,
     "metadata": {},
     "output_type": "execute_result"
    }
   ],
   "source": [
    "#(i)\n",
    "lst[2][1][1][0:2] "
   ]
  },
  {
   "cell_type": "code",
   "execution_count": 22,
   "metadata": {
    "colab": {
     "base_uri": "https://localhost:8080/"
    },
    "executionInfo": {
     "elapsed": 289,
     "status": "ok",
     "timestamp": 1648879791587,
     "user": {
      "displayName": "wien hong",
      "userId": "11131435925814580522"
     },
     "user_tz": -480
    },
    "id": "qEQFeS96_f0z",
    "outputId": "6ce160fd-d61a-4a27-808e-f6fe28405e77"
   },
   "outputs": [
    {
     "data": {
      "text/plain": [
       "38"
      ]
     },
     "execution_count": 22,
     "metadata": {},
     "output_type": "execute_result"
    }
   ],
   "source": [
    "#(j)\n",
    "lst[2][1][1][1]   "
   ]
  },
  {
   "cell_type": "code",
   "execution_count": 23,
   "metadata": {
    "colab": {
     "base_uri": "https://localhost:8080/"
    },
    "executionInfo": {
     "elapsed": 302,
     "status": "ok",
     "timestamp": 1648879793163,
     "user": {
      "displayName": "wien hong",
      "userId": "11131435925814580522"
     },
     "user_tz": -480
    },
    "id": "uSN63LTS-riY",
    "outputId": "7bb5d65f-69b5-4f19-f32c-65e41030ce9f"
   },
   "outputs": [
    {
     "data": {
      "text/plain": [
       "[[17, 21], [98, 12]]"
      ]
     },
     "execution_count": 23,
     "metadata": {},
     "output_type": "execute_result"
    }
   ],
   "source": [
    "#(k)\n",
    "[lst[0],lst[1]]   "
   ]
  },
  {
   "cell_type": "code",
   "execution_count": 24,
   "metadata": {
    "colab": {
     "base_uri": "https://localhost:8080/"
    },
    "executionInfo": {
     "elapsed": 11,
     "status": "ok",
     "timestamp": 1648879799147,
     "user": {
      "displayName": "wien hong",
      "userId": "11131435925814580522"
     },
     "user_tz": -480
    },
    "id": "yqiJEolE8Caz",
    "outputId": "82cf2627-849b-4db2-bab0-0cd1df4435d4"
   },
   "outputs": [
    {
     "data": {
      "text/plain": [
       "[44, [21, 38, 35]]"
      ]
     },
     "execution_count": 24,
     "metadata": {},
     "output_type": "execute_result"
    }
   ],
   "source": [
    "#(l)\n",
    "lst[2][1]         "
   ]
  },
  {
   "cell_type": "markdown",
   "metadata": {
    "id": "rV-RDn33eqC0"
   },
   "source": [
    "### 4.2 tuple 資料型別"
   ]
  },
  {
   "cell_type": "markdown",
   "metadata": {
    "id": "ZjBmPs7kwsXX"
   },
   "source": [
    "#### 第9題"
   ]
  },
  {
   "cell_type": "code",
   "execution_count": 25,
   "metadata": {
    "id": "04qYrV2uW64P"
   },
   "outputs": [],
   "source": [
    "tpl=(12,[23,34],(37,0,'cat'))"
   ]
  },
  {
   "cell_type": "code",
   "execution_count": 26,
   "metadata": {
    "colab": {
     "base_uri": "https://localhost:8080/"
    },
    "executionInfo": {
     "elapsed": 282,
     "status": "ok",
     "timestamp": 1648880076536,
     "user": {
      "displayName": "wien hong",
      "userId": "11131435925814580522"
     },
     "user_tz": -480
    },
    "id": "TBWQboFhZ3f1",
    "outputId": "e8a5757f-8792-4460-e030-f1150b0c1aec"
   },
   "outputs": [
    {
     "data": {
      "text/plain": [
       "12"
      ]
     },
     "execution_count": 26,
     "metadata": {},
     "output_type": "execute_result"
    }
   ],
   "source": [
    "#(a)\n",
    "tpl[0]        "
   ]
  },
  {
   "cell_type": "code",
   "execution_count": 27,
   "metadata": {
    "colab": {
     "base_uri": "https://localhost:8080/"
    },
    "executionInfo": {
     "elapsed": 283,
     "status": "ok",
     "timestamp": 1648880081752,
     "user": {
      "displayName": "wien hong",
      "userId": "11131435925814580522"
     },
     "user_tz": -480
    },
    "id": "G9-9nVC6n93i",
    "outputId": "cf79bea9-cea5-447c-b4fe-2fd0d3d1cd16"
   },
   "outputs": [
    {
     "data": {
      "text/plain": [
       "[23, 34]"
      ]
     },
     "execution_count": 27,
     "metadata": {},
     "output_type": "execute_result"
    }
   ],
   "source": [
    "#(b)\n",
    "tpl[1]        "
   ]
  },
  {
   "cell_type": "code",
   "execution_count": 28,
   "metadata": {
    "colab": {
     "base_uri": "https://localhost:8080/"
    },
    "executionInfo": {
     "elapsed": 283,
     "status": "ok",
     "timestamp": 1648880084218,
     "user": {
      "displayName": "wien hong",
      "userId": "11131435925814580522"
     },
     "user_tz": -480
    },
    "id": "g5LCzyIHoCqF",
    "outputId": "676e46a0-61ee-47b1-ebce-b7a21e3354f2"
   },
   "outputs": [
    {
     "data": {
      "text/plain": [
       "(12, [23, 34])"
      ]
     },
     "execution_count": 28,
     "metadata": {},
     "output_type": "execute_result"
    }
   ],
   "source": [
    "#(c)\n",
    "tpl[:2]       "
   ]
  },
  {
   "cell_type": "code",
   "execution_count": 29,
   "metadata": {
    "colab": {
     "base_uri": "https://localhost:8080/",
     "height": 35
    },
    "executionInfo": {
     "elapsed": 284,
     "status": "ok",
     "timestamp": 1648880086754,
     "user": {
      "displayName": "wien hong",
      "userId": "11131435925814580522"
     },
     "user_tz": -480
    },
    "id": "GTVcIXTWrRMR",
    "outputId": "5ad63ab1-e348-44e3-e83d-96f26c0c1e88"
   },
   "outputs": [
    {
     "data": {
      "text/plain": [
       "'cat'"
      ]
     },
     "execution_count": 29,
     "metadata": {},
     "output_type": "execute_result"
    }
   ],
   "source": [
    "#(d)\n",
    "tpl[2][2]     "
   ]
  },
  {
   "cell_type": "code",
   "execution_count": 30,
   "metadata": {
    "colab": {
     "base_uri": "https://localhost:8080/"
    },
    "executionInfo": {
     "elapsed": 14,
     "status": "ok",
     "timestamp": 1648880088676,
     "user": {
      "displayName": "wien hong",
      "userId": "11131435925814580522"
     },
     "user_tz": -480
    },
    "id": "jvy-jRcoraiR",
    "outputId": "0bfd50af-3cbe-4b33-d646-68d869aa648c"
   },
   "outputs": [
    {
     "data": {
      "text/plain": [
       "(0, 'cat')"
      ]
     },
     "execution_count": 30,
     "metadata": {},
     "output_type": "execute_result"
    }
   ],
   "source": [
    "#(e)\n",
    "tpl[2][1:3]   "
   ]
  },
  {
   "cell_type": "code",
   "execution_count": 31,
   "metadata": {
    "colab": {
     "base_uri": "https://localhost:8080/"
    },
    "executionInfo": {
     "elapsed": 15,
     "status": "ok",
     "timestamp": 1648880090694,
     "user": {
      "displayName": "wien hong",
      "userId": "11131435925814580522"
     },
     "user_tz": -480
    },
    "id": "okBINXpGr2SR",
    "outputId": "e5db9bba-20c9-434e-c4a1-4a7bffabd623"
   },
   "outputs": [
    {
     "data": {
      "text/plain": [
       "(37, 0, 'cat')"
      ]
     },
     "execution_count": 31,
     "metadata": {},
     "output_type": "execute_result"
    }
   ],
   "source": [
    "#(f)\n",
    "tpl[2]        "
   ]
  },
  {
   "cell_type": "code",
   "execution_count": 32,
   "metadata": {
    "colab": {
     "base_uri": "https://localhost:8080/"
    },
    "executionInfo": {
     "elapsed": 13,
     "status": "ok",
     "timestamp": 1648880092831,
     "user": {
      "displayName": "wien hong",
      "userId": "11131435925814580522"
     },
     "user_tz": -480
    },
    "id": "VpPsaYOxr6q_",
    "outputId": "f6959f44-f18e-4776-b586-5ab41c46f543"
   },
   "outputs": [
    {
     "data": {
      "text/plain": [
       "0"
      ]
     },
     "execution_count": 32,
     "metadata": {},
     "output_type": "execute_result"
    }
   ],
   "source": [
    "#(g)\n",
    "tpl[2][1]     "
   ]
  },
  {
   "cell_type": "code",
   "execution_count": 33,
   "metadata": {
    "colab": {
     "base_uri": "https://localhost:8080/"
    },
    "executionInfo": {
     "elapsed": 298,
     "status": "ok",
     "timestamp": 1648880094408,
     "user": {
      "displayName": "wien hong",
      "userId": "11131435925814580522"
     },
     "user_tz": -480
    },
    "id": "wHgfsIJvr-sq",
    "outputId": "fd555e3c-3118-457c-c4fa-b8186416ab22"
   },
   "outputs": [
    {
     "data": {
      "text/plain": [
       "34"
      ]
     },
     "execution_count": 33,
     "metadata": {},
     "output_type": "execute_result"
    }
   ],
   "source": [
    "#(h)\n",
    "tpl[1][1]     "
   ]
  },
  {
   "cell_type": "markdown",
   "metadata": {
    "id": "w5qTq3pxeyeE"
   },
   "source": [
    "### 4.3 set 資料型別"
   ]
  },
  {
   "cell_type": "markdown",
   "metadata": {
    "id": "cd9BjCKawwVA"
   },
   "source": [
    "#### 第11題"
   ]
  },
  {
   "cell_type": "markdown",
   "metadata": {
    "id": "3kiruTDZw2fA"
   },
   "source": [
    "* 因為set 集合裡的元素與其子元素必須是immutable，所以(a),(b),(d),(e) 和 (g)均可以用來做為set的元素,其它不行\n",
    "\n"
   ]
  },
  {
   "cell_type": "code",
   "execution_count": 34,
   "metadata": {
    "colab": {
     "base_uri": "https://localhost:8080/"
    },
    "executionInfo": {
     "elapsed": 56,
     "status": "ok",
     "timestamp": 1634451650946,
     "user": {
      "displayName": "wien hong",
      "photoUrl": "https://lh3.googleusercontent.com/a/default-user=s64",
      "userId": "11131435925814580522"
     },
     "user_tz": -480
    },
    "id": "GYzQL2ANoB6B",
    "outputId": "160638c9-966a-4735-9d5e-acd6e1741775"
   },
   "outputs": [
    {
     "data": {
      "text/plain": [
       "{'cat'}"
      ]
     },
     "execution_count": 34,
     "metadata": {},
     "output_type": "execute_result"
    }
   ],
   "source": [
    "#(a))\n",
    "{'cat'}      "
   ]
  },
  {
   "cell_type": "code",
   "execution_count": 35,
   "metadata": {
    "colab": {
     "base_uri": "https://localhost:8080/"
    },
    "executionInfo": {
     "elapsed": 54,
     "status": "ok",
     "timestamp": 1634451650947,
     "user": {
      "displayName": "wien hong",
      "photoUrl": "https://lh3.googleusercontent.com/a/default-user=s64",
      "userId": "11131435925814580522"
     },
     "user_tz": -480
    },
    "id": "GOOdcDmfsh-F",
    "outputId": "dbe4bb61-846b-41fb-fcf3-75151caac871"
   },
   "outputs": [
    {
     "data": {
      "text/plain": [
       "{3.89}"
      ]
     },
     "execution_count": 35,
     "metadata": {},
     "output_type": "execute_result"
    }
   ],
   "source": [
    "#(b)\n",
    "{3.89}       "
   ]
  },
  {
   "cell_type": "code",
   "execution_count": 36,
   "metadata": {
    "id": "ku-5kzQXsmtT"
   },
   "outputs": [],
   "source": [
    "#(c)\n",
    "# {[79,12]}    # 'list' is mutable"
   ]
  },
  {
   "cell_type": "code",
   "execution_count": 37,
   "metadata": {
    "colab": {
     "base_uri": "https://localhost:8080/"
    },
    "executionInfo": {
     "elapsed": 51,
     "status": "ok",
     "timestamp": 1634451650948,
     "user": {
      "displayName": "wien hong",
      "photoUrl": "https://lh3.googleusercontent.com/a/default-user=s64",
      "userId": "11131435925814580522"
     },
     "user_tz": -480
    },
    "id": "v6OWGf3stm6G",
    "outputId": "1c3c0f7a-4a52-4820-cdce-648a4be3f21e"
   },
   "outputs": [
    {
     "data": {
      "text/plain": [
       "{(12, 45)}"
      ]
     },
     "execution_count": 37,
     "metadata": {},
     "output_type": "execute_result"
    }
   ],
   "source": [
    "#(d)\n",
    "{(12,45)}    "
   ]
  },
  {
   "cell_type": "code",
   "execution_count": 38,
   "metadata": {
    "colab": {
     "base_uri": "https://localhost:8080/"
    },
    "executionInfo": {
     "elapsed": 49,
     "status": "ok",
     "timestamp": 1634451650949,
     "user": {
      "displayName": "wien hong",
      "photoUrl": "https://lh3.googleusercontent.com/a/default-user=s64",
      "userId": "11131435925814580522"
     },
     "user_tz": -480
    },
    "id": "XikGw86Kttld",
    "outputId": "1e4f716d-d19b-4abd-a54f-470cda26b5a0"
   },
   "outputs": [
    {
     "data": {
      "text/plain": [
       "{198}"
      ]
     },
     "execution_count": 38,
     "metadata": {},
     "output_type": "execute_result"
    }
   ],
   "source": [
    "#(e)\n",
    "{198}        "
   ]
  },
  {
   "cell_type": "code",
   "execution_count": 39,
   "metadata": {
    "id": "fo9mBP4stwfb"
   },
   "outputs": [],
   "source": [
    "#(f)\n",
    "# {{33,66}}    # 'set' is mutable"
   ]
  },
  {
   "cell_type": "code",
   "execution_count": 40,
   "metadata": {
    "colab": {
     "base_uri": "https://localhost:8080/"
    },
    "executionInfo": {
     "elapsed": 311,
     "status": "ok",
     "timestamp": 1648880648421,
     "user": {
      "displayName": "wien hong",
      "userId": "11131435925814580522"
     },
     "user_tz": -480
    },
    "id": "zwMq0CuDt1f1",
    "outputId": "8bf98e36-c262-4a60-8f69-6fc7cb93f034"
   },
   "outputs": [
    {
     "data": {
      "text/plain": [
       "{(98,)}"
      ]
     },
     "execution_count": 40,
     "metadata": {},
     "output_type": "execute_result"
    }
   ],
   "source": [
    "#(g)\n",
    "{(98,)}      "
   ]
  },
  {
   "cell_type": "code",
   "execution_count": 41,
   "metadata": {
    "id": "-3ckM9wNt5SR"
   },
   "outputs": [],
   "source": [
    "#(h) \n",
    "# {['Python']}  # 'list' is mutable"
   ]
  },
  {
   "cell_type": "code",
   "execution_count": 42,
   "metadata": {
    "id": "3lomJ_ZUt9l3"
   },
   "outputs": [],
   "source": [
    "#(i)\n",
    "#{(0.81,[4])}   # [4] is mutable"
   ]
  },
  {
   "cell_type": "code",
   "execution_count": 43,
   "metadata": {
    "id": "MeoBTHdruCXe"
   },
   "outputs": [],
   "source": [
    "#(j) \n",
    "#{{'P':12}}     # dict is mutable"
   ]
  },
  {
   "cell_type": "markdown",
   "metadata": {
    "id": "mmkiB7_qwzFA"
   },
   "source": [
    "#### 第13題"
   ]
  },
  {
   "cell_type": "code",
   "execution_count": 44,
   "metadata": {
    "id": "VszASuXF0Xw2"
   },
   "outputs": [],
   "source": [
    "s1={3,2,2,1,4,5}"
   ]
  },
  {
   "cell_type": "code",
   "execution_count": 45,
   "metadata": {
    "colab": {
     "base_uri": "https://localhost:8080/"
    },
    "executionInfo": {
     "elapsed": 309,
     "status": "ok",
     "timestamp": 1648880939134,
     "user": {
      "displayName": "wien hong",
      "userId": "11131435925814580522"
     },
     "user_tz": -480
    },
    "id": "JBMiK6pl0euH",
    "outputId": "acd173cb-39a6-4b13-bd27-ac78c64257f5"
   },
   "outputs": [
    {
     "data": {
      "text/plain": [
       "5"
      ]
     },
     "execution_count": 45,
     "metadata": {},
     "output_type": "execute_result"
    }
   ],
   "source": [
    "#(a)\n",
    "len(s1)                "
   ]
  },
  {
   "cell_type": "code",
   "execution_count": 46,
   "metadata": {
    "colab": {
     "base_uri": "https://localhost:8080/"
    },
    "executionInfo": {
     "elapsed": 301,
     "status": "ok",
     "timestamp": 1648880942662,
     "user": {
      "displayName": "wien hong",
      "userId": "11131435925814580522"
     },
     "user_tz": -480
    },
    "id": "teDnFLhw1DJi",
    "outputId": "ff78c559-9c28-41ad-fe17-c9420bbdadfb"
   },
   "outputs": [
    {
     "data": {
      "text/plain": [
       "False"
      ]
     },
     "execution_count": 46,
     "metadata": {},
     "output_type": "execute_result"
    }
   ],
   "source": [
    "#(b)\n",
    "0 in s1              "
   ]
  },
  {
   "cell_type": "code",
   "execution_count": 47,
   "metadata": {
    "colab": {
     "base_uri": "https://localhost:8080/"
    },
    "executionInfo": {
     "elapsed": 300,
     "status": "ok",
     "timestamp": 1648880947264,
     "user": {
      "displayName": "wien hong",
      "userId": "11131435925814580522"
     },
     "user_tz": -480
    },
    "id": "u-wzmk6w1tto",
    "outputId": "407c302f-1243-46fa-ec3c-b2f5fb0618c8"
   },
   "outputs": [
    {
     "data": {
      "text/plain": [
       "False"
      ]
     },
     "execution_count": 47,
     "metadata": {},
     "output_type": "execute_result"
    }
   ],
   "source": [
    "#(c)\n",
    "{0,1,2} <= s1          "
   ]
  },
  {
   "cell_type": "code",
   "execution_count": 48,
   "metadata": {
    "colab": {
     "base_uri": "https://localhost:8080/"
    },
    "executionInfo": {
     "elapsed": 330,
     "status": "ok",
     "timestamp": 1648880964785,
     "user": {
      "displayName": "wien hong",
      "userId": "11131435925814580522"
     },
     "user_tz": -480
    },
    "id": "p12vTn_D2qgX",
    "outputId": "26c06383-d453-43f0-bc75-36c61e12856d"
   },
   "outputs": [
    {
     "data": {
      "text/plain": [
       "True"
      ]
     },
     "execution_count": 48,
     "metadata": {},
     "output_type": "execute_result"
    }
   ],
   "source": [
    "#(d)\n",
    "set(range(9)) >= s1    "
   ]
  },
  {
   "cell_type": "markdown",
   "metadata": {
    "id": "uSHEckcce8w9"
   },
   "source": [
    "### 4.4 dict 資料型別"
   ]
  },
  {
   "cell_type": "markdown",
   "metadata": {
    "id": "L7GC6rr1_rsS"
   },
   "source": [
    "#### 第15題"
   ]
  },
  {
   "cell_type": "markdown",
   "metadata": {
    "id": "PDvB1u4g_uEs"
   },
   "source": [
    "* 字典的鍵之元素及其子元素必須是immutalbe，所以(a),(d),(e),(g)可以做為鍵，其餘不行"
   ]
  },
  {
   "cell_type": "code",
   "execution_count": 49,
   "metadata": {
    "colab": {
     "base_uri": "https://localhost:8080/"
    },
    "executionInfo": {
     "elapsed": 15,
     "status": "ok",
     "timestamp": 1648881763316,
     "user": {
      "displayName": "wien hong",
      "userId": "11131435925814580522"
     },
     "user_tz": -480
    },
    "id": "IMjoj8KHAHYh",
    "outputId": "c1a8263c-f93b-4161-ea0f-fa1ee2b0a91f"
   },
   "outputs": [
    {
     "data": {
      "text/plain": [
       "{'piggy': None}"
      ]
     },
     "execution_count": 49,
     "metadata": {},
     "output_type": "execute_result"
    }
   ],
   "source": [
    "#(a)\n",
    "{'piggy':None}"
   ]
  },
  {
   "cell_type": "code",
   "execution_count": 50,
   "metadata": {
    "id": "poltOSV7AKYI"
   },
   "outputs": [],
   "source": [
    "#(b)\n",
    "# {[23,67]:None}  # list is mutable"
   ]
  },
  {
   "cell_type": "code",
   "execution_count": 51,
   "metadata": {
    "id": "onOJBKefA6oE"
   },
   "outputs": [],
   "source": [
    "#(c)\n",
    "#{{79,12}:None}   # set is mutalbe"
   ]
  },
  {
   "cell_type": "code",
   "execution_count": 52,
   "metadata": {
    "colab": {
     "base_uri": "https://localhost:8080/"
    },
    "executionInfo": {
     "elapsed": 283,
     "status": "ok",
     "timestamp": 1648881854622,
     "user": {
      "displayName": "wien hong",
      "userId": "11131435925814580522"
     },
     "user_tz": -480
    },
    "id": "F4oQG6hiBDiD",
    "outputId": "c5a1f148-9f60-4019-c3a1-30a382c3395b"
   },
   "outputs": [
    {
     "data": {
      "text/plain": [
       "{45: None}"
      ]
     },
     "execution_count": 52,
     "metadata": {},
     "output_type": "execute_result"
    }
   ],
   "source": [
    "#(d)\n",
    "{45:None}"
   ]
  },
  {
   "cell_type": "code",
   "execution_count": 53,
   "metadata": {
    "colab": {
     "base_uri": "https://localhost:8080/"
    },
    "executionInfo": {
     "elapsed": 308,
     "status": "ok",
     "timestamp": 1648881872129,
     "user": {
      "displayName": "wien hong",
      "userId": "11131435925814580522"
     },
     "user_tz": -480
    },
    "id": "W0jD0ktMBG-N",
    "outputId": "048e289a-4640-4320-d6fd-0f4e1e00d13b"
   },
   "outputs": [
    {
     "data": {
      "text/plain": [
       "{(12,): None}"
      ]
     },
     "execution_count": 53,
     "metadata": {},
     "output_type": "execute_result"
    }
   ],
   "source": [
    "#(e)\n",
    "{(12,):None}"
   ]
  },
  {
   "cell_type": "code",
   "execution_count": 54,
   "metadata": {
    "id": "EqSeqj0OBLXa"
   },
   "outputs": [],
   "source": [
    "#(f)\n",
    "#{([7,8],9):None}  # tuple element [7,8] is mutalbe"
   ]
  },
  {
   "cell_type": "code",
   "execution_count": 55,
   "metadata": {
    "colab": {
     "base_uri": "https://localhost:8080/"
    },
    "executionInfo": {
     "elapsed": 23,
     "status": "ok",
     "timestamp": 1648882017199,
     "user": {
      "displayName": "wien hong",
      "userId": "11131435925814580522"
     },
     "user_tz": -480
    },
    "id": "1gvAT-riBpEz",
    "outputId": "64d4fc6c-78f0-4f0b-a98f-f238d38ec622"
   },
   "outputs": [
    {
     "data": {
      "text/plain": [
       "{(12, 'p'): None}"
      ]
     },
     "execution_count": 55,
     "metadata": {},
     "output_type": "execute_result"
    }
   ],
   "source": [
    "#(g)\n",
    "{(12,'p'):None}"
   ]
  },
  {
   "cell_type": "code",
   "execution_count": 56,
   "metadata": {
    "id": "cBdP2EhCBvC5"
   },
   "outputs": [],
   "source": [
    "#(h)\n",
    "# {['Python']:None}  # list is mutalbe"
   ]
  },
  {
   "cell_type": "code",
   "execution_count": 57,
   "metadata": {
    "id": "FwNiQQY2B5Qb"
   },
   "outputs": [],
   "source": [
    "#(i)\n",
    "# {[0.81]:None}  # list is mutalbe"
   ]
  },
  {
   "cell_type": "code",
   "execution_count": 58,
   "metadata": {
    "id": "rEKRHt_VCCf6"
   },
   "outputs": [],
   "source": [
    "#(j)\n",
    "#{(7,{8,9}):None}  # tuple element {8,9} is mutable"
   ]
  },
  {
   "cell_type": "markdown",
   "metadata": {
    "id": "CI18OLV8w4xt"
   },
   "source": [
    "#### 第17題"
   ]
  },
  {
   "cell_type": "code",
   "execution_count": 59,
   "metadata": {
    "colab": {
     "base_uri": "https://localhost:8080/",
     "height": 35
    },
    "executionInfo": {
     "elapsed": 409,
     "status": "ok",
     "timestamp": 1648883590507,
     "user": {
      "displayName": "wien hong",
      "userId": "11131435925814580522"
     },
     "user_tz": -480
    },
    "id": "OTFrFxhfYQ_b",
    "outputId": "ffd00a21-11c8-4774-867a-b6e3e2c7f6e9"
   },
   "outputs": [
    {
     "data": {
      "text/plain": [
       "'green'"
      ]
     },
     "execution_count": 59,
     "metadata": {},
     "output_type": "execute_result"
    }
   ],
   "source": [
    "#(a)\n",
    "d1={0:'red',1:'green',2:'blue'} \n",
    "d1[1]                  "
   ]
  },
  {
   "cell_type": "code",
   "execution_count": 60,
   "metadata": {
    "colab": {
     "base_uri": "https://localhost:8080/"
    },
    "executionInfo": {
     "elapsed": 6,
     "status": "ok",
     "timestamp": 1648882224215,
     "user": {
      "displayName": "wien hong",
      "userId": "11131435925814580522"
     },
     "user_tz": -480
    },
    "id": "2vhT2CpDZEFs",
    "outputId": "094e8cd0-22fe-4baf-da79-387d088a9c98"
   },
   "outputs": [
    {
     "data": {
      "text/plain": [
       "{0: 'red', 1: 'green', 2: 'yellow'}"
      ]
     },
     "execution_count": 60,
     "metadata": {},
     "output_type": "execute_result"
    }
   ],
   "source": [
    "#(b)\n",
    "d1={0:'red',1:'green',2:'blue'}     \n",
    "d1.update({2:'yellow'})\n",
    "d1"
   ]
  },
  {
   "cell_type": "code",
   "execution_count": 61,
   "metadata": {
    "colab": {
     "base_uri": "https://localhost:8080/"
    },
    "executionInfo": {
     "elapsed": 338,
     "status": "ok",
     "timestamp": 1648882262876,
     "user": {
      "displayName": "wien hong",
      "userId": "11131435925814580522"
     },
     "user_tz": -480
    },
    "id": "ZEw10wavebhd",
    "outputId": "7197605d-d864-439e-d3a9-dc6e28995974"
   },
   "outputs": [
    {
     "data": {
      "text/plain": [
       "{1: 'green', 2: 'blue'}"
      ]
     },
     "execution_count": 61,
     "metadata": {},
     "output_type": "execute_result"
    }
   ],
   "source": [
    "#(c)\n",
    "d1={0:'red',1:'green',2:'blue'}     \n",
    "d1.pop(0)\n",
    "d1"
   ]
  },
  {
   "cell_type": "code",
   "execution_count": 62,
   "metadata": {
    "colab": {
     "base_uri": "https://localhost:8080/"
    },
    "executionInfo": {
     "elapsed": 307,
     "status": "ok",
     "timestamp": 1648882297638,
     "user": {
      "displayName": "wien hong",
      "userId": "11131435925814580522"
     },
     "user_tz": -480
    },
    "id": "mEmXnI1UfskO",
    "outputId": "de43ced3-c773-42f4-c320-1c84aee1a1f6"
   },
   "outputs": [
    {
     "data": {
      "text/plain": [
       "False"
      ]
     },
     "execution_count": 62,
     "metadata": {},
     "output_type": "execute_result"
    }
   ],
   "source": [
    "#(d)\n",
    "d1={0:'red',1:'green',2:'blue'}     \n",
    "4 in d1"
   ]
  },
  {
   "cell_type": "markdown",
   "metadata": {
    "id": "2uNtVqROxFzB"
   },
   "source": [
    "#### 第19題"
   ]
  },
  {
   "cell_type": "code",
   "execution_count": 63,
   "metadata": {
    "colab": {
     "base_uri": "https://localhost:8080/"
    },
    "executionInfo": {
     "elapsed": 363,
     "status": "ok",
     "timestamp": 1648882607957,
     "user": {
      "displayName": "wien hong",
      "userId": "11131435925814580522"
     },
     "user_tz": -480
    },
    "id": "XjDg15S5wMHe",
    "outputId": "6e2db418-1a49-4631-a939-0f32463547e6"
   },
   "outputs": [
    {
     "data": {
      "text/plain": [
       "['large', 'medium', 'small']"
      ]
     },
     "execution_count": 63,
     "metadata": {},
     "output_type": "execute_result"
    }
   ],
   "source": [
    "#(a)\n",
    "d1={'large':34,'medium':28,'small':20}\n",
    "list(d1.keys())              "
   ]
  },
  {
   "cell_type": "code",
   "execution_count": 64,
   "metadata": {
    "colab": {
     "base_uri": "https://localhost:8080/"
    },
    "executionInfo": {
     "elapsed": 4,
     "status": "ok",
     "timestamp": 1648882619686,
     "user": {
      "displayName": "wien hong",
      "userId": "11131435925814580522"
     },
     "user_tz": -480
    },
    "id": "a2ZiZbE0PV8k",
    "outputId": "381ba7c1-60b6-40a0-ce07-1947856d51db"
   },
   "outputs": [
    {
     "data": {
      "text/plain": [
       "(34, 28, 20)"
      ]
     },
     "execution_count": 64,
     "metadata": {},
     "output_type": "execute_result"
    }
   ],
   "source": [
    "#(b)\n",
    "d1={'large':34,'medium':28,'small':20}   \n",
    "tuple(d1.values())            "
   ]
  },
  {
   "cell_type": "code",
   "execution_count": 65,
   "metadata": {
    "colab": {
     "base_uri": "https://localhost:8080/"
    },
    "executionInfo": {
     "elapsed": 35,
     "status": "ok",
     "timestamp": 1634451651419,
     "user": {
      "displayName": "wien hong",
      "photoUrl": "https://lh3.googleusercontent.com/a/default-user=s64",
      "userId": "11131435925814580522"
     },
     "user_tz": -480
    },
    "id": "jtpRvbvBQBXT",
    "outputId": "f717d3da-f6c4-4813-f03c-a3b78a7ac4fa"
   },
   "outputs": [
    {
     "data": {
      "text/plain": [
       "[('large', 34), ('medium', 28), ('small', 20)]"
      ]
     },
     "execution_count": 65,
     "metadata": {},
     "output_type": "execute_result"
    }
   ],
   "source": [
    "#(c)\n",
    "d1={'large':34,'medium':28,'small':20}   \n",
    "list(d1.items())"
   ]
  },
  {
   "cell_type": "code",
   "execution_count": 66,
   "metadata": {
    "colab": {
     "base_uri": "https://localhost:8080/"
    },
    "executionInfo": {
     "elapsed": 288,
     "status": "ok",
     "timestamp": 1648882751028,
     "user": {
      "displayName": "wien hong",
      "userId": "11131435925814580522"
     },
     "user_tz": -480
    },
    "id": "x5cNePuEQKSy",
    "outputId": "27ccf219-bac9-474a-f477-9dc7d53671ce"
   },
   "outputs": [
    {
     "data": {
      "text/plain": [
       "34"
      ]
     },
     "execution_count": 66,
     "metadata": {},
     "output_type": "execute_result"
    }
   ],
   "source": [
    "#(d)\n",
    "d1={'large':34,'medium':28,'small':20}   \n",
    "d1.setdefault('large',36)   # 因為字典裡含有'large'，因此傳回字典裡的值"
   ]
  },
  {
   "cell_type": "code",
   "execution_count": 67,
   "metadata": {
    "colab": {
     "base_uri": "https://localhost:8080/"
    },
    "executionInfo": {
     "elapsed": 348,
     "status": "ok",
     "timestamp": 1648882758755,
     "user": {
      "displayName": "wien hong",
      "userId": "11131435925814580522"
     },
     "user_tz": -480
    },
    "id": "kxFI0vb7SH82",
    "outputId": "e2abe617-0f56-4aea-e532-405fa00ab2c4"
   },
   "outputs": [
    {
     "name": "stdout",
     "output_type": "stream",
     "text": [
      "40\n"
     ]
    },
    {
     "data": {
      "text/plain": [
       "{'large': 34, 'medium': 28, 'small': 20, 'xlarge': 40}"
      ]
     },
     "execution_count": 67,
     "metadata": {},
     "output_type": "execute_result"
    }
   ],
   "source": [
    "#(e)\n",
    "d1={'large':34,'medium':28,'small':20}   \n",
    "print(d1.setdefault('xlarge',40))  # 因為字典裡不含有'xlarge'，因此將{'xlarge':40}加到字典裡，並傳回40\n",
    "d1"
   ]
  }
 ],
 "metadata": {
  "colab": {
   "collapsed_sections": [],
   "name": "ch04-習題參考答案.ipynb",
   "provenance": [
    {
     "file_id": "1KNAw9PIkoB0xhNMKia1ZKG0RHZRHo58f",
     "timestamp": 1634441837379
    }
   ],
   "toc_visible": true
  },
  "kernelspec": {
   "display_name": "Python 3 (ipykernel)",
   "language": "python",
   "name": "python3"
  },
  "language_info": {
   "codemirror_mode": {
    "name": "ipython",
    "version": 3
   },
   "file_extension": ".py",
   "mimetype": "text/x-python",
   "name": "python",
   "nbconvert_exporter": "python",
   "pygments_lexer": "ipython3",
   "version": "3.8.9"
  }
 },
 "nbformat": 4,
 "nbformat_minor": 4
}

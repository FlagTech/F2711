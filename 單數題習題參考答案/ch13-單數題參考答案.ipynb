{
 "cells": [
  {
   "cell_type": "code",
   "execution_count": 1,
   "metadata": {
    "id": "5-i6INDGDJLE"
   },
   "outputs": [],
   "source": [
    "import sympy as sp\n",
    "import numpy as np"
   ]
  },
  {
   "cell_type": "code",
   "execution_count": 2,
   "metadata": {
    "id": "9T-UeptCDgSi"
   },
   "outputs": [],
   "source": [
    "sp.init_printing()"
   ]
  },
  {
   "cell_type": "markdown",
   "metadata": {
    "id": "n8O_NVe620VU"
   },
   "source": [
    "## 13.1 Sympy套件與符號物件"
   ]
  },
  {
   "cell_type": "markdown",
   "metadata": {
    "id": "PG9Hcukjt3Sf"
   },
   "source": [
    "#### 第1題"
   ]
  },
  {
   "cell_type": "code",
   "execution_count": 3,
   "metadata": {
    "colab": {
     "base_uri": "https://localhost:8080/",
     "height": 57
    },
    "executionInfo": {
     "elapsed": 1828,
     "status": "ok",
     "timestamp": 1649072665256,
     "user": {
      "displayName": "wien hong",
      "userId": "11131435925814580522"
     },
     "user_tz": -480
    },
    "id": "qtVQQhemlH3J",
    "outputId": "14806627-f5ca-463a-84fe-b732da3730c7"
   },
   "outputs": [
    {
     "data": {
      "image/png": "[encoded data removed]",
      "text/latex": [
       "$\\displaystyle \\frac{\\log{\\left(81 \\right)}}{\\log{\\left(2 \\right)}} + 11$"
      ],
      "text/plain": [
       "log(81)     \n",
       "─────── + 11\n",
       " log(2)     "
      ]
     },
     "execution_count": 3,
     "metadata": {},
     "output_type": "execute_result"
    }
   ],
   "source": [
    "#(a)\n",
    "sp.log(12**4,2)+sp.log(sp.E**3)"
   ]
  },
  {
   "cell_type": "code",
   "execution_count": 4,
   "metadata": {
    "colab": {
     "base_uri": "https://localhost:8080/",
     "height": 55
    },
    "executionInfo": {
     "elapsed": 274,
     "status": "ok",
     "timestamp": 1649072676038,
     "user": {
      "displayName": "wien hong",
      "userId": "11131435925814580522"
     },
     "user_tz": -480
    },
    "id": "Ri3PA0RdnuaY",
    "outputId": "75f58848-d114-4ed5-f6c8-0a347c48c025"
   },
   "outputs": [
    {
     "data": {
      "image/png": "[encoded data removed]",
      "text/latex": [
       "$\\displaystyle - \\frac{\\sqrt{5}}{4} - \\frac{1}{4} + \\frac{\\sqrt{3}}{2}$"
      ],
      "text/plain": [
       "  √5   1   √3\n",
       "- ── - ─ + ──\n",
       "  4    4   2 "
      ]
     },
     "execution_count": 4,
     "metadata": {},
     "output_type": "execute_result"
    }
   ],
   "source": [
    "#(b)\n",
    "sp.sin(2*sp.pi/3)+sp.cos(4*sp.pi/5)"
   ]
  },
  {
   "cell_type": "code",
   "execution_count": 5,
   "metadata": {
    "colab": {
     "base_uri": "https://localhost:8080/",
     "height": 37
    },
    "executionInfo": {
     "elapsed": 249,
     "status": "ok",
     "timestamp": 1649072688161,
     "user": {
      "displayName": "wien hong",
      "userId": "11131435925814580522"
     },
     "user_tz": -480
    },
    "id": "7JWBSw6koJY4",
    "outputId": "924054e5-85c6-422d-838b-3dcf3c860afd"
   },
   "outputs": [
    {
     "data": {
      "image/png": "[encoded data removed]",
      "text/latex": [
       "$\\displaystyle 1$"
      ],
      "text/plain": [
       "1"
      ]
     },
     "execution_count": 5,
     "metadata": {},
     "output_type": "execute_result"
    }
   ],
   "source": [
    "#(c)\n",
    "sp.sin(sp.pi/6)**2+sp.cos(5*sp.pi/6)**2"
   ]
  },
  {
   "cell_type": "code",
   "execution_count": 6,
   "metadata": {
    "colab": {
     "base_uri": "https://localhost:8080/",
     "height": 51
    },
    "executionInfo": {
     "elapsed": 251,
     "status": "ok",
     "timestamp": 1649072699151,
     "user": {
      "displayName": "wien hong",
      "userId": "11131435925814580522"
     },
     "user_tz": -480
    },
    "id": "90CEbRJQsHSd",
    "outputId": "edb45259-2d9d-4212-febe-7c18afea1b0f"
   },
   "outputs": [
    {
     "data": {
      "image/png": "[encoded data removed]",
      "text/latex": [
       "$\\displaystyle \\frac{33}{52}$"
      ],
      "text/plain": [
       "33\n",
       "──\n",
       "52"
      ]
     },
     "execution_count": 6,
     "metadata": {},
     "output_type": "execute_result"
    }
   ],
   "source": [
    "#(d)\n",
    "sp.Rational(1,4)+sp.Rational(5,13)"
   ]
  },
  {
   "cell_type": "code",
   "execution_count": 7,
   "metadata": {
    "colab": {
     "base_uri": "https://localhost:8080/",
     "height": 55
    },
    "executionInfo": {
     "elapsed": 265,
     "status": "ok",
     "timestamp": 1649072704189,
     "user": {
      "displayName": "wien hong",
      "userId": "11131435925814580522"
     },
     "user_tz": -480
    },
    "id": "uPmGitc9scPl",
    "outputId": "91bfd731-1aa9-424b-9de5-92dacb1f64e1"
   },
   "outputs": [
    {
     "data": {
      "image/png": "[encoded data removed]",
      "text/latex": [
       "$\\displaystyle \\frac{\\sqrt[3]{7}}{4}$"
      ],
      "text/plain": [
       "3 ___\n",
       "╲╱ 7 \n",
       "─────\n",
       "  4  "
      ]
     },
     "execution_count": 7,
     "metadata": {},
     "output_type": "execute_result"
    }
   ],
   "source": [
    "#(e)\n",
    "sp.root(sp.Rational(7,64),3)"
   ]
  },
  {
   "cell_type": "code",
   "execution_count": 8,
   "metadata": {
    "colab": {
     "base_uri": "https://localhost:8080/",
     "height": 37
    },
    "executionInfo": {
     "elapsed": 288,
     "status": "ok",
     "timestamp": 1649072724310,
     "user": {
      "displayName": "wien hong",
      "userId": "11131435925814580522"
     },
     "user_tz": -480
    },
    "id": "2EOPOUCdtVHI",
    "outputId": "780a80b6-e6e6-4617-fd48-d998245f5017"
   },
   "outputs": [
    {
     "data": {
      "image/png": "[encoded data removed]",
      "text/latex": [
       "$\\displaystyle 0$"
      ],
      "text/plain": [
       "0"
      ]
     },
     "execution_count": 8,
     "metadata": {},
     "output_type": "execute_result"
    }
   ],
   "source": [
    "#(f)\n",
    "sp.E**(sp.I*sp.pi)+1"
   ]
  },
  {
   "cell_type": "markdown",
   "metadata": {
    "id": "SBiDcoRvt-h3"
   },
   "source": [
    "#### 第3題"
   ]
  },
  {
   "cell_type": "code",
   "execution_count": 9,
   "metadata": {
    "colab": {
     "base_uri": "https://localhost:8080/",
     "height": 37
    },
    "executionInfo": {
     "elapsed": 810,
     "status": "ok",
     "timestamp": 1649072792053,
     "user": {
      "displayName": "wien hong",
      "userId": "11131435925814580522"
     },
     "user_tz": -480
    },
    "id": "v7RPlllJ9W2m",
    "outputId": "d2ce0e8e-aca8-431a-9eef-3c0c79e4d945"
   },
   "outputs": [
    {
     "data": {
      "image/png": "[encoded data removed]",
      "text/latex": [
       "$\\displaystyle 3.146264369941972342329135065715570445512477129187328701232486717442665495370907075931533721084890148$"
      ],
      "text/plain": [
       "3.1462643699419723423291350657155704455124771291873287012324867174426654953709\n",
       "07075931533721084890148"
      ]
     },
     "execution_count": 9,
     "metadata": {},
     "output_type": "execute_result"
    }
   ],
   "source": [
    "sp.N(sp.sqrt(2)+sp.sqrt(3),100)"
   ]
  },
  {
   "cell_type": "markdown",
   "metadata": {
    "id": "I_kChFyWDdvj"
   },
   "source": [
    "## 13.2 基本代數運算"
   ]
  },
  {
   "cell_type": "markdown",
   "metadata": {
    "id": "Xfwye9Vvt_2P"
   },
   "source": [
    "#### 第5題"
   ]
  },
  {
   "cell_type": "code",
   "execution_count": 10,
   "metadata": {},
   "outputs": [],
   "source": [
    "x=sp.symbols('x')"
   ]
  },
  {
   "cell_type": "code",
   "execution_count": 11,
   "metadata": {
    "colab": {
     "base_uri": "https://localhost:8080/",
     "height": 38
    },
    "executionInfo": {
     "elapsed": 442,
     "status": "ok",
     "timestamp": 1649072845239,
     "user": {
      "displayName": "wien hong",
      "userId": "11131435925814580522"
     },
     "user_tz": -480
    },
    "id": "_YoIUztm_SK7",
    "outputId": "ecec673c-ee78-4e25-d430-2734f6b80ea9"
   },
   "outputs": [
    {
     "data": {
      "image/png": "[encoded data removed]",
      "text/latex": [
       "$\\displaystyle - \\sqrt{x} \\left(x - 1\\right) \\left(x + 1\\right)$"
      ],
      "text/plain": [
       "-√x⋅(x - 1)⋅(x + 1)"
      ]
     },
     "execution_count": 11,
     "metadata": {},
     "output_type": "execute_result"
    }
   ],
   "source": [
    "(sp.sqrt(x)-x**sp.Rational(5,2)).factor()"
   ]
  },
  {
   "cell_type": "markdown",
   "metadata": {
    "id": "7aL2OPnmuBZp"
   },
   "source": [
    "#### 第7題"
   ]
  },
  {
   "cell_type": "code",
   "execution_count": 12,
   "metadata": {},
   "outputs": [],
   "source": [
    "x=sp.symbols('x')"
   ]
  },
  {
   "cell_type": "code",
   "execution_count": 13,
   "metadata": {
    "colab": {
     "base_uri": "https://localhost:8080/",
     "height": 57
    },
    "executionInfo": {
     "elapsed": 651,
     "status": "ok",
     "timestamp": 1649072878147,
     "user": {
      "displayName": "wien hong",
      "userId": "11131435925814580522"
     },
     "user_tz": -480
    },
    "id": "CR3529YTBSQ8",
    "outputId": "017f3839-cc86-4ad0-b88f-94155ac3aa0d"
   },
   "outputs": [
    {
     "data": {
      "image/png": "[encoded data removed]",
      "text/latex": [
       "$\\displaystyle \\frac{x \\left(x - 1\\right)}{\\left(x + 1\\right) \\left(x^{2} + 1\\right)}$"
      ],
      "text/plain": [
       "   x⋅(x - 1)    \n",
       "────────────────\n",
       "        ⎛ 2    ⎞\n",
       "(x + 1)⋅⎝x  + 1⎠"
      ]
     },
     "execution_count": 13,
     "metadata": {},
     "output_type": "execute_result"
    }
   ],
   "source": [
    "(1/(x+1)-1/(x**2+1)).simplify()"
   ]
  },
  {
   "cell_type": "markdown",
   "metadata": {
    "id": "OaCagP9Z-7Aa"
   },
   "source": [
    "## 13.3 解方程式"
   ]
  },
  {
   "cell_type": "markdown",
   "metadata": {
    "id": "F-oZhVEeuTUI"
   },
   "source": [
    "#### 第9題"
   ]
  },
  {
   "cell_type": "code",
   "execution_count": 14,
   "metadata": {},
   "outputs": [],
   "source": [
    "x=sp.symbols('x')"
   ]
  },
  {
   "cell_type": "code",
   "execution_count": 15,
   "metadata": {
    "id": "AA6hT898LoJI"
   },
   "outputs": [],
   "source": [
    "f=x**4-4*x**3-sp.cos(3*x)-3"
   ]
  },
  {
   "cell_type": "code",
   "execution_count": 16,
   "metadata": {
    "colab": {
     "base_uri": "https://localhost:8080/",
     "height": 314
    },
    "executionInfo": {
     "elapsed": 1158,
     "status": "ok",
     "timestamp": 1649072984839,
     "user": {
      "displayName": "wien hong",
      "userId": "11131435925814580522"
     },
     "user_tz": -480
    },
    "id": "ULwrfDM9Mhk6",
    "outputId": "4353c0c0-d9eb-4fea-d0ca-f48381347bf7"
   },
   "outputs": [
    {
     "data": {
      "image/png": "[encoded data removed]",
      "text/plain": [
       "<Figure size 432x288 with 1 Axes>"
      ]
     },
     "metadata": {
      "needs_background": "light"
     },
     "output_type": "display_data"
    },
    {
     "data": {
      "text/plain": [
       "<sympy.plotting.plot.Plot at 0x18956fbb3d0>"
      ]
     },
     "execution_count": 16,
     "metadata": {},
     "output_type": "execute_result"
    }
   ],
   "source": [
    "sp.plot(f,(x,-2,5))"
   ]
  },
  {
   "cell_type": "code",
   "execution_count": 17,
   "metadata": {
    "colab": {
     "base_uri": "https://localhost:8080/",
     "height": 37
    },
    "executionInfo": {
     "elapsed": 663,
     "status": "ok",
     "timestamp": 1649072991087,
     "user": {
      "displayName": "wien hong",
      "userId": "11131435925814580522"
     },
     "user_tz": -480
    },
    "id": "T3fdUoXGNBOv",
    "outputId": "15fc23a0-c3db-4313-812f-0657d956de28"
   },
   "outputs": [
    {
     "data": {
      "image/png": "[encoded data removed]",
      "text/latex": [
       "$\\displaystyle 4.05870253581439$"
      ],
      "text/plain": [
       "4.05870253581439"
      ]
     },
     "execution_count": 17,
     "metadata": {},
     "output_type": "execute_result"
    }
   ],
   "source": [
    "sp.nsolve(f,x,3)"
   ]
  },
  {
   "cell_type": "code",
   "execution_count": 18,
   "metadata": {
    "colab": {
     "base_uri": "https://localhost:8080/",
     "height": 37
    },
    "executionInfo": {
     "elapsed": 245,
     "status": "ok",
     "timestamp": 1649073002637,
     "user": {
      "displayName": "wien hong",
      "userId": "11131435925814580522"
     },
     "user_tz": -480
    },
    "id": "qG7R8iepNsh3",
    "outputId": "08cdff8a-7a65-4a61-ca37-80e183e57b0d"
   },
   "outputs": [
    {
     "data": {
      "image/png": "[encoded data removed]",
      "text/latex": [
       "$\\displaystyle -0.783168707824381$"
      ],
      "text/plain": [
       "-0.783168707824381"
      ]
     },
     "execution_count": 18,
     "metadata": {},
     "output_type": "execute_result"
    }
   ],
   "source": [
    "sp.nsolve(f,x,-1)"
   ]
  },
  {
   "cell_type": "markdown",
   "metadata": {
    "id": "4uPnKh-fMXtX"
   },
   "source": [
    "## 13.4 微積分"
   ]
  },
  {
   "cell_type": "markdown",
   "metadata": {
    "id": "PHNBoPiGuaiw"
   },
   "source": [
    "#### 第11題"
   ]
  },
  {
   "cell_type": "code",
   "execution_count": 19,
   "metadata": {
    "id": "aovw1i0F4bRg"
   },
   "outputs": [],
   "source": [
    "x=sp.symbols('x')"
   ]
  },
  {
   "cell_type": "code",
   "execution_count": 20,
   "metadata": {
    "colab": {
     "base_uri": "https://localhost:8080/",
     "height": 47
    },
    "executionInfo": {
     "elapsed": 272,
     "status": "ok",
     "timestamp": 1649073091976,
     "user": {
      "displayName": "wien hong",
      "userId": "11131435925814580522"
     },
     "user_tz": -480
    },
    "id": "duDp73rB5DKn",
    "outputId": "0d33862a-008a-4721-af8e-9a1c65db7f0b"
   },
   "outputs": [
    {
     "data": {
      "image/png": "[encoded data removed]",
      "text/latex": [
       "$\\displaystyle \\lim_{x \\to 0} \\sqrt{x^{2} + 3 x + 2} = \\sqrt{2}$"
      ],
      "text/plain": [
       "       ______________     \n",
       "      ╱  2                \n",
       "lim ╲╱  x  + 3⋅x + 2  = √2\n",
       "x─→0                      "
      ]
     },
     "execution_count": 20,
     "metadata": {},
     "output_type": "execute_result"
    }
   ],
   "source": [
    "#(a)\n",
    "ex=sp.Limit(sp.sqrt(x**2+3*x+2),x,0,dir='+-')\n",
    "sp.Eq(ex,ex.doit())"
   ]
  },
  {
   "cell_type": "code",
   "execution_count": 21,
   "metadata": {
    "colab": {
     "base_uri": "https://localhost:8080/",
     "height": 58
    },
    "executionInfo": {
     "elapsed": 681,
     "status": "ok",
     "timestamp": 1649073102834,
     "user": {
      "displayName": "wien hong",
      "userId": "11131435925814580522"
     },
     "user_tz": -480
    },
    "id": "6f37OTR23fYI",
    "outputId": "e9c44dd4-f9c7-4aff-a613-42ab772d3b26"
   },
   "outputs": [
    {
     "data": {
      "image/png": "[encoded data removed]",
      "text/latex": [
       "$\\displaystyle \\lim_{x \\to -2^+}\\left(\\frac{x^{2} - 7 x + 10}{x + 2}\\right) = \\infty$"
      ],
      "text/plain": [
       "      ⎛ 2           ⎞    \n",
       "      ⎜x  - 7⋅x + 10⎟    \n",
       " lim  ⎜─────────────⎟ = ∞\n",
       "x─→-2⁺⎝    x + 2    ⎠    "
      ]
     },
     "execution_count": 21,
     "metadata": {},
     "output_type": "execute_result"
    }
   ],
   "source": [
    "#(b)\n",
    "ex=sp.Limit((x**2-7*x+10)/(x+2),x,-2)\n",
    "sp.Eq(ex,ex.doit())"
   ]
  },
  {
   "cell_type": "code",
   "execution_count": 22,
   "metadata": {
    "colab": {
     "base_uri": "https://localhost:8080/",
     "height": 58
    },
    "executionInfo": {
     "elapsed": 2370,
     "status": "ok",
     "timestamp": 1649073117096,
     "user": {
      "displayName": "wien hong",
      "userId": "11131435925814580522"
     },
     "user_tz": -480
    },
    "id": "1FFaogt95xF_",
    "outputId": "bd0c06d5-979d-4162-c01e-5d61938dde64"
   },
   "outputs": [
    {
     "data": {
      "image/png": "[encoded data removed]",
      "text/latex": [
       "$\\displaystyle \\lim_{x \\to \\infty}\\left(\\frac{\\sin{\\left(x \\right)}}{2 x - 1}\\right) = 0$"
      ],
      "text/plain": [
       "    ⎛ sin(x)⎞    \n",
       "lim ⎜───────⎟ = 0\n",
       "x─→∞⎝2⋅x - 1⎠    "
      ]
     },
     "execution_count": 22,
     "metadata": {},
     "output_type": "execute_result"
    }
   ],
   "source": [
    "#(c)\n",
    "ex=sp.Limit(sp.sin(x)/(2*x-1),x,sp.oo)\n",
    "sp.Eq(ex,ex.doit())"
   ]
  },
  {
   "cell_type": "code",
   "execution_count": 23,
   "metadata": {
    "colab": {
     "base_uri": "https://localhost:8080/",
     "height": 58
    },
    "executionInfo": {
     "elapsed": 671,
     "status": "ok",
     "timestamp": 1649073125681,
     "user": {
      "displayName": "wien hong",
      "userId": "11131435925814580522"
     },
     "user_tz": -480
    },
    "id": "5j4uv3Dz6F_X",
    "outputId": "3340f74c-afc8-4207-b1c2-58609ea39347"
   },
   "outputs": [
    {
     "data": {
      "image/png": "[encoded data removed]",
      "text/latex": [
       "$\\displaystyle \\lim_{x \\to \\infty}\\left(\\frac{\\left(x - 4\\right) \\left(x + 3\\right) \\left(2 x + 6\\right)}{x^{3} - 3}\\right) = 2$"
      ],
      "text/plain": [
       "    ⎛(x - 4)⋅(x + 3)⋅(2⋅x + 6)⎞    \n",
       "lim ⎜─────────────────────────⎟ = 2\n",
       "x─→∞⎜           3             ⎟    \n",
       "    ⎝          x  - 3         ⎠    "
      ]
     },
     "execution_count": 23,
     "metadata": {},
     "output_type": "execute_result"
    }
   ],
   "source": [
    "#(d)\n",
    "ex=sp.Limit((x+3)*(x-4)*(2*x+6)/(x**3-3),x,sp.oo)\n",
    "sp.Eq(ex,ex.doit())"
   ]
  },
  {
   "cell_type": "code",
   "execution_count": 24,
   "metadata": {
    "colab": {
     "base_uri": "https://localhost:8080/",
     "height": 44
    },
    "executionInfo": {
     "elapsed": 357,
     "status": "ok",
     "timestamp": 1649073138275,
     "user": {
      "displayName": "wien hong",
      "userId": "11131435925814580522"
     },
     "user_tz": -480
    },
    "id": "MNmyBozB6gzn",
    "outputId": "29f89727-e465-4ee8-84d0-bf162ebfee38"
   },
   "outputs": [
    {
     "data": {
      "image/png": "[encoded data removed]",
      "text/latex": [
       "$\\displaystyle \\lim_{x \\to 0} x^{x} = 1$"
      ],
      "text/plain": [
       "     x    \n",
       "lim x  = 1\n",
       "x─→0      "
      ]
     },
     "execution_count": 24,
     "metadata": {},
     "output_type": "execute_result"
    }
   ],
   "source": [
    "#(e)\n",
    "ex=sp.Limit(x**x,x,0,dir='+-')\n",
    "sp.Eq(ex,ex.doit())"
   ]
  },
  {
   "cell_type": "code",
   "execution_count": 25,
   "metadata": {
    "colab": {
     "base_uri": "https://localhost:8080/",
     "height": 52
    },
    "executionInfo": {
     "elapsed": 293,
     "status": "ok",
     "timestamp": 1649073144634,
     "user": {
      "displayName": "wien hong",
      "userId": "11131435925814580522"
     },
     "user_tz": -480
    },
    "id": "O_bfSQcz6xU3",
    "outputId": "686bea29-b94e-429d-cb4f-69a6a5fc74a5"
   },
   "outputs": [
    {
     "data": {
      "image/png": "[encoded data removed]",
      "text/latex": [
       "$\\displaystyle \\lim_{x \\to 2^-} \\frac{1}{x - 2} = -\\infty$"
      ],
      "text/plain": [
       "       1       \n",
       " lim ───── = -∞\n",
       "x─→2⁻x - 2     "
      ]
     },
     "execution_count": 25,
     "metadata": {},
     "output_type": "execute_result"
    }
   ],
   "source": [
    "#(f)\n",
    "ex=sp.Limit(1/(x-2),x,2,dir='-')\n",
    "sp.Eq(ex,ex.doit())"
   ]
  },
  {
   "cell_type": "markdown",
   "metadata": {
    "id": "rxu0mINAucho"
   },
   "source": [
    "#### 第13題"
   ]
  },
  {
   "cell_type": "code",
   "execution_count": 26,
   "metadata": {
    "id": "eSqXNGmTrEVc"
   },
   "outputs": [],
   "source": [
    "x,y,a,i,n=sp.symbols('x,y,a,i,n')"
   ]
  },
  {
   "cell_type": "code",
   "execution_count": 27,
   "metadata": {
    "colab": {
     "base_uri": "https://localhost:8080/",
     "height": 57
    },
    "executionInfo": {
     "elapsed": 299,
     "status": "ok",
     "timestamp": 1649073526760,
     "user": {
      "displayName": "wien hong",
      "userId": "11131435925814580522"
     },
     "user_tz": -480
    },
    "id": "Tx2EpQMErLSP",
    "outputId": "86e32a7a-d5b2-4d99-e558-b0b9dd12ca45"
   },
   "outputs": [
    {
     "data": {
      "image/png": "[encoded data removed]",
      "text/latex": [
       "$\\displaystyle \\int \\left(x^{2} + 6 x - 2\\right)\\, dx = \\frac{x^{3}}{3} + 3 x^{2} - 2 x$"
      ],
      "text/plain": [
       "⌠                      3             \n",
       "⎮ ⎛ 2          ⎞      x       2      \n",
       "⎮ ⎝x  + 6⋅x - 2⎠ dx = ── + 3⋅x  - 2⋅x\n",
       "⌡                     3              "
      ]
     },
     "execution_count": 27,
     "metadata": {},
     "output_type": "execute_result"
    }
   ],
   "source": [
    "#(a)\n",
    "ex=sp.Integral(x**2+6*x-2,x)\n",
    "sp.Eq(ex,ex.doit())"
   ]
  },
  {
   "cell_type": "code",
   "execution_count": 28,
   "metadata": {
    "colab": {
     "base_uri": "https://localhost:8080/",
     "height": 57
    },
    "executionInfo": {
     "elapsed": 690,
     "status": "ok",
     "timestamp": 1649073531891,
     "user": {
      "displayName": "wien hong",
      "userId": "11131435925814580522"
     },
     "user_tz": -480
    },
    "id": "NOGnnMG-qw52",
    "outputId": "13dbbb6a-4b1a-4bba-be4c-a6ce35675956"
   },
   "outputs": [
    {
     "data": {
      "image/png": "[encoded data removed]",
      "text/latex": [
       "$\\displaystyle \\int \\frac{2 x^{2} - 6 x + 12}{x}\\, dx = x^{2} - 6 x + 12 \\log{\\left(x \\right)}$"
      ],
      "text/plain": [
       "⌠                                          \n",
       "⎮    2                                     \n",
       "⎮ 2⋅x  - 6⋅x + 12       2                  \n",
       "⎮ ─────────────── dx = x  - 6⋅x + 12⋅log(x)\n",
       "⎮        x                                 \n",
       "⌡                                          "
      ]
     },
     "execution_count": 28,
     "metadata": {},
     "output_type": "execute_result"
    }
   ],
   "source": [
    "#(b)\n",
    "ex=sp.Integral((2*x**2-6*x+12)/x,x)\n",
    "sp.Eq(ex,ex.doit())"
   ]
  },
  {
   "cell_type": "code",
   "execution_count": 29,
   "metadata": {
    "colab": {
     "base_uri": "https://localhost:8080/",
     "height": 80
    },
    "executionInfo": {
     "elapsed": 678,
     "status": "ok",
     "timestamp": 1649073538244,
     "user": {
      "displayName": "wien hong",
      "userId": "11131435925814580522"
     },
     "user_tz": -480
    },
    "id": "_LmIip4Grde8",
    "outputId": "1ac6585b-91cd-4d05-fec7-9e58e47bcccc"
   },
   "outputs": [
    {
     "data": {
      "image/png": "[encoded data removed]",
      "text/latex": [
       "$\\displaystyle \\int\\limits_{0}^{2 \\pi} \\sin{\\left(a + x \\right)}\\, dx = 0$"
      ],
      "text/plain": [
       "2⋅π                  \n",
       " ⌠                   \n",
       " ⎮  sin(a + x) dx = 0\n",
       " ⌡                   \n",
       " 0                   "
      ]
     },
     "execution_count": 29,
     "metadata": {},
     "output_type": "execute_result"
    }
   ],
   "source": [
    "#(c)\n",
    "ex=sp.Integral(sp.sin(x+a),(x,0,sp.pi*2))\n",
    "sp.Eq(ex,ex.doit())"
   ]
  },
  {
   "cell_type": "code",
   "execution_count": 30,
   "metadata": {
    "colab": {
     "base_uri": "https://localhost:8080/",
     "height": 81
    },
    "executionInfo": {
     "elapsed": 2390,
     "status": "ok",
     "timestamp": 1649073583471,
     "user": {
      "displayName": "wien hong",
      "userId": "11131435925814580522"
     },
     "user_tz": -480
    },
    "id": "6dnLbs6gr-Zc",
    "outputId": "18155fe8-d5d6-47e8-e316-a06cd4c968f4"
   },
   "outputs": [
    {
     "data": {
      "image/png": "[encoded data removed]",
      "text/latex": [
       "$\\displaystyle \\int\\limits_{-1}^{1} \\pi \\cos{\\left(x + 3 \\right)}\\, dx = - \\pi \\sin{\\left(2 \\right)} + \\pi \\sin{\\left(4 \\right)}$"
      ],
      "text/plain": [
       "1                                        \n",
       "⌠                                        \n",
       "⎮  π⋅cos(x + 3) dx = -π⋅sin(2) + π⋅sin(4)\n",
       "⌡                                        \n",
       "-1                                       "
      ]
     },
     "execution_count": 30,
     "metadata": {},
     "output_type": "execute_result"
    }
   ],
   "source": [
    "#(d)\n",
    "ex=sp.Integral(sp.pi*sp.cos(x+3),(x,-1,1))\n",
    "sp.Eq(ex,ex.doit())"
   ]
  },
  {
   "cell_type": "code",
   "execution_count": 31,
   "metadata": {
    "colab": {
     "base_uri": "https://localhost:8080/",
     "height": 80
    },
    "executionInfo": {
     "elapsed": 718,
     "status": "ok",
     "timestamp": 1649073606178,
     "user": {
      "displayName": "wien hong",
      "userId": "11131435925814580522"
     },
     "user_tz": -480
    },
    "id": "8XUdO9bjsMJk",
    "outputId": "49992572-388c-496e-df25-e20df70dbccf"
   },
   "outputs": [
    {
     "data": {
      "image/png": "[encoded data removed]",
      "text/latex": [
       "$\\displaystyle \\int\\limits_{0}^{1}\\int\\limits_{0}^{3 x} \\left(- x^{2} + \\sqrt{y}\\right)\\, dy\\, dx = - \\frac{3}{4} + \\frac{4 \\sqrt{3}}{5}$"
      ],
      "text/plain": [
       "1 3⋅x                               \n",
       "⌠  ⌠                                \n",
       "⎮  ⎮  ⎛   2     ⎞           3   4⋅√3\n",
       "⎮  ⎮  ⎝- x  + √y⎠ dy dx = - ─ + ────\n",
       "⌡  ⌡                        4    5  \n",
       "0  0                                "
      ]
     },
     "execution_count": 31,
     "metadata": {},
     "output_type": "execute_result"
    }
   ],
   "source": [
    "#(e)\n",
    "ex=sp.Integral(sp.sqrt(y)-x**2,(y,0,3*x),(x,0,1))\n",
    "sp.Eq(ex,ex.doit())"
   ]
  },
  {
   "cell_type": "code",
   "execution_count": 32,
   "metadata": {
    "colab": {
     "base_uri": "https://localhost:8080/",
     "height": 83
    },
    "executionInfo": {
     "elapsed": 1325,
     "status": "ok",
     "timestamp": 1649073614817,
     "user": {
      "displayName": "wien hong",
      "userId": "11131435925814580522"
     },
     "user_tz": -480
    },
    "id": "RP4Mu4DqtjJQ",
    "outputId": "1e2052e4-6cab-43cb-e8f9-4689d5c58de9"
   },
   "outputs": [
    {
     "data": {
      "image/png": "[encoded data removed]",
      "text/latex": [
       "$\\displaystyle \\int\\limits_{0}^{\\pi}\\int\\limits_{0}^{\\sqrt{x}} y \\sin{\\left(x \\right)}\\, dy\\, dx = \\frac{\\pi}{2}$"
      ],
      "text/plain": [
       "π √x                   \n",
       "⌠ ⌠                   π\n",
       "⎮ ⎮  y⋅sin(x) dy dx = ─\n",
       "⌡ ⌡                   2\n",
       "0 0                    "
      ]
     },
     "execution_count": 32,
     "metadata": {},
     "output_type": "execute_result"
    }
   ],
   "source": [
    "#(f)\n",
    "ex=sp.Integral(sp.sin(x)*y,(y,0,sp.sqrt(x)),(x,0,sp.pi))\n",
    "sp.Eq(ex,ex.doit())"
   ]
  },
  {
   "cell_type": "markdown",
   "metadata": {
    "id": "Vz-kqF26uecw"
   },
   "source": [
    "#### 第15題"
   ]
  },
  {
   "cell_type": "code",
   "execution_count": 33,
   "metadata": {
    "colab": {
     "base_uri": "https://localhost:8080/",
     "height": 96
    },
    "executionInfo": {
     "elapsed": 11301,
     "status": "ok",
     "timestamp": 1649073771119,
     "user": {
      "displayName": "wien hong",
      "userId": "11131435925814580522"
     },
     "user_tz": -480
    },
    "id": "MePeTdNuv2x9",
    "outputId": "d382e2e6-b4d5-479d-939b-54a664efb928"
   },
   "outputs": [
    {
     "data": {
      "image/png": "[encoded data removed]",
      "text/latex": [
       "$\\displaystyle \\frac{106765 \\left(x - 1\\right)^{9} e^{\\frac{\\pi}{4}}}{37158912} - \\frac{12755 \\left(x - 1\\right)^{8} e^{\\frac{\\pi}{4}}}{2064384} + \\frac{755 \\left(x - 1\\right)^{7} e^{\\frac{\\pi}{4}}}{129024} + \\frac{35 \\left(x - 1\\right)^{6} e^{\\frac{\\pi}{4}}}{9216} - \\frac{19 \\left(x - 1\\right)^{5} e^{\\frac{\\pi}{4}}}{768} + \\frac{17 \\left(x - 1\\right)^{4} e^{\\frac{\\pi}{4}}}{384} - \\frac{\\left(x - 1\\right)^{3} e^{\\frac{\\pi}{4}}}{48} - \\frac{\\left(x - 1\\right)^{2} e^{\\frac{\\pi}{4}}}{8} + \\frac{\\left(x - 1\\right) e^{\\frac{\\pi}{4}}}{2} + e^{\\frac{\\pi}{4}}$"
      ],
      "text/plain": [
       "                 π                   π                 π                π     \n",
       "                 ─                   ─                 ─                ─     \n",
       "              9  4                8  4              7  4             6  4     \n",
       "106765⋅(x - 1) ⋅ℯ    12755⋅(x - 1) ⋅ℯ    755⋅(x - 1) ⋅ℯ    35⋅(x - 1) ⋅ℯ    19\n",
       "────────────────── - ───────────────── + ─────────────── + ────────────── - ──\n",
       "     37158912             2064384             129024            9216          \n",
       "\n",
       "           π                π             π             π            π     \n",
       "           ─                ─             ─             ─            ─    π\n",
       "        5  4             4  4          3  4          2  4            4    ─\n",
       "⋅(x - 1) ⋅ℯ    17⋅(x - 1) ⋅ℯ    (x - 1) ⋅ℯ    (x - 1) ⋅ℯ    (x - 1)⋅ℯ     4\n",
       "──────────── + ────────────── - ─────────── - ─────────── + ────────── + ℯ \n",
       "   768              384              48            8            2          "
      ]
     },
     "execution_count": 33,
     "metadata": {},
     "output_type": "execute_result"
    }
   ],
   "source": [
    "ex=sp.exp(sp.atan(x)).series(x,1,10).removeO()\n",
    "ex"
   ]
  },
  {
   "cell_type": "code",
   "execution_count": 34,
   "metadata": {
    "colab": {
     "base_uri": "https://localhost:8080/",
     "height": 297
    },
    "executionInfo": {
     "elapsed": 790,
     "status": "ok",
     "timestamp": 1649073779581,
     "user": {
      "displayName": "wien hong",
      "userId": "11131435925814580522"
     },
     "user_tz": -480
    },
    "id": "qZri4MqVwVPZ",
    "outputId": "99f378c0-7074-4eb8-db8d-8e310b13113c"
   },
   "outputs": [
    {
     "data": {
      "image/png": "[encoded data removed]",
      "text/plain": [
       "<Figure size 432x288 with 1 Axes>"
      ]
     },
     "metadata": {
      "needs_background": "light"
     },
     "output_type": "display_data"
    }
   ],
   "source": [
    "p1=sp.plot(sp.exp(sp.atan(x)),(x,-3,4),ylim=[-6,6],show=False)\n",
    "p2=sp.plot(ex,(x,-3,4),line_color='r',show=False)\n",
    "p1.extend(p2)\n",
    "p1.show()"
   ]
  },
  {
   "cell_type": "markdown",
   "metadata": {
    "id": "t8KkLRC1dKq-"
   },
   "source": [
    "## 13.5 線性代數"
   ]
  },
  {
   "cell_type": "markdown",
   "metadata": {
    "id": "NseVzSPNup4b"
   },
   "source": [
    "#### 第17題"
   ]
  },
  {
   "cell_type": "code",
   "execution_count": 35,
   "metadata": {
    "colab": {
     "base_uri": "https://localhost:8080/",
     "height": 58
    },
    "executionInfo": {
     "elapsed": 301,
     "status": "ok",
     "timestamp": 1649073830189,
     "user": {
      "displayName": "wien hong",
      "userId": "11131435925814580522"
     },
     "user_tz": -480
    },
    "id": "5RRSPStt2Nbo",
    "outputId": "2fc2d11c-ef2b-4777-b667-b02b085a63d1"
   },
   "outputs": [
    {
     "data": {
      "image/png": "[encoded data removed]",
      "text/latex": [
       "$\\displaystyle \\left\\{\\left( \\frac{12}{3 \\beta - 1}, \\  - \\frac{2}{3 \\beta - 1}\\right)\\right\\}$"
      ],
      "text/plain": [
       "⎧⎛   12      -2   ⎞⎫\n",
       "⎨⎜───────, ───────⎟⎬\n",
       "⎩⎝3⋅β - 1  3⋅β - 1⎠⎭"
      ]
     },
     "execution_count": 35,
     "metadata": {},
     "output_type": "execute_result"
    }
   ],
   "source": [
    "#(a)\n",
    "beta=sp.symbols('beta')\n",
    "m=sp.Matrix([[beta,2],[1,6]])\n",
    "b=sp.Matrix([4,0])\n",
    "sp.linsolve([m,b])"
   ]
  },
  {
   "cell_type": "code",
   "execution_count": 36,
   "metadata": {
    "colab": {
     "base_uri": "https://localhost:8080/",
     "height": 58
    },
    "executionInfo": {
     "elapsed": 301,
     "status": "ok",
     "timestamp": 1643091260447,
     "user": {
      "displayName": "wien hong",
      "photoUrl": "https://lh3.googleusercontent.com/a/default-user=s64",
      "userId": "11131435925814580522"
     },
     "user_tz": -480
    },
    "id": "2uN85q5Z290y",
    "outputId": "6066e814-1205-4c0e-bd9e-4bfca5d83a1e"
   },
   "outputs": [
    {
     "data": {
      "image/png": "[encoded data removed]",
      "text/latex": [
       "$\\displaystyle \\left\\{\\left( - \\frac{\\alpha^{2}}{2} + \\frac{6 \\alpha}{11}, \\  \\frac{\\alpha^{2}}{4} - \\frac{\\alpha}{11}, \\  \\frac{\\alpha^{2}}{4} - \\frac{4 \\alpha}{11}\\right)\\right\\}$"
      ],
      "text/plain": [
       "⎧⎛   2         2        2      ⎞⎫\n",
       "⎪⎜  α    6⋅α  α    α   α    4⋅α⎟⎪\n",
       "⎨⎜- ── + ───, ── - ──, ── - ───⎟⎬\n",
       "⎪⎝  2     11  4    11  4     11⎠⎪\n",
       "⎩                               ⎭"
      ]
     },
     "execution_count": 36,
     "metadata": {},
     "output_type": "execute_result"
    }
   ],
   "source": [
    "#(b)\n",
    "alp=sp.symbols('alpha')\n",
    "m=sp.Matrix([[3,2,4],\n",
    "             [5,7,3],\n",
    "             [1,6,0]])\n",
    "b=sp.Matrix([0,alp,alp**2])\n",
    "sp.linsolve([m,b])"
   ]
  },
  {
   "cell_type": "markdown",
   "metadata": {
    "id": "FkyYCfpVxpBM"
   },
   "source": [
    "## 13.6 解微分方程式"
   ]
  },
  {
   "cell_type": "markdown",
   "metadata": {
    "id": "zTzuxG62vVN6"
   },
   "source": [
    "#### 第19題"
   ]
  },
  {
   "cell_type": "code",
   "execution_count": 37,
   "metadata": {
    "colab": {
     "base_uri": "https://localhost:8080/",
     "height": 54
    },
    "executionInfo": {
     "elapsed": 239,
     "status": "ok",
     "timestamp": 1649073880122,
     "user": {
      "displayName": "wien hong",
      "userId": "11131435925814580522"
     },
     "user_tz": -480
    },
    "id": "szBc5uY97vRW",
    "outputId": "f241e238-3048-4026-c3db-5dbcdb16319b"
   },
   "outputs": [
    {
     "data": {
      "image/png": "[encoded data removed]",
      "text/latex": [
       "$\\displaystyle - 5 y{\\left(x \\right)} + \\frac{d^{2}}{d x^{2}} y{\\left(x \\right)} = e^{5 x} \\sin{\\left(x \\right)}$"
      ],
      "text/plain": [
       "            2                    \n",
       "           d           5⋅x       \n",
       "-5⋅y(x) + ───(y(x)) = ℯ   ⋅sin(x)\n",
       "            2                    \n",
       "          dx                     "
      ]
     },
     "execution_count": 37,
     "metadata": {},
     "output_type": "execute_result"
    }
   ],
   "source": [
    "#(a)\n",
    "x=sp.symbols('x')\n",
    "y=sp.Function('y')\n",
    "eq=sp.Eq(y(x).diff(x,2)-5*y(x),sp.exp(5*x)*sp.sin(x))\n",
    "eq"
   ]
  },
  {
   "cell_type": "code",
   "execution_count": 38,
   "metadata": {
    "colab": {
     "base_uri": "https://localhost:8080/",
     "height": 54
    },
    "executionInfo": {
     "elapsed": 2254,
     "status": "ok",
     "timestamp": 1649073902237,
     "user": {
      "displayName": "wien hong",
      "userId": "11131435925814580522"
     },
     "user_tz": -480
    },
    "id": "j2ztmHTi_hDX",
    "outputId": "c624bfa3-2ef1-4544-854a-f31ab10ca011"
   },
   "outputs": [
    {
     "data": {
      "image/png": "[encoded data removed]",
      "text/latex": [
       "$\\displaystyle y{\\left(x \\right)} = C_{1} e^{- \\sqrt{5} x} + C_{2} e^{\\sqrt{5} x} + \\frac{19 e^{5 x} \\sin{\\left(x \\right)}}{461} - \\frac{10 e^{5 x} \\cos{\\left(x \\right)}}{461}$"
      ],
      "text/plain": [
       "                                  5⋅x              5⋅x       \n",
       "           -√5⋅x       √5⋅x   19⋅ℯ   ⋅sin(x)   10⋅ℯ   ⋅cos(x)\n",
       "y(x) = C₁⋅ℯ      + C₂⋅ℯ     + ────────────── - ──────────────\n",
       "                                   461              461      "
      ]
     },
     "execution_count": 38,
     "metadata": {},
     "output_type": "execute_result"
    }
   ],
   "source": [
    "sp.dsolve(eq)"
   ]
  },
  {
   "cell_type": "code",
   "execution_count": 39,
   "metadata": {
    "colab": {
     "base_uri": "https://localhost:8080/",
     "height": 56
    },
    "executionInfo": {
     "elapsed": 11,
     "status": "ok",
     "timestamp": 1649073902239,
     "user": {
      "displayName": "wien hong",
      "userId": "11131435925814580522"
     },
     "user_tz": -480
    },
    "id": "gaSxlzZO_mM2",
    "outputId": "56355941-adc1-4dc3-ebe1-6fc1d7943d85"
   },
   "outputs": [
    {
     "data": {
      "image/png": "[encoded data removed]",
      "text/latex": [
       "$\\displaystyle \\frac{d^{2}}{d x^{2}} y{\\left(x \\right)} + \\frac{\\frac{d}{d x} y{\\left(x \\right)}}{x} = x$"
      ],
      "text/plain": [
       "            d           \n",
       "  2         ──(y(x))    \n",
       " d          dx          \n",
       "───(y(x)) + ──────── = x\n",
       "  2            x        \n",
       "dx                      "
      ]
     },
     "execution_count": 39,
     "metadata": {},
     "output_type": "execute_result"
    }
   ],
   "source": [
    "#(b)\n",
    "x=sp.symbols('x')\n",
    "y=sp.Function('y')\n",
    "eq=sp.Eq(y(x).diff(x,2)+y(x).diff(x)/x,x)\n",
    "eq"
   ]
  },
  {
   "cell_type": "code",
   "execution_count": 40,
   "metadata": {
    "colab": {
     "base_uri": "https://localhost:8080/",
     "height": 54
    },
    "executionInfo": {
     "elapsed": 1330,
     "status": "ok",
     "timestamp": 1649073936177,
     "user": {
      "displayName": "wien hong",
      "userId": "11131435925814580522"
     },
     "user_tz": -480
    },
    "id": "9PKfg0diAGk-",
    "outputId": "3f8cef9d-a8ac-4d56-88e1-2c094cf6900b"
   },
   "outputs": [
    {
     "data": {
      "image/png": "[encoded data removed]",
      "text/latex": [
       "$\\displaystyle y{\\left(x \\right)} = C_{1} + C_{2} \\log{\\left(x \\right)} + \\frac{x^{3}}{9}$"
      ],
      "text/plain": [
       "                         3\n",
       "                        x \n",
       "y(x) = C₁ + C₂⋅log(x) + ──\n",
       "                        9 "
      ]
     },
     "execution_count": 40,
     "metadata": {},
     "output_type": "execute_result"
    }
   ],
   "source": [
    "sp.dsolve(eq)"
   ]
  },
  {
   "cell_type": "code",
   "execution_count": 41,
   "metadata": {
    "colab": {
     "base_uri": "https://localhost:8080/",
     "height": 54
    },
    "executionInfo": {
     "elapsed": 248,
     "status": "ok",
     "timestamp": 1649074260682,
     "user": {
      "displayName": "wien hong",
      "userId": "11131435925814580522"
     },
     "user_tz": -480
    },
    "id": "DNWaSO-Bd78S",
    "outputId": "53d0fbee-75a4-48da-e0f0-a276a28c4ba4"
   },
   "outputs": [
    {
     "data": {
      "image/png": "[encoded data removed]",
      "text/latex": [
       "$\\displaystyle - \\frac{d}{d x} y{\\left(x \\right)} + 2 \\frac{d^{2}}{d x^{2}} y{\\left(x \\right)} + \\frac{d^{3}}{d x^{3}} y{\\left(x \\right)} = 4 e^{x} - 3 \\cos{\\left(2 x \\right)}$"
      ],
      "text/plain": [
       "                 2           3                          \n",
       "  d             d           d             x             \n",
       "- ──(y(x)) + 2⋅───(y(x)) + ───(y(x)) = 4⋅ℯ  - 3⋅cos(2⋅x)\n",
       "  dx             2           3                          \n",
       "               dx          dx                           "
      ]
     },
     "execution_count": 41,
     "metadata": {},
     "output_type": "execute_result"
    }
   ],
   "source": [
    "#(c)\n",
    "x=sp.symbols('x')\n",
    "y=sp.Function('y')\n",
    "eq=sp.Eq(y(x).diff(x,3)+2*y(x).diff(x,2)-y(x).diff(x),4*sp.exp(x)-3*sp.cos(2*x))\n",
    "eq"
   ]
  },
  {
   "cell_type": "code",
   "execution_count": 42,
   "metadata": {
    "colab": {
     "base_uri": "https://localhost:8080/",
     "height": 53
    },
    "executionInfo": {
     "elapsed": 2315,
     "status": "ok",
     "timestamp": 1649074281056,
     "user": {
      "displayName": "wien hong",
      "userId": "11131435925814580522"
     },
     "user_tz": -480
    },
    "id": "mlBdyy7ze-PT",
    "outputId": "45b56c2b-c106-44e9-c813-d308dff39e47"
   },
   "outputs": [
    {
     "data": {
      "image/png": "[encoded data removed]",
      "text/latex": [
       "$\\displaystyle y{\\left(x \\right)} = C_{1} + C_{2} e^{x \\left(-1 + \\sqrt{2}\\right)} + C_{3} e^{x \\left(- \\sqrt{2} - 1\\right)} + 2 e^{x} + \\frac{15 \\sin{\\left(2 x \\right)}}{82} + \\frac{6 \\cos{\\left(2 x \\right)}}{41}$"
      ],
      "text/plain": [
       "                x⋅(-1 + √2)       x⋅(-√2 - 1)      x   15⋅sin(2⋅x)   6⋅cos(2⋅x\n",
       "y(x) = C₁ + C₂⋅ℯ            + C₃⋅ℯ            + 2⋅ℯ  + ─────────── + ─────────\n",
       "                                                            82           41   \n",
       "\n",
       ")\n",
       "─\n",
       " "
      ]
     },
     "execution_count": 42,
     "metadata": {},
     "output_type": "execute_result"
    }
   ],
   "source": [
    "sp.dsolve(eq)"
   ]
  },
  {
   "cell_type": "markdown",
   "metadata": {
    "id": "MfSgCB9NvWfK"
   },
   "source": [
    "#### 第21題"
   ]
  },
  {
   "cell_type": "code",
   "execution_count": 43,
   "metadata": {
    "id": "rTMgGkNA1baG"
   },
   "outputs": [],
   "source": [
    "# Systems of differential equations\n",
    "x=sp.Function('x')\n",
    "y=sp.Function('y')\n",
    "t=sp.symbols('t')"
   ]
  },
  {
   "cell_type": "code",
   "execution_count": 44,
   "metadata": {
    "colab": {
     "base_uri": "https://localhost:8080/",
     "height": 52
    },
    "executionInfo": {
     "elapsed": 1188,
     "status": "ok",
     "timestamp": 1649074352603,
     "user": {
      "displayName": "wien hong",
      "userId": "11131435925814580522"
     },
     "user_tz": -480
    },
    "id": "VLpyVEGL7gc9",
    "outputId": "09aaae8e-2951-4e59-97c9-0db0de0836d7"
   },
   "outputs": [
    {
     "data": {
      "image/png": "[encoded data removed]",
      "text/latex": [
       "$\\displaystyle 2 x{\\left(t \\right)} + 6 y{\\left(t \\right)} + \\frac{d}{d t} x{\\left(t \\right)} + \\frac{d}{d t} y{\\left(t \\right)} = 2 e^{t}$"
      ],
      "text/plain": [
       "                  d          d             t\n",
       "2⋅x(t) + 6⋅y(t) + ──(x(t)) + ──(y(t)) = 2⋅ℯ \n",
       "                  dt         dt             "
      ]
     },
     "execution_count": 44,
     "metadata": {},
     "output_type": "execute_result"
    }
   ],
   "source": [
    "eq1=sp.Eq(x(t).diff(t)+2*x(t)+y(t).diff(t)+6*y(t),2*sp.exp(t))\n",
    "eq1"
   ]
  },
  {
   "cell_type": "code",
   "execution_count": 45,
   "metadata": {
    "colab": {
     "base_uri": "https://localhost:8080/",
     "height": 52
    },
    "executionInfo": {
     "elapsed": 267,
     "status": "ok",
     "timestamp": 1649074373077,
     "user": {
      "displayName": "wien hong",
      "userId": "11131435925814580522"
     },
     "user_tz": -480
    },
    "id": "5Hq7Whqm7VfN",
    "outputId": "d3e6def9-d1a4-4008-b6e6-30fc9fdff0f0"
   },
   "outputs": [
    {
     "data": {
      "image/png": "[encoded data removed]",
      "text/latex": [
       "$\\displaystyle 3 x{\\left(t \\right)} + 8 y{\\left(t \\right)} + 2 \\frac{d}{d t} x{\\left(t \\right)} + 3 \\frac{d}{d t} y{\\left(t \\right)} = -1$"
      ],
      "text/plain": [
       "                    d            d            \n",
       "3⋅x(t) + 8⋅y(t) + 2⋅──(x(t)) + 3⋅──(y(t)) = -1\n",
       "                    dt           dt           "
      ]
     },
     "execution_count": 45,
     "metadata": {},
     "output_type": "execute_result"
    }
   ],
   "source": [
    "eq2=sp.Eq(2*x(t).diff(t)+3*x(t)+3*y(t).diff(t)+8*y(t),-1)\n",
    "eq2"
   ]
  },
  {
   "cell_type": "code",
   "execution_count": 46,
   "metadata": {
    "colab": {
     "base_uri": "https://localhost:8080/",
     "height": 58
    },
    "executionInfo": {
     "elapsed": 2334,
     "status": "ok",
     "timestamp": 1649074392096,
     "user": {
      "displayName": "wien hong",
      "userId": "11131435925814580522"
     },
     "user_tz": -480
    },
    "id": "XZ9iI1Qw8Kyn",
    "outputId": "7a72c780-83e5-49ba-f8a2-be5265ccb94b"
   },
   "outputs": [
    {
     "data": {
      "image/png": "[encoded data removed]",
      "text/latex": [
       "$\\displaystyle \\left[ x{\\left(t \\right)} = \\frac{10 e^{2 t}}{3} - 11 e^{t} - 3 + \\frac{35 e^{- t}}{3}, \\  y{\\left(t \\right)} = - \\frac{5 e^{2 t}}{3} + 5 e^{t} + 1 - \\frac{7 e^{- t}}{3}\\right]$"
      ],
      "text/plain": [
       "⎡           2⋅t                   -t              2⋅t                 -t⎤\n",
       "⎢       10⋅ℯ          t       35⋅ℯ             5⋅ℯ         t       7⋅ℯ  ⎥\n",
       "⎢x(t) = ─────── - 11⋅ℯ  - 3 + ──────, y(t) = - ────── + 5⋅ℯ  + 1 - ─────⎥\n",
       "⎣          3                    3                3                   3  ⎦"
      ]
     },
     "execution_count": 46,
     "metadata": {},
     "output_type": "execute_result"
    }
   ],
   "source": [
    "sol=sp.dsolve([eq1,eq2],ics={x(0):1,y(0):2})\n",
    "sol"
   ]
  }
 ],
 "metadata": {
  "colab": {
   "authorship_tag": "ABX9TyNufQ6MoP3Ig5z7aYVKIODN",
   "collapsed_sections": [],
   "name": "ch13-習題參考答案.ipynb",
   "provenance": [
    {
     "file_id": "1gTYCxuj7te3roemCBKVnG4FBSsQMkjSN",
     "timestamp": 1643014297807
    }
   ],
   "toc_visible": true
  },
  "kernelspec": {
   "display_name": "Python 3 (ipykernel)",
   "language": "python",
   "name": "python3"
  },
  "language_info": {
   "codemirror_mode": {
    "name": "ipython",
    "version": 3
   },
   "file_extension": ".py",
   "mimetype": "text/x-python",
   "name": "python",
   "nbconvert_exporter": "python",
   "pygments_lexer": "ipython3",
   "version": "3.8.9"
  }
 },
 "nbformat": 4,
 "nbformat_minor": 4
}

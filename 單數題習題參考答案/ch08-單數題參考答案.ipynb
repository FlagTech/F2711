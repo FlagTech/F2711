{
 "cells": [
  {
   "cell_type": "markdown",
   "id": "caroline-cooking",
   "metadata": {
    "id": "integral-flexibility"
   },
   "source": [
    "### 8.1 檔案處理"
   ]
  },
  {
   "cell_type": "markdown",
   "id": "current-marine",
   "metadata": {
    "id": "E_SsfFxsxWol"
   },
   "source": [
    "#### 第1題"
   ]
  },
  {
   "cell_type": "code",
   "execution_count": 2,
   "id": "agreed-highway",
   "metadata": {
    "id": "yB1oB_Wc-QRo"
   },
   "outputs": [],
   "source": [
    "#(a)\n",
    "f=open('sample.txt','w')\n",
    "f.write('Python')\n",
    "f.close()"
   ]
  },
  {
   "cell_type": "code",
   "execution_count": 3,
   "id": "ongoing-emission",
   "metadata": {
    "colab": {
     "base_uri": "https://localhost:8080/"
    },
    "executionInfo": {
     "elapsed": 267,
     "status": "ok",
     "timestamp": 1648946171296,
     "user": {
      "displayName": "wien hong",
      "userId": "11131435925814580522"
     },
     "user_tz": -480
    },
    "id": "YxBNmTGS-dbk",
    "outputId": "ccbb4dcf-88b9-479e-e91f-b35aad8b0b51"
   },
   "outputs": [
    {
     "data": {
      "text/plain": [
       "['P', 'y', 't', 'h', 'o', 'n']"
      ]
     },
     "execution_count": 3,
     "metadata": {},
     "output_type": "execute_result"
    }
   ],
   "source": [
    "#(b)\n",
    "f=open('sample.txt','r')\n",
    "lst=[]\n",
    "while(True):\n",
    "    ch=f.read(1)\n",
    "    if ch=='':\n",
    "        break    \n",
    "    lst.append(ch)\n",
    "f.close()\n",
    "lst"
   ]
  },
  {
   "cell_type": "markdown",
   "id": "frozen-safety",
   "metadata": {
    "id": "136wqCIVxh1-"
   },
   "source": [
    "#### 第3題"
   ]
  },
  {
   "cell_type": "code",
   "execution_count": 4,
   "id": "straight-cherry",
   "metadata": {
    "id": "Cf1is00UmwFS"
   },
   "outputs": [],
   "source": [
    "#codes for creating max.txt\n",
    "nums='23 45 23 65\\n44 56 88 21\\n50 67 89 12'\n",
    "with open('max.txt','w') as f:\n",
    "    f.write(nums)"
   ]
  },
  {
   "cell_type": "code",
   "execution_count": 5,
   "id": "absolute-memorial",
   "metadata": {
    "id": "jw3UqQJfnqIx"
   },
   "outputs": [],
   "source": [
    "import csv\n",
    "with open('max.txt','r') as f:\n",
    "    rows=csv.reader(f,delimiter=' ')\n",
    "    data=list(rows)"
   ]
  },
  {
   "cell_type": "code",
   "execution_count": 6,
   "id": "caring-wealth",
   "metadata": {
    "colab": {
     "base_uri": "https://localhost:8080/"
    },
    "executionInfo": {
     "elapsed": 240,
     "status": "ok",
     "timestamp": 1648946347008,
     "user": {
      "displayName": "wien hong",
      "userId": "11131435925814580522"
     },
     "user_tz": -480
    },
    "id": "kEsOMf3zoxWQ",
    "outputId": "97e0d467-e936-41f5-8c9a-4bf9949cd373"
   },
   "outputs": [
    {
     "name": "stdout",
     "output_type": "stream",
     "text": [
      "max=89, min=12\n"
     ]
    }
   ],
   "source": [
    "arr=[int(n) for row in data for n in row]\n",
    "print(f'max={max(arr)}, min={min(arr)}')"
   ]
  },
  {
   "cell_type": "markdown",
   "id": "quarterly-telescope",
   "metadata": {
    "id": "mb0AlTFExiHF"
   },
   "source": [
    "#### 第5題"
   ]
  },
  {
   "cell_type": "code",
   "execution_count": 7,
   "id": "recognized-framing",
   "metadata": {
    "colab": {
     "base_uri": "https://localhost:8080/"
    },
    "executionInfo": {
     "elapsed": 241,
     "status": "ok",
     "timestamp": 1648946381447,
     "user": {
      "displayName": "wien hong",
      "userId": "11131435925814580522"
     },
     "user_tz": -480
    },
    "id": "8JfY2q9JsCKo",
    "outputId": "b22bb513-7c82-48ab-ac0c-b08d8e37ec08"
   },
   "outputs": [
    {
     "name": "stdout",
     "output_type": "stream",
     "text": [
      "[2, 3, 5, 7, 11, 13, 17, 19, 23, 29, 31, 37, 41, 43, 47, 53, 59, 61, 67, 71, 73, 79, 83, 89, 97, 101, 103, 107, 109, 113, 127, 131, 137, 139, 149, 151, 157, 163, 167, 173, 179, 181, 191, 193, 197, 199, 211, 223, 227, 229, 233, 239, 241, 251, 257, 263, 269, 271, 277, 281, 283, 293, 307, 311, 313, 317, 331, 337, 347, 349, 353, 359, 367, 373, 379, 383, 389, 397, 401, 409, 419, 421, 431, 433, 439, 443, 449, 457, 461, 463, 467, 479, 487, 491, 499, 503, 509, 521, 523, 541, 547, 557, 563, 569, 571, 577, 587, 593, 599, 601, 607, 613, 617, 619, 631, 641, 643, 647, 653, 659, 661, 673, 677, 683, 691, 701, 709, 719, 727, 733, 739, 743, 751, 757, 761, 769, 773, 787, 797, 809, 811, 821, 823, 827, 829, 839, 853, 857, 859, 863, 877, 881, 883, 887, 907, 911, 919, 929, 937, 941, 947, 953, 967, 971, 977, 983, 991, 997]\n"
     ]
    }
   ],
   "source": [
    "#(a)\n",
    "lst=[2]\n",
    "for n in range(3,1000+1):\n",
    "    for k in lst:\n",
    "        if n%k==0: # not a prime\n",
    "            break\n",
    "    else:\n",
    "        lst.append(n)\n",
    "print(lst)"
   ]
  },
  {
   "cell_type": "code",
   "execution_count": 8,
   "id": "rubber-possibility",
   "metadata": {
    "id": "Bnn2aUUetaWp"
   },
   "outputs": [],
   "source": [
    "#(b)\n",
    "import pickle\n",
    "with open('primes.bin','wb') as f:\n",
    "    f.write(pickle.dumps(lst)) "
   ]
  },
  {
   "cell_type": "code",
   "execution_count": 9,
   "id": "fitting-preservation",
   "metadata": {
    "colab": {
     "base_uri": "https://localhost:8080/"
    },
    "executionInfo": {
     "elapsed": 235,
     "status": "ok",
     "timestamp": 1648946418526,
     "user": {
      "displayName": "wien hong",
      "userId": "11131435925814580522"
     },
     "user_tz": -480
    },
    "id": "aa-qQ8eGvC6R",
    "outputId": "df901523-d19d-460f-994e-7f4965a6f0c6"
   },
   "outputs": [
    {
     "name": "stdout",
     "output_type": "stream",
     "text": [
      "[2, 3, 5, 7, 11, 13, 17, 19, 23, 29, 31, 37, 41, 43, 47, 53, 59, 61, 67, 71, 73, 79, 83, 89, 97, 101, 103, 107, 109, 113, 127, 131, 137, 139, 149, 151, 157, 163, 167, 173, 179, 181, 191, 193, 197, 199, 211, 223, 227, 229, 233, 239, 241, 251, 257, 263, 269, 271, 277, 281, 283, 293, 307, 311, 313, 317, 331, 337, 347, 349, 353, 359, 367, 373, 379, 383, 389, 397, 401, 409, 419, 421, 431, 433, 439, 443, 449, 457, 461, 463, 467, 479, 487, 491, 499, 503, 509, 521, 523, 541, 547, 557, 563, 569, 571, 577, 587, 593, 599, 601, 607, 613, 617, 619, 631, 641, 643, 647, 653, 659, 661, 673, 677, 683, 691, 701, 709, 719, 727, 733, 739, 743, 751, 757, 761, 769, 773, 787, 797, 809, 811, 821, 823, 827, 829, 839, 853, 857, 859, 863, 877, 881, 883, 887, 907, 911, 919, 929, 937, 941, 947, 953, 967, 971, 977, 983, 991, 997]\n"
     ]
    }
   ],
   "source": [
    "#(c)\n",
    "with open('primes.bin','rb') as f:\n",
    "    nums=f.read() \n",
    "    \n",
    "lst2=pickle.loads(nums)\n",
    "print(lst2)"
   ]
  },
  {
   "cell_type": "markdown",
   "id": "incorporated-monthly",
   "metadata": {
    "id": "Fu4xekNuxrSr"
   },
   "source": [
    "#### 第7題"
   ]
  },
  {
   "cell_type": "code",
   "execution_count": 10,
   "id": "posted-remains",
   "metadata": {
    "colab": {
     "base_uri": "https://localhost:8080/"
    },
    "executionInfo": {
     "elapsed": 242,
     "status": "ok",
     "timestamp": 1648946529512,
     "user": {
      "displayName": "wien hong",
      "userId": "11131435925814580522"
     },
     "user_tz": -480
    },
    "id": "F-bhFlAYxIi_",
    "outputId": "03ec6263-93d3-4aa4-8d3f-6146dcf417a6"
   },
   "outputs": [
    {
     "data": {
      "text/plain": [
       "[['12', '65', '37', '1024'], ['122', '43', '23', '12']]"
      ]
     },
     "execution_count": 10,
     "metadata": {},
     "output_type": "execute_result"
    }
   ],
   "source": [
    "import csv\n",
    "from io import StringIO\n",
    "csv_data='12,65,37,1024\\n122,43,23,12'\n",
    "f0=StringIO(csv_data)\n",
    "[i for i in csv.reader(f0,delimiter=',')]"
   ]
  },
  {
   "cell_type": "code",
   "execution_count": 11,
   "id": "bulgarian-dealing",
   "metadata": {
    "colab": {
     "base_uri": "https://localhost:8080/"
    },
    "executionInfo": {
     "elapsed": 252,
     "status": "ok",
     "timestamp": 1648946537271,
     "user": {
      "displayName": "wien hong",
      "userId": "11131435925814580522"
     },
     "user_tz": -480
    },
    "id": "mSwDovlziWDI",
    "outputId": "3fdcd616-ebee-4224-ced2-6d4a27c64fdc"
   },
   "outputs": [
    {
     "data": {
      "text/plain": [
       "b'\\x02\\x04\\x05\\n'"
      ]
     },
     "execution_count": 11,
     "metadata": {},
     "output_type": "execute_result"
    }
   ],
   "source": [
    "from io import BytesIO\n",
    "f1=BytesIO(b'\\x02\\x04\\x05\\n\\x14\\x192d')\n",
    "f1.read(4)"
   ]
  },
  {
   "cell_type": "code",
   "execution_count": 12,
   "id": "sorted-husband",
   "metadata": {
    "colab": {
     "base_uri": "https://localhost:8080/"
    },
    "executionInfo": {
     "elapsed": 276,
     "status": "ok",
     "timestamp": 1648946612902,
     "user": {
      "displayName": "wien hong",
      "userId": "11131435925814580522"
     },
     "user_tz": -480
    },
    "id": "wUSiD7lCjOrE",
    "outputId": "8356472f-7a89-4e6c-89b2-ce778f42e8e1"
   },
   "outputs": [
    {
     "data": {
      "text/plain": [
       "90"
      ]
     },
     "execution_count": 12,
     "metadata": {},
     "output_type": "execute_result"
    }
   ],
   "source": [
    "#(a)\n",
    "csv_data='75,87,86,19,69\\n78,65,12,77,90'\n",
    "f0=StringIO(csv_data)\n",
    "lst=[i for i in csv.reader(f0,delimiter=',')]\n",
    "max([int(n) for row in lst for n in row])"
   ]
  },
  {
   "cell_type": "code",
   "execution_count": 13,
   "id": "binary-development",
   "metadata": {
    "colab": {
     "base_uri": "https://localhost:8080/"
    },
    "executionInfo": {
     "elapsed": 260,
     "status": "ok",
     "timestamp": 1648946619287,
     "user": {
      "displayName": "wien hong",
      "userId": "11131435925814580522"
     },
     "user_tz": -480
    },
    "id": "RxrOT92nva1d",
    "outputId": "3892cf9c-ab49-4007-e449-beec2e1830e9"
   },
   "outputs": [
    {
     "data": {
      "text/plain": [
       "[{3, 5}, 'Python', (64, 1024)]"
      ]
     },
     "execution_count": 13,
     "metadata": {},
     "output_type": "execute_result"
    }
   ],
   "source": [
    "#(b)\n",
    "import pickle\n",
    "barr=pickle.dumps([{3,5},'Python',(64,1024)])\n",
    "f1=BytesIO(barr)\n",
    "pickle.loads(f1.read())"
   ]
  },
  {
   "cell_type": "markdown",
   "id": "amber-affect",
   "metadata": {
    "id": "commercial-intellectual"
   },
   "source": [
    "### 8.2 異常處理"
   ]
  },
  {
   "cell_type": "markdown",
   "id": "entertaining-fellowship",
   "metadata": {
    "id": "EEmaYctVxzig"
   },
   "source": [
    "#### 第9題"
   ]
  },
  {
   "cell_type": "code",
   "execution_count": 14,
   "id": "seeing-testing",
   "metadata": {
    "colab": {
     "base_uri": "https://localhost:8080/"
    },
    "executionInfo": {
     "elapsed": 25952,
     "status": "ok",
     "timestamp": 1648946729247,
     "user": {
      "displayName": "wien hong",
      "userId": "11131435925814580522"
     },
     "user_tz": -480
    },
    "id": "pW_e9ll5zVr3",
    "outputId": "74b42283-c8bd-4ada-a2ee-73c1cec495bb"
   },
   "outputs": [
    {
     "name": "stdin",
     "output_type": "stream",
     "text": [
      "input a: 45\n",
      "input b: 48\n"
     ]
    },
    {
     "name": "stdout",
     "output_type": "stream",
     "text": [
      "45 小於 48\n",
      "判別完成\n"
     ]
    },
    {
     "name": "stdin",
     "output_type": "stream",
     "text": [
      "input a: q\n"
     ]
    },
    {
     "name": "stdout",
     "output_type": "stream",
     "text": [
      "程式結束\n"
     ]
    }
   ],
   "source": [
    "while(True):\n",
    "    try:\n",
    "        a=input('input a:')\n",
    "        if a in 'qQ':\n",
    "            break\n",
    "        ia=int(a)     \n",
    "\n",
    "        b=input('input b:')\n",
    "        if b in 'qQ':\n",
    "            break\n",
    "        ib=int(b)\n",
    "        \n",
    "        if ia<ib:\n",
    "            print(f'{ia} 小於 {ib}')\n",
    "        else:\n",
    "            print(f'{ia} 大於或等於 {ib}')\n",
    "        print('判別完成')\n",
    "    except:\n",
    "        print('無法判別大小，請重新輸入')\n",
    "print('程式結束')"
   ]
  },
  {
   "cell_type": "markdown",
   "id": "interesting-joining",
   "metadata": {
    "id": "7v134QGhxzv4"
   },
   "source": [
    "#### 第11題"
   ]
  },
  {
   "cell_type": "code",
   "execution_count": 15,
   "id": "immune-pregnancy",
   "metadata": {
    "id": "jov5cKCXP8GR"
   },
   "outputs": [],
   "source": [
    "def to_byteArray(lst):\n",
    "    try:\n",
    "        return bytes(lst)\n",
    "    except:\n",
    "        print('無法轉換')"
   ]
  },
  {
   "cell_type": "code",
   "execution_count": 16,
   "id": "nominated-coast",
   "metadata": {
    "colab": {
     "base_uri": "https://localhost:8080/"
    },
    "executionInfo": {
     "elapsed": 310,
     "status": "ok",
     "timestamp": 1648947200361,
     "user": {
      "displayName": "wien hong",
      "userId": "11131435925814580522"
     },
     "user_tz": -480
    },
    "id": "VHuOojKEQ1NE",
    "outputId": "c4c6716f-7cce-4ecc-f4b7-48e7500c1ab1"
   },
   "outputs": [
    {
     "data": {
      "text/plain": [
       "b'-!)\\x17\\x80'"
      ]
     },
     "execution_count": 16,
     "metadata": {},
     "output_type": "execute_result"
    }
   ],
   "source": [
    "to_byteArray([45,33,41,23,128])"
   ]
  },
  {
   "cell_type": "code",
   "execution_count": 17,
   "id": "perceived-recall",
   "metadata": {
    "colab": {
     "base_uri": "https://localhost:8080/"
    },
    "executionInfo": {
     "elapsed": 6,
     "status": "ok",
     "timestamp": 1648947200757,
     "user": {
      "displayName": "wien hong",
      "userId": "11131435925814580522"
     },
     "user_tz": -480
    },
    "id": "h3Q_zwxhQ-GE",
    "outputId": "e3475b48-78a9-4c61-fc24-932d936aa0cc"
   },
   "outputs": [
    {
     "name": "stdout",
     "output_type": "stream",
     "text": [
      "無法轉換\n"
     ]
    }
   ],
   "source": [
    "to_byteArray([450,33,41,23,128])"
   ]
  },
  {
   "cell_type": "markdown",
   "id": "dominant-figure",
   "metadata": {
    "id": "local-politics"
   },
   "source": [
    "### 8.3 模組與套件"
   ]
  },
  {
   "cell_type": "markdown",
   "id": "exposed-transport",
   "metadata": {
    "id": "a18dPBh0x6Vw"
   },
   "source": [
    "#### 第13題"
   ]
  },
  {
   "cell_type": "code",
   "execution_count": null,
   "id": "western-builder",
   "metadata": {
    "id": "capable-genealogy"
   },
   "outputs": [],
   "source": [
    "# m1.py\n",
    "# def factors(n):\n",
    "#     lst=[1]\n",
    "#     for i in range(2,n+1):\n",
    "#         if n%i==0:\n",
    "#             lst.append(i)\n",
    "#     return lst"
   ]
  },
  {
   "cell_type": "code",
   "execution_count": null,
   "id": "continent-delay",
   "metadata": {
    "id": "saved-final"
   },
   "outputs": [],
   "source": [
    "# m2.py\n",
    "# from m1 import factors\n",
    "# def is_prime(n):\n",
    "#     if len(factors(n))==2:\n",
    "#         return True\n",
    "#     else:\n",
    "#         return False"
   ]
  },
  {
   "cell_type": "code",
   "execution_count": null,
   "id": "sweet-stanford",
   "metadata": {
    "id": "impossible-century"
   },
   "outputs": [],
   "source": [
    "from m2 import is_prime"
   ]
  },
  {
   "cell_type": "code",
   "execution_count": null,
   "id": "victorian-promise",
   "metadata": {
    "colab": {
     "base_uri": "https://localhost:8080/"
    },
    "executionInfo": {
     "elapsed": 4,
     "status": "ok",
     "timestamp": 1639810675177,
     "user": {
      "displayName": "wien hong",
      "photoUrl": "https://lh3.googleusercontent.com/a/default-user=s64",
      "userId": "11131435925814580522"
     },
     "user_tz": -480
    },
    "id": "accessible-bookmark",
    "outputId": "0e1eb1c1-a0c9-4d3e-9cfd-8dafa00c442b"
   },
   "outputs": [
    {
     "data": {
      "text/plain": [
       "True"
      ]
     },
     "execution_count": 8,
     "metadata": {},
     "output_type": "execute_result"
    }
   ],
   "source": [
    "is_prime(13)"
   ]
  }
 ],
 "metadata": {
  "colab": {
   "collapsed_sections": [
    "mb0AlTFExiHF",
    "QUi1RVeLxigK",
    "Fu4xekNuxrSr",
    "Urk8NmQyxzXu",
    "EEmaYctVxzig",
    "7v134QGhxzv4",
    "kLF_2O-Ex6PM",
    "a18dPBh0x6Vw"
   ],
   "name": "「ch08-習題參考答案.ipynb」的副本",
   "provenance": [
    {
     "file_id": "1BN32_rGHH79qrLUk4dOwkuAoN0n3nrK5",
     "timestamp": 1649217180334
    }
   ]
  },
  "kernelspec": {
   "display_name": "Python 3 (ipykernel)",
   "language": "python",
   "name": "python3"
  },
  "language_info": {
   "codemirror_mode": {
    "name": "ipython",
    "version": 3
   },
   "file_extension": ".py",
   "mimetype": "text/x-python",
   "name": "python",
   "nbconvert_exporter": "python",
   "pygments_lexer": "ipython3",
   "version": "3.8.9"
  }
 },
 "nbformat": 4,
 "nbformat_minor": 5
}

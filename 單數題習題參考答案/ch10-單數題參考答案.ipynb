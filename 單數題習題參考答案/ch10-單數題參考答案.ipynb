{
 "cells": [
  {
   "cell_type": "code",
   "execution_count": 1,
   "metadata": {
    "id": "8OcomD2Aj0CQ"
   },
   "outputs": [],
   "source": [
    "import numpy as np"
   ]
  },
  {
   "cell_type": "markdown",
   "metadata": {
    "id": "imhd-eZrU56P"
   },
   "source": [
    "### 10.1 基本運算"
   ]
  },
  {
   "cell_type": "markdown",
   "metadata": {
    "id": "IqJ83Q5eVrSg"
   },
   "source": [
    "#### 第1題"
   ]
  },
  {
   "cell_type": "code",
   "execution_count": 2,
   "metadata": {
    "id": "jTJVRXCnjn5E"
   },
   "outputs": [],
   "source": [
    "a=np.array([67.4, 76.1, 73.7, 84.9])"
   ]
  },
  {
   "cell_type": "code",
   "execution_count": 3,
   "metadata": {
    "colab": {
     "base_uri": "https://localhost:8080/"
    },
    "executionInfo": {
     "elapsed": 288,
     "status": "ok",
     "timestamp": 1648973978298,
     "user": {
      "displayName": "wien hong",
      "userId": "11131435925814580522"
     },
     "user_tz": -480
    },
    "id": "HBtGLlytjyUm",
    "outputId": "7708a7ed-1a87-4be1-ec17-56948f0497a7"
   },
   "outputs": [
    {
     "data": {
      "text/plain": [
       "array([8.2097503 , 8.7235314 , 8.58487041, 9.2141196 ])"
      ]
     },
     "execution_count": 3,
     "metadata": {},
     "output_type": "execute_result"
    }
   ],
   "source": [
    "#(a)\n",
    "np.sqrt(a)"
   ]
  },
  {
   "cell_type": "code",
   "execution_count": 4,
   "metadata": {
    "colab": {
     "base_uri": "https://localhost:8080/"
    },
    "executionInfo": {
     "elapsed": 299,
     "status": "ok",
     "timestamp": 1648974017230,
     "user": {
      "displayName": "wien hong",
      "userId": "11131435925814580522"
     },
     "user_tz": -480
    },
    "id": "aYGC4hO4j8sO",
    "outputId": "cbccc4f7-0d3a-4619-d3c0-da0968983635"
   },
   "outputs": [
    {
     "data": {
      "text/plain": [
       "array([0.4, 0.1, 0.7, 0.9])"
      ]
     },
     "execution_count": 4,
     "metadata": {},
     "output_type": "execute_result"
    }
   ],
   "source": [
    "#(b)\n",
    "np.modf(a)[0]"
   ]
  },
  {
   "cell_type": "code",
   "execution_count": 5,
   "metadata": {
    "colab": {
     "base_uri": "https://localhost:8080/"
    },
    "executionInfo": {
     "elapsed": 282,
     "status": "ok",
     "timestamp": 1648974022714,
     "user": {
      "displayName": "wien hong",
      "userId": "11131435925814580522"
     },
     "user_tz": -480
    },
    "id": "azTNDf9-kTyE",
    "outputId": "1b702c99-cfc4-4c5f-a05b-e4b632ef3325"
   },
   "outputs": [
    {
     "data": {
      "text/plain": [
       "array([76.1, 84.9])"
      ]
     },
     "execution_count": 5,
     "metadata": {},
     "output_type": "execute_result"
    }
   ],
   "source": [
    "#(c)\n",
    "a[np.floor(a)%2==0]"
   ]
  },
  {
   "cell_type": "code",
   "execution_count": 6,
   "metadata": {
    "colab": {
     "base_uri": "https://localhost:8080/"
    },
    "executionInfo": {
     "elapsed": 286,
     "status": "ok",
     "timestamp": 1648974030579,
     "user": {
      "displayName": "wien hong",
      "userId": "11131435925814580522"
     },
     "user_tz": -480
    },
    "id": "Wl4KgMKXkwhf",
    "outputId": "b2212a7e-1679-4ed9-a89a-d6419221e53a"
   },
   "outputs": [
    {
     "data": {
      "text/plain": [
       "0"
      ]
     },
     "execution_count": 6,
     "metadata": {},
     "output_type": "execute_result"
    }
   ],
   "source": [
    "#(d)\n",
    "np.argmin(a)"
   ]
  },
  {
   "cell_type": "code",
   "execution_count": 7,
   "metadata": {
    "colab": {
     "base_uri": "https://localhost:8080/"
    },
    "executionInfo": {
     "elapsed": 309,
     "status": "ok",
     "timestamp": 1648974036984,
     "user": {
      "displayName": "wien hong",
      "userId": "11131435925814580522"
     },
     "user_tz": -480
    },
    "id": "JVtuvPUXk8Ib",
    "outputId": "db00b920-03d5-4f8b-a2e3-764ca7970939"
   },
   "outputs": [
    {
     "data": {
      "text/plain": [
       "75.525"
      ]
     },
     "execution_count": 7,
     "metadata": {},
     "output_type": "execute_result"
    }
   ],
   "source": [
    "#(e)\n",
    "a[a>60].mean()"
   ]
  },
  {
   "cell_type": "markdown",
   "metadata": {
    "id": "qAOmbLtkVwOf"
   },
   "source": [
    "#### 第3題"
   ]
  },
  {
   "cell_type": "code",
   "execution_count": 8,
   "metadata": {
    "id": "4UUJyPqZoEoN"
   },
   "outputs": [],
   "source": [
    "a=np.array([[12, 10,  0,  9, 12],\n",
    "            [ 3, 17, 18, -3,  3],\n",
    "            [ 0,  7,  8,  5,  0]])"
   ]
  },
  {
   "cell_type": "code",
   "execution_count": 9,
   "metadata": {
    "colab": {
     "base_uri": "https://localhost:8080/"
    },
    "executionInfo": {
     "elapsed": 285,
     "status": "ok",
     "timestamp": 1648974082804,
     "user": {
      "displayName": "wien hong",
      "userId": "11131435925814580522"
     },
     "user_tz": -480
    },
    "id": "KA5inrz6oiHw",
    "outputId": "96596044-0990-4160-9de7-0bed5f02d59a"
   },
   "outputs": [
    {
     "data": {
      "text/plain": [
       "array([12, 18,  8])"
      ]
     },
     "execution_count": 9,
     "metadata": {},
     "output_type": "execute_result"
    }
   ],
   "source": [
    "#(a)\n",
    "np.max(a,axis=1)"
   ]
  },
  {
   "cell_type": "code",
   "execution_count": 10,
   "metadata": {
    "colab": {
     "base_uri": "https://localhost:8080/"
    },
    "executionInfo": {
     "elapsed": 300,
     "status": "ok",
     "timestamp": 1648974107283,
     "user": {
      "displayName": "wien hong",
      "userId": "11131435925814580522"
     },
     "user_tz": -480
    },
    "id": "jtdfoI9Go1tL",
    "outputId": "b66a2e82-f5e7-4243-f7b0-79521434009f"
   },
   "outputs": [
    {
     "data": {
      "text/plain": [
       "array([2, 2, 0, 1, 2], dtype=int64)"
      ]
     },
     "execution_count": 10,
     "metadata": {},
     "output_type": "execute_result"
    }
   ],
   "source": [
    "#(b)\n",
    "np.argmin(a,axis=0)"
   ]
  },
  {
   "cell_type": "code",
   "execution_count": 11,
   "metadata": {
    "colab": {
     "base_uri": "https://localhost:8080/"
    },
    "executionInfo": {
     "elapsed": 297,
     "status": "ok",
     "timestamp": 1648974110837,
     "user": {
      "displayName": "wien hong",
      "userId": "11131435925814580522"
     },
     "user_tz": -480
    },
    "id": "oOSZRU_3pA8W",
    "outputId": "db5b7245-8402-43f4-b629-cd94f83a36e6"
   },
   "outputs": [
    {
     "data": {
      "text/plain": [
       "array([43, 38, 20])"
      ]
     },
     "execution_count": 11,
     "metadata": {},
     "output_type": "execute_result"
    }
   ],
   "source": [
    "#(c)\n",
    "np.sum(a,axis=1)"
   ]
  },
  {
   "cell_type": "code",
   "execution_count": 12,
   "metadata": {
    "colab": {
     "base_uri": "https://localhost:8080/"
    },
    "executionInfo": {
     "elapsed": 385,
     "status": "ok",
     "timestamp": 1648974113947,
     "user": {
      "displayName": "wien hong",
      "userId": "11131435925814580522"
     },
     "user_tz": -480
    },
    "id": "lVzIDRSEpHN0",
    "outputId": "9ff9a435-1494-402c-ad45-9a02326e3267"
   },
   "outputs": [
    {
     "data": {
      "text/plain": [
       "array([ 5.        , 11.33333333,  8.66666667,  3.66666667,  5.        ])"
      ]
     },
     "execution_count": 12,
     "metadata": {},
     "output_type": "execute_result"
    }
   ],
   "source": [
    "#(d)\n",
    "np.mean(a,axis=0)"
   ]
  },
  {
   "cell_type": "code",
   "execution_count": 13,
   "metadata": {
    "colab": {
     "base_uri": "https://localhost:8080/"
    },
    "executionInfo": {
     "elapsed": 296,
     "status": "ok",
     "timestamp": 1648974118238,
     "user": {
      "displayName": "wien hong",
      "userId": "11131435925814580522"
     },
     "user_tz": -480
    },
    "id": "T7rEnIbgpTnE",
    "outputId": "08e79a3d-39c4-4acb-b512-d4ed218c41a1"
   },
   "outputs": [
    {
     "data": {
      "text/plain": [
       "(array([0, 2, 2], dtype=int64), array([2, 0, 4], dtype=int64))"
      ]
     },
     "execution_count": 13,
     "metadata": {},
     "output_type": "execute_result"
    }
   ],
   "source": [
    "#(e)\n",
    "np.where(a==0)"
   ]
  },
  {
   "cell_type": "code",
   "execution_count": 14,
   "metadata": {
    "colab": {
     "base_uri": "https://localhost:8080/"
    },
    "executionInfo": {
     "elapsed": 260,
     "status": "ok",
     "timestamp": 1648974131528,
     "user": {
      "displayName": "wien hong",
      "userId": "11131435925814580522"
     },
     "user_tz": -480
    },
    "id": "_3x0ay3wp6EU",
    "outputId": "718ee0f8-3dd0-4e9d-8b63-676a9b19e280"
   },
   "outputs": [
    {
     "data": {
      "text/plain": [
       "104"
      ]
     },
     "execution_count": 14,
     "metadata": {},
     "output_type": "execute_result"
    }
   ],
   "source": [
    "#(f)\n",
    "a[a>0].sum()"
   ]
  },
  {
   "cell_type": "code",
   "execution_count": 15,
   "metadata": {
    "colab": {
     "base_uri": "https://localhost:8080/"
    },
    "executionInfo": {
     "elapsed": 289,
     "status": "ok",
     "timestamp": 1648974139483,
     "user": {
      "displayName": "wien hong",
      "userId": "11131435925814580522"
     },
     "user_tz": -480
    },
    "id": "Gj1N4sFvqMyj",
    "outputId": "c7e62dc6-f617-440f-949c-7f166e4da9d9"
   },
   "outputs": [
    {
     "data": {
      "text/plain": [
       "(array([1], dtype=int64), array([2], dtype=int64))"
      ]
     },
     "execution_count": 15,
     "metadata": {},
     "output_type": "execute_result"
    }
   ],
   "source": [
    "#(g)\n",
    "np.where(a==a.max())"
   ]
  },
  {
   "cell_type": "code",
   "execution_count": 16,
   "metadata": {
    "colab": {
     "base_uri": "https://localhost:8080/"
    },
    "executionInfo": {
     "elapsed": 263,
     "status": "ok",
     "timestamp": 1648974152418,
     "user": {
      "displayName": "wien hong",
      "userId": "11131435925814580522"
     },
     "user_tz": -480
    },
    "id": "W2cd-m-vqVsW",
    "outputId": "5ce57d62-e652-49d0-c644-4172b8ca8055"
   },
   "outputs": [
    {
     "data": {
      "text/plain": [
       "array([[10,  9],\n",
       "       [17, -3],\n",
       "       [ 7,  5]])"
      ]
     },
     "execution_count": 16,
     "metadata": {},
     "output_type": "execute_result"
    }
   ],
   "source": [
    "#(h)\n",
    "a[:,np.all(a!=0,axis=0)]"
   ]
  },
  {
   "cell_type": "code",
   "execution_count": 17,
   "metadata": {
    "colab": {
     "base_uri": "https://localhost:8080/"
    },
    "executionInfo": {
     "elapsed": 286,
     "status": "ok",
     "timestamp": 1648974175750,
     "user": {
      "displayName": "wien hong",
      "userId": "11131435925814580522"
     },
     "user_tz": -480
    },
    "id": "jBZVZLDWs6Jp",
    "outputId": "8ee03cb9-6219-4a4e-db82-7d1417cc69ec"
   },
   "outputs": [
    {
     "data": {
      "text/plain": [
       "array([[ 0,  9, 10, 12],\n",
       "       [18, -3, 17,  3],\n",
       "       [ 8,  5,  7,  0]])"
      ]
     },
     "execution_count": 17,
     "metadata": {},
     "output_type": "execute_result"
    }
   ],
   "source": [
    "#(i)\n",
    "np.unique(a,axis=1)"
   ]
  },
  {
   "cell_type": "code",
   "execution_count": 18,
   "metadata": {
    "colab": {
     "base_uri": "https://localhost:8080/"
    },
    "executionInfo": {
     "elapsed": 288,
     "status": "ok",
     "timestamp": 1638324072407,
     "user": {
      "displayName": "wien hong",
      "photoUrl": "https://lh3.googleusercontent.com/a/default-user=s64",
      "userId": "11131435925814580522"
     },
     "user_tz": -480
    },
    "id": "_vcvN7-Ztsyk",
    "outputId": "4b98e4a4-d0b7-498c-b03d-7037ae1413c3"
   },
   "outputs": [
    {
     "data": {
      "text/plain": [
       "array([[12, 10,  0,  9, 12],\n",
       "       [ 3, 17, 18, -3,  3]])"
      ]
     },
     "execution_count": 18,
     "metadata": {},
     "output_type": "execute_result"
    }
   ],
   "source": [
    "#(j-1)\n",
    "a[np.all(a!=5,axis=1),:]"
   ]
  },
  {
   "cell_type": "code",
   "execution_count": 19,
   "metadata": {
    "colab": {
     "base_uri": "https://localhost:8080/"
    },
    "executionInfo": {
     "elapsed": 271,
     "status": "ok",
     "timestamp": 1638324111104,
     "user": {
      "displayName": "wien hong",
      "photoUrl": "https://lh3.googleusercontent.com/a/default-user=s64",
      "userId": "11131435925814580522"
     },
     "user_tz": -480
    },
    "id": "pggC9KgtuZzw",
    "outputId": "3bb5cb90-56df-4649-a8bc-1cb3ecdb1427"
   },
   "outputs": [
    {
     "data": {
      "text/plain": [
       "array([[12, 10,  0, 12],\n",
       "       [ 3, 17, 18,  3],\n",
       "       [ 0,  7,  8,  0]])"
      ]
     },
     "execution_count": 19,
     "metadata": {},
     "output_type": "execute_result"
    }
   ],
   "source": [
    "#(j-2)\n",
    "a[:,np.all(a!=5,axis=0)]"
   ]
  },
  {
   "cell_type": "code",
   "execution_count": 20,
   "metadata": {
    "colab": {
     "base_uri": "https://localhost:8080/"
    },
    "executionInfo": {
     "elapsed": 452,
     "status": "ok",
     "timestamp": 1638324174272,
     "user": {
      "displayName": "wien hong",
      "photoUrl": "https://lh3.googleusercontent.com/a/default-user=s64",
      "userId": "11131435925814580522"
     },
     "user_tz": -480
    },
    "id": "CsiAi8t1ujvH",
    "outputId": "3e99e2d9-9ac6-4295-d570-dcb7a3aeb71e"
   },
   "outputs": [
    {
     "data": {
      "text/plain": [
       "3"
      ]
     },
     "execution_count": 20,
     "metadata": {},
     "output_type": "execute_result"
    }
   ],
   "source": [
    "#(k)\n",
    "a[np.abs(a)==3].size"
   ]
  },
  {
   "cell_type": "markdown",
   "metadata": {
    "id": "RI7jqyGLVwgF"
   },
   "source": [
    "#### 第5題"
   ]
  },
  {
   "cell_type": "code",
   "execution_count": 21,
   "metadata": {
    "id": "Ck2EwsD00CvJ"
   },
   "outputs": [],
   "source": [
    "a=np.array([[0,1,2,3,4],\n",
    "            [2,3,4,1,0],\n",
    "            [4,0,1,2,3],\n",
    "            [1,2,3,4,0],\n",
    "            [3,4,0,1,2]])"
   ]
  },
  {
   "cell_type": "code",
   "execution_count": 22,
   "metadata": {
    "colab": {
     "base_uri": "https://localhost:8080/"
    },
    "executionInfo": {
     "elapsed": 369,
     "status": "ok",
     "timestamp": 1648974512346,
     "user": {
      "displayName": "wien hong",
      "userId": "11131435925814580522"
     },
     "user_tz": -480
    },
    "id": "bgHqg88L0UAw",
    "outputId": "6d2742ee-08eb-409a-d9a2-51caeceded57"
   },
   "outputs": [
    {
     "data": {
      "text/plain": [
       "(1, 2)"
      ]
     },
     "execution_count": 22,
     "metadata": {},
     "output_type": "execute_result"
    }
   ],
   "source": [
    "#(a)\n",
    "r,c=2,2\n",
    "row,col=np.where(a==4)\n",
    "pos=np.argmin((row-r)**2+(col-c)**2)\n",
    "row[pos],col[pos]"
   ]
  },
  {
   "cell_type": "code",
   "execution_count": 23,
   "metadata": {
    "colab": {
     "base_uri": "https://localhost:8080/"
    },
    "executionInfo": {
     "elapsed": 339,
     "status": "ok",
     "timestamp": 1648974514291,
     "user": {
      "displayName": "wien hong",
      "userId": "11131435925814580522"
     },
     "user_tz": -480
    },
    "id": "lYcpPstR3ErH",
    "outputId": "c65b3227-09de-471f-fbe9-97e8b9d7344d"
   },
   "outputs": [
    {
     "data": {
      "text/plain": [
       "(4, 2)"
      ]
     },
     "execution_count": 23,
     "metadata": {},
     "output_type": "execute_result"
    }
   ],
   "source": [
    "#(b)\n",
    "r,c=4,3\n",
    "row,col=np.where(a==0)\n",
    "pos=np.argmin((row-r)**2+(col-c)**2)\n",
    "row[pos],col[pos]"
   ]
  },
  {
   "cell_type": "code",
   "execution_count": 24,
   "metadata": {
    "colab": {
     "base_uri": "https://localhost:8080/"
    },
    "executionInfo": {
     "elapsed": 6,
     "status": "ok",
     "timestamp": 1648974516306,
     "user": {
      "displayName": "wien hong",
      "userId": "11131435925814580522"
     },
     "user_tz": -480
    },
    "id": "lgpbqXS53hEM",
    "outputId": "6a73079b-d6dd-44e0-8847-ad4672af8917"
   },
   "outputs": [
    {
     "data": {
      "text/plain": [
       "(3, 1)"
      ]
     },
     "execution_count": 24,
     "metadata": {},
     "output_type": "execute_result"
    }
   ],
   "source": [
    "#(c)\n",
    "r,c=4,0\n",
    "row,col=np.where(a==2)\n",
    "pos=np.argmin((row-r)**2+(col-c)**2)\n",
    "row[pos],col[pos]"
   ]
  },
  {
   "cell_type": "code",
   "execution_count": 25,
   "metadata": {
    "colab": {
     "base_uri": "https://localhost:8080/"
    },
    "executionInfo": {
     "elapsed": 8,
     "status": "ok",
     "timestamp": 1648974518559,
     "user": {
      "displayName": "wien hong",
      "userId": "11131435925814580522"
     },
     "user_tz": -480
    },
    "id": "elwirWXI33Tg",
    "outputId": "f2744524-9a2b-4ce8-a32a-fa761317939c"
   },
   "outputs": [
    {
     "name": "stdout",
     "output_type": "stream",
     "text": [
      "point 1: (0, 4)\n",
      "point 2: (4, 1)\n"
     ]
    }
   ],
   "source": [
    "#(d)\n",
    "row,col=np.where(a==4)\n",
    "pts=np.vstack((row,col))\n",
    "n=pts.shape[1]\n",
    "dist=np.zeros((n,n))\n",
    "for i in range(n):\n",
    "    for j in range(i+1,n):\n",
    "        dist[i,j]=((pts[:,i]-pts[:,j])**2).sum()  # sum of squared distance btw points i and j\n",
    "pos=np.where(dist==np.max(dist))\n",
    "print(f'point 1: ({pts[0,pos[0]][0]}, {pts[1,pos[0]][0]})') \n",
    "print(f'point 2: ({pts[0,pos[1]][0]}, {pts[1,pos[1]][0]})') "
   ]
  },
  {
   "cell_type": "code",
   "execution_count": 26,
   "metadata": {
    "colab": {
     "base_uri": "https://localhost:8080/"
    },
    "executionInfo": {
     "elapsed": 289,
     "status": "ok",
     "timestamp": 1648974526970,
     "user": {
      "displayName": "wien hong",
      "userId": "11131435925814580522"
     },
     "user_tz": -480
    },
    "id": "ANeJzj6a9iP-",
    "outputId": "784078d5-0e13-42a6-f072-cca6994de7d3"
   },
   "outputs": [
    {
     "data": {
      "text/plain": [
       "5"
      ]
     },
     "execution_count": 26,
     "metadata": {},
     "output_type": "execute_result"
    }
   ],
   "source": [
    "#(e)\n",
    "(a==0).sum()"
   ]
  },
  {
   "cell_type": "markdown",
   "metadata": {
    "id": "cl9ET3-gVxDP"
   },
   "source": [
    "#### 第7題"
   ]
  },
  {
   "cell_type": "code",
   "execution_count": 27,
   "metadata": {
    "id": "k60ch4m0IY0j"
   },
   "outputs": [],
   "source": [
    "def find_pi(n):\n",
    "    k=np.arange(0,n)\n",
    "    return (1/16**k*(4/(8*k+1)-2/(8*k+4)-1/(8*k+5)-1/(8*k+6))).sum()"
   ]
  },
  {
   "cell_type": "code",
   "execution_count": 28,
   "metadata": {
    "colab": {
     "base_uri": "https://localhost:8080/"
    },
    "executionInfo": {
     "elapsed": 295,
     "status": "ok",
     "timestamp": 1648974568192,
     "user": {
      "displayName": "wien hong",
      "userId": "11131435925814580522"
     },
     "user_tz": -480
    },
    "id": "7Y3Lu-vJJwRw",
    "outputId": "ea438ec3-5194-4d1e-9a14-bfb2d7bd8a37"
   },
   "outputs": [
    {
     "data": {
      "text/plain": [
       "3.1414224664224664"
      ]
     },
     "execution_count": 28,
     "metadata": {},
     "output_type": "execute_result"
    }
   ],
   "source": [
    "find_pi(2)"
   ]
  },
  {
   "cell_type": "code",
   "execution_count": 29,
   "metadata": {
    "colab": {
     "base_uri": "https://localhost:8080/"
    },
    "executionInfo": {
     "elapsed": 4,
     "status": "ok",
     "timestamp": 1648974569445,
     "user": {
      "displayName": "wien hong",
      "userId": "11131435925814580522"
     },
     "user_tz": -480
    },
    "id": "oshC63_OnVFk",
    "outputId": "5243dbd5-f69e-4240-e31a-e38a347e2a9c"
   },
   "outputs": [
    {
     "name": "stderr",
     "output_type": "stream",
     "text": [
      "C:\\Users\\wienh\\AppData\\Local\\Temp\\ipykernel_9912\\2526062004.py:3: RuntimeWarning: divide by zero encountered in true_divide\n",
      "  return (1/16**k*(4/(8*k+1)-2/(8*k+4)-1/(8*k+5)-1/(8*k+6))).sum()\n"
     ]
    },
    {
     "data": {
      "text/plain": [
       "inf"
      ]
     },
     "execution_count": 29,
     "metadata": {},
     "output_type": "execute_result"
    }
   ],
   "source": [
    "find_pi(10)"
   ]
  },
  {
   "cell_type": "code",
   "execution_count": 30,
   "metadata": {
    "colab": {
     "base_uri": "https://localhost:8080/"
    },
    "executionInfo": {
     "elapsed": 281,
     "status": "ok",
     "timestamp": 1648974571888,
     "user": {
      "displayName": "wien hong",
      "userId": "11131435925814580522"
     },
     "user_tz": -480
    },
    "id": "fUCmB7CfnXIx",
    "outputId": "821184aa-fff6-40f2-907c-04c3ca6908fe"
   },
   "outputs": [
    {
     "data": {
      "text/plain": [
       "3.141592653589793"
      ]
     },
     "execution_count": 30,
     "metadata": {},
     "output_type": "execute_result"
    }
   ],
   "source": [
    "np.pi"
   ]
  },
  {
   "cell_type": "markdown",
   "metadata": {
    "id": "egE3142TVMB6"
   },
   "source": [
    "### 10.2 資料排序"
   ]
  },
  {
   "cell_type": "markdown",
   "metadata": {
    "id": "iJ1cksURVyyb"
   },
   "source": [
    "#### 第9題"
   ]
  },
  {
   "cell_type": "code",
   "execution_count": 31,
   "metadata": {
    "colab": {
     "base_uri": "https://localhost:8080/"
    },
    "executionInfo": {
     "elapsed": 264,
     "status": "ok",
     "timestamp": 1638339313262,
     "user": {
      "displayName": "wien hong",
      "photoUrl": "https://lh3.googleusercontent.com/a/default-user=s64",
      "userId": "11131435925814580522"
     },
     "user_tz": -480
    },
    "id": "6i0eictZn4TW",
    "outputId": "5e99e4cf-a1e9-48b3-b33e-d7b416cbac95"
   },
   "outputs": [
    {
     "data": {
      "text/plain": [
       "array([1, 0, 2, 3, 4], dtype=int64)"
      ]
     },
     "execution_count": 31,
     "metadata": {},
     "output_type": "execute_result"
    }
   ],
   "source": [
    "pts=np.array([[6,7,7,3,6],\n",
    "              [4,1,4,8,9]])\n",
    "np.argsort(np.sum(pts**2,axis=0))"
   ]
  },
  {
   "cell_type": "markdown",
   "metadata": {
    "id": "wAVZ_sYgVMLv"
   },
   "source": [
    "### 10.3 數學矩陣的相關運算"
   ]
  },
  {
   "cell_type": "markdown",
   "metadata": {
    "id": "QGfMvdjAV0GA"
   },
   "source": [
    "#### 第11題"
   ]
  },
  {
   "cell_type": "code",
   "execution_count": 32,
   "metadata": {
    "id": "GKJx-6QwvEeO"
   },
   "outputs": [],
   "source": [
    "import numpy.linalg as la"
   ]
  },
  {
   "cell_type": "code",
   "execution_count": 33,
   "metadata": {
    "colab": {
     "base_uri": "https://localhost:8080/"
    },
    "executionInfo": {
     "elapsed": 302,
     "status": "ok",
     "timestamp": 1648974805507,
     "user": {
      "displayName": "wien hong",
      "userId": "11131435925814580522"
     },
     "user_tz": -480
    },
    "id": "-iNuyzO8unWS",
    "outputId": "971f3c9d-5905-4090-9fe3-fb01aacee584"
   },
   "outputs": [
    {
     "data": {
      "text/plain": [
       "array([[-1.5 ],\n",
       "       [ 1.25]])"
      ]
     },
     "execution_count": 33,
     "metadata": {},
     "output_type": "execute_result"
    }
   ],
   "source": [
    "#(a)\n",
    "m=np.array([[-1,2],[1,6]])\n",
    "b=np.array([[4],[6]])\n",
    "la.solve(m,b)"
   ]
  },
  {
   "cell_type": "code",
   "execution_count": 34,
   "metadata": {
    "colab": {
     "base_uri": "https://localhost:8080/"
    },
    "executionInfo": {
     "elapsed": 8,
     "status": "ok",
     "timestamp": 1648974832205,
     "user": {
      "displayName": "wien hong",
      "userId": "11131435925814580522"
     },
     "user_tz": -480
    },
    "id": "UtMp4LjYvc0l",
    "outputId": "4e3b79c9-a596-4cba-fcae-b959780fe642"
   },
   "outputs": [
    {
     "data": {
      "text/plain": [
       "array([[ 3.04545455],\n",
       "       [-0.34090909],\n",
       "       [-3.61363636]])"
      ]
     },
     "execution_count": 34,
     "metadata": {},
     "output_type": "execute_result"
    }
   ],
   "source": [
    "#(b)\n",
    "m=np.array([[3,2,4],[5,7,3],[1,6,0]])\n",
    "b=np.array([[-6,2,1]]).T\n",
    "la.solve(m,b)"
   ]
  },
  {
   "cell_type": "code",
   "execution_count": 35,
   "metadata": {
    "colab": {
     "base_uri": "https://localhost:8080/"
    },
    "executionInfo": {
     "elapsed": 293,
     "status": "ok",
     "timestamp": 1648974835507,
     "user": {
      "displayName": "wien hong",
      "userId": "11131435925814580522"
     },
     "user_tz": -480
    },
    "id": "koUy5EL6wC_A",
    "outputId": "752863c7-136b-4e12-ac03-40a55143e247"
   },
   "outputs": [
    {
     "data": {
      "text/plain": [
       "array([[ 1.27731092],\n",
       "       [ 4.07983193],\n",
       "       [-4.42016807]])"
      ]
     },
     "execution_count": 35,
     "metadata": {},
     "output_type": "execute_result"
    }
   ],
   "source": [
    "#(c)\n",
    "m=np.array([[0,2,-2],[7,4,3],[8,-4,-5]])\n",
    "b=np.array([[17,12,16]]).T\n",
    "la.solve(m,b)"
   ]
  },
  {
   "cell_type": "markdown",
   "metadata": {
    "id": "sKkYEvQAVMSS"
   },
   "source": [
    "### 10.4 廣播運算"
   ]
  },
  {
   "cell_type": "markdown",
   "metadata": {
    "id": "OHcFctKlV32Q"
   },
   "source": [
    "#### 第13題"
   ]
  },
  {
   "cell_type": "code",
   "execution_count": 36,
   "metadata": {
    "id": "fsJAaMVnyfuN"
   },
   "outputs": [],
   "source": [
    "a=np.array([78,22,65,87,12,98,63,79])\n",
    "x=57"
   ]
  },
  {
   "cell_type": "code",
   "execution_count": 37,
   "metadata": {
    "colab": {
     "base_uri": "https://localhost:8080/"
    },
    "executionInfo": {
     "elapsed": 286,
     "status": "ok",
     "timestamp": 1648974865095,
     "user": {
      "displayName": "wien hong",
      "userId": "11131435925814580522"
     },
     "user_tz": -480
    },
    "id": "qrWHiCj6y5tJ",
    "outputId": "6ea7a38f-1bbd-49a6-bf15-17aa7f2e95af"
   },
   "outputs": [
    {
     "data": {
      "text/plain": [
       "63"
      ]
     },
     "execution_count": 37,
     "metadata": {},
     "output_type": "execute_result"
    }
   ],
   "source": [
    "# using for loop\n",
    "diff=np.inf\n",
    "for n in a:\n",
    "    if abs(x-n)<diff:\n",
    "        diff=abs(x-n)\n",
    "        result=n\n",
    "result"
   ]
  },
  {
   "cell_type": "code",
   "execution_count": 38,
   "metadata": {
    "colab": {
     "base_uri": "https://localhost:8080/"
    },
    "executionInfo": {
     "elapsed": 288,
     "status": "ok",
     "timestamp": 1648974866971,
     "user": {
      "displayName": "wien hong",
      "userId": "11131435925814580522"
     },
     "user_tz": -480
    },
    "id": "W2xyIdTB0XS9",
    "outputId": "4c0a1134-5267-4880-ccae-e41b35fc7432"
   },
   "outputs": [
    {
     "data": {
      "text/plain": [
       "63"
      ]
     },
     "execution_count": 38,
     "metadata": {},
     "output_type": "execute_result"
    }
   ],
   "source": [
    "# without for loop\n",
    "a[np.argmin(abs(a-x))]"
   ]
  },
  {
   "cell_type": "markdown",
   "metadata": {
    "id": "rQDOTmLJV4IU"
   },
   "source": [
    "#### 第15題"
   ]
  },
  {
   "cell_type": "code",
   "execution_count": 39,
   "metadata": {
    "id": "yc6DSz4_6ebz"
   },
   "outputs": [],
   "source": [
    "a=np.array([[3,4,8,3,8,9,7],\n",
    "            [8,3,5,0,3,2,3],\n",
    "            [9,2,4,4,3,6,2]])\n",
    "b=np.array([[8,7,3,1],\n",
    "            [5,4,4,2],\n",
    "            [4,9,0,6]])"
   ]
  },
  {
   "cell_type": "code",
   "execution_count": 40,
   "metadata": {
    "colab": {
     "base_uri": "https://localhost:8080/"
    },
    "executionInfo": {
     "elapsed": 273,
     "status": "ok",
     "timestamp": 1648975028017,
     "user": {
      "displayName": "wien hong",
      "userId": "11131435925814580522"
     },
     "user_tz": -480
    },
    "id": "3k24ivRR8uQ9",
    "outputId": "429ac03a-b7b2-442f-9656-278f11c73978"
   },
   "outputs": [
    {
     "data": {
      "text/plain": [
       "array([[59., 32., 97., 49.],\n",
       "       [24., 59.,  6., 26.],\n",
       "       [ 0., 27., 42., 62.],\n",
       "       [50., 57., 32., 12.],\n",
       "       [ 5., 38., 35., 59.],\n",
       "       [14., 17., 76., 64.],\n",
       "       [ 9., 50., 21., 53.]])"
      ]
     },
     "execution_count": 40,
     "metadata": {},
     "output_type": "execute_result"
    }
   ],
   "source": [
    "#(a)\n",
    "D=np.zeros((a.shape[1],b.shape[1]))\n",
    "for r in range(a.shape[1]):\n",
    "    for c in range(b.shape[1]):\n",
    "        D[r,c]=np.sum((a[:,r]-b[:,c])**2)\n",
    "D"
   ]
  },
  {
   "cell_type": "code",
   "execution_count": 41,
   "metadata": {
    "colab": {
     "base_uri": "https://localhost:8080/"
    },
    "executionInfo": {
     "elapsed": 299,
     "status": "ok",
     "timestamp": 1648975030733,
     "user": {
      "displayName": "wien hong",
      "userId": "11131435925814580522"
     },
     "user_tz": -480
    },
    "id": "oct0bWIxE8rM",
    "outputId": "3ef9d4be-77b4-414f-9e8a-2587b69234ec"
   },
   "outputs": [
    {
     "data": {
      "text/plain": [
       "array([[59., 32., 97., 49.],\n",
       "       [24., 59.,  6., 26.],\n",
       "       [ 0., 27., 42., 62.],\n",
       "       [50., 57., 32., 12.],\n",
       "       [ 5., 38., 35., 59.],\n",
       "       [14., 17., 76., 64.],\n",
       "       [ 9., 50., 21., 53.]])"
      ]
     },
     "execution_count": 41,
     "metadata": {},
     "output_type": "execute_result"
    }
   ],
   "source": [
    "D"
   ]
  },
  {
   "cell_type": "code",
   "execution_count": 42,
   "metadata": {
    "colab": {
     "base_uri": "https://localhost:8080/"
    },
    "executionInfo": {
     "elapsed": 9,
     "status": "ok",
     "timestamp": 1648975031929,
     "user": {
      "displayName": "wien hong",
      "userId": "11131435925814580522"
     },
     "user_tz": -480
    },
    "id": "4jNyUYebGKG-",
    "outputId": "71402f33-191b-4da0-cfd5-316e38310002"
   },
   "outputs": [
    {
     "name": "stdout",
     "output_type": "stream",
     "text": [
      "(3, 7, 1)\n",
      "(3, 1, 4)\n"
     ]
    }
   ],
   "source": [
    "#(b)\n",
    "print(a[:,:,None].shape)\n",
    "print(b[:,None,:].shape)"
   ]
  },
  {
   "cell_type": "code",
   "execution_count": 43,
   "metadata": {
    "colab": {
     "base_uri": "https://localhost:8080/"
    },
    "executionInfo": {
     "elapsed": 8,
     "status": "ok",
     "timestamp": 1648975034595,
     "user": {
      "displayName": "wien hong",
      "userId": "11131435925814580522"
     },
     "user_tz": -480
    },
    "id": "SsUnAyW1HRqV",
    "outputId": "618e18dd-dcf6-4f75-cfaf-b3accd972910"
   },
   "outputs": [
    {
     "data": {
      "text/plain": [
       "array([[59, 32, 97, 49],\n",
       "       [24, 59,  6, 26],\n",
       "       [ 0, 27, 42, 62],\n",
       "       [50, 57, 32, 12],\n",
       "       [ 5, 38, 35, 59],\n",
       "       [14, 17, 76, 64],\n",
       "       [ 9, 50, 21, 53]], dtype=int32)"
      ]
     },
     "execution_count": 43,
     "metadata": {},
     "output_type": "execute_result"
    }
   ],
   "source": [
    "np.sum((a[:,:,None]-b[:,None,:])**2,axis=0)"
   ]
  },
  {
   "cell_type": "code",
   "execution_count": 44,
   "metadata": {
    "colab": {
     "base_uri": "https://localhost:8080/"
    },
    "executionInfo": {
     "elapsed": 5,
     "status": "ok",
     "timestamp": 1648975035848,
     "user": {
      "displayName": "wien hong",
      "userId": "11131435925814580522"
     },
     "user_tz": -480
    },
    "id": "MW6RV5arHfGS",
    "outputId": "78904645-6529-4eb9-da36-ca5fac05b85f"
   },
   "outputs": [
    {
     "name": "stdout",
     "output_type": "stream",
     "text": [
      "(3, 1, 7)\n",
      "(3, 4, 1)\n"
     ]
    }
   ],
   "source": [
    "#(c)\n",
    "print(a[:,None,:].shape)\n",
    "print(b[:,:,None].shape)"
   ]
  },
  {
   "cell_type": "code",
   "execution_count": 45,
   "metadata": {
    "colab": {
     "base_uri": "https://localhost:8080/"
    },
    "executionInfo": {
     "elapsed": 8,
     "status": "ok",
     "timestamp": 1648975038224,
     "user": {
      "displayName": "wien hong",
      "userId": "11131435925814580522"
     },
     "user_tz": -480
    },
    "id": "mFgdBU7THnXw",
    "outputId": "6d063545-c5e3-45d6-c720-409993d39644"
   },
   "outputs": [
    {
     "data": {
      "text/plain": [
       "array([[59, 24,  0, 50,  5, 14,  9],\n",
       "       [32, 59, 27, 57, 38, 17, 50],\n",
       "       [97,  6, 42, 32, 35, 76, 21],\n",
       "       [49, 26, 62, 12, 59, 64, 53]], dtype=int32)"
      ]
     },
     "execution_count": 45,
     "metadata": {},
     "output_type": "execute_result"
    }
   ],
   "source": [
    "np.sum((a[:,None,:]-b[:,:,None])**2,axis=0)"
   ]
  },
  {
   "cell_type": "markdown",
   "metadata": {
    "id": "QW5MI6-zVMdE"
   },
   "source": [
    "### 10.5 儲存Numpy陣列"
   ]
  },
  {
   "cell_type": "markdown",
   "metadata": {
    "id": "CIbaoBVkV6U7"
   },
   "source": [
    "#### 第17題"
   ]
  },
  {
   "cell_type": "code",
   "execution_count": 46,
   "metadata": {
    "id": "Sd8bQv6PKl2l"
   },
   "outputs": [],
   "source": [
    "a=np.array([1,4,5,7,8])"
   ]
  },
  {
   "cell_type": "code",
   "execution_count": 47,
   "metadata": {
    "id": "fHJMFafdKrC2"
   },
   "outputs": [],
   "source": [
    "#(a)\n",
    "z=a.tobytes()"
   ]
  },
  {
   "cell_type": "code",
   "execution_count": 48,
   "metadata": {
    "colab": {
     "base_uri": "https://localhost:8080/"
    },
    "executionInfo": {
     "elapsed": 6,
     "status": "ok",
     "timestamp": 1648975096830,
     "user": {
      "displayName": "wien hong",
      "userId": "11131435925814580522"
     },
     "user_tz": -480
    },
    "id": "1CTh7sXwLQ6g",
    "outputId": "e00f2d3f-747b-4ab1-f782-a62952f363b2"
   },
   "outputs": [
    {
     "data": {
      "text/plain": [
       "array([1, 4, 5, 7, 8])"
      ]
     },
     "execution_count": 48,
     "metadata": {},
     "output_type": "execute_result"
    }
   ],
   "source": [
    "#(b)\n",
    "np.frombuffer(z,dtype=int)"
   ]
  },
  {
   "cell_type": "code",
   "execution_count": 49,
   "metadata": {
    "colab": {
     "base_uri": "https://localhost:8080/"
    },
    "executionInfo": {
     "elapsed": 273,
     "status": "ok",
     "timestamp": 1648975102688,
     "user": {
      "displayName": "wien hong",
      "userId": "11131435925814580522"
     },
     "user_tz": -480
    },
    "id": "QEo3MszALm-f",
    "outputId": "8f7face5-da28-49fe-9a8a-53682617c93d"
   },
   "outputs": [
    {
     "data": {
      "text/plain": [
       "array([1, 4, 5, 7, 8])"
      ]
     },
     "execution_count": 49,
     "metadata": {},
     "output_type": "execute_result"
    }
   ],
   "source": [
    "#(c)\n",
    "np.save('example.npy',a)\n",
    "np.load('example.npy')"
   ]
  }
 ],
 "metadata": {
  "colab": {
   "authorship_tag": "ABX9TyMfJTl9sCyeoQq8oUM4FT/k",
   "collapsed_sections": [
    "qAOmbLtkVwOf",
    "jqGmxUdyVwZ_",
    "RI7jqyGLVwgF",
    "yzbpZYFgVwnX",
    "cl9ET3-gVxDP",
    "hBH5MxrWVyqJ",
    "iJ1cksURVyyb",
    "NFLEVosLVy39",
    "QGfMvdjAV0GA",
    "416Lu3jaV0L3",
    "OHcFctKlV32Q",
    "Jzwx4rAzV4B9",
    "rQDOTmLJV4IU",
    "7UZaXD1MV4N7",
    "CIbaoBVkV6U7",
    "yCcYdB-JV7XR"
   ],
   "name": "ch10-習題參考答案.ipynb",
   "provenance": [],
   "toc_visible": true
  },
  "kernelspec": {
   "display_name": "Python 3 (ipykernel)",
   "language": "python",
   "name": "python3"
  },
  "language_info": {
   "codemirror_mode": {
    "name": "ipython",
    "version": 3
   },
   "file_extension": ".py",
   "mimetype": "text/x-python",
   "name": "python",
   "nbconvert_exporter": "python",
   "pygments_lexer": "ipython3",
   "version": "3.8.9"
  }
 },
 "nbformat": 4,
 "nbformat_minor": 4
}

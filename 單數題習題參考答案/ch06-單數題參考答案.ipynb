{
 "cells": [
  {
   "cell_type": "markdown",
   "metadata": {
    "id": "5L1NzOwoLbLK"
   },
   "source": [
    "### 6.1 函數的基本概念"
   ]
  },
  {
   "cell_type": "markdown",
   "metadata": {
    "id": "SInrN29kLrbu"
   },
   "source": [
    "#### 第1題"
   ]
  },
  {
   "cell_type": "code",
   "execution_count": 1,
   "metadata": {
    "id": "EFmc-S0XOe5r"
   },
   "outputs": [],
   "source": [
    "def add(n):\n",
    "    s=0\n",
    "    for i in range(1,n+1):\n",
    "       s+=i\n",
    "    return s"
   ]
  },
  {
   "cell_type": "code",
   "execution_count": 2,
   "metadata": {
    "colab": {
     "base_uri": "https://localhost:8080/"
    },
    "executionInfo": {
     "elapsed": 319,
     "status": "ok",
     "timestamp": 1648910081418,
     "user": {
      "displayName": "wien hong",
      "userId": "11131435925814580522"
     },
     "user_tz": -480
    },
    "id": "vyNnFVKdPmHl",
    "outputId": "d0f9d5e1-4490-4a9e-f4f5-3e576de62ace"
   },
   "outputs": [
    {
     "data": {
      "text/plain": [
       "15"
      ]
     },
     "execution_count": 2,
     "metadata": {},
     "output_type": "execute_result"
    }
   ],
   "source": [
    "add(5)"
   ]
  },
  {
   "cell_type": "markdown",
   "metadata": {
    "id": "jWH-9TKeNMK_"
   },
   "source": [
    "#### 第3題"
   ]
  },
  {
   "cell_type": "code",
   "execution_count": 3,
   "metadata": {
    "id": "jYVqhZ1xQz5k"
   },
   "outputs": [],
   "source": [
    "def isprime(x):\n",
    "    for i in range(2,x//2+1):  # 判別到 x//2+1 即可，要加1，不然4會出錯\n",
    "        if x%i==0:\n",
    "            return False\n",
    "    else:\n",
    "        return True"
   ]
  },
  {
   "cell_type": "code",
   "execution_count": 4,
   "metadata": {
    "colab": {
     "base_uri": "https://localhost:8080/"
    },
    "executionInfo": {
     "elapsed": 249,
     "status": "ok",
     "timestamp": 1648910126018,
     "user": {
      "displayName": "wien hong",
      "userId": "11131435925814580522"
     },
     "user_tz": -480
    },
    "id": "bgn_0nyMZz2b",
    "outputId": "28611461-b953-41f1-8ef6-918aae911988"
   },
   "outputs": [
    {
     "data": {
      "text/plain": [
       "True"
      ]
     },
     "execution_count": 4,
     "metadata": {},
     "output_type": "execute_result"
    }
   ],
   "source": [
    "isprime(5)"
   ]
  },
  {
   "cell_type": "code",
   "execution_count": 5,
   "metadata": {
    "colab": {
     "base_uri": "https://localhost:8080/"
    },
    "executionInfo": {
     "elapsed": 10,
     "status": "ok",
     "timestamp": 1648910127129,
     "user": {
      "displayName": "wien hong",
      "userId": "11131435925814580522"
     },
     "user_tz": -480
    },
    "id": "DUCtJh7yRki7",
    "outputId": "8a6423a6-35b4-4f26-c228-a29d4f179f4f"
   },
   "outputs": [
    {
     "data": {
      "text/plain": [
       "False"
      ]
     },
     "execution_count": 5,
     "metadata": {},
     "output_type": "execute_result"
    }
   ],
   "source": [
    "isprime(81)"
   ]
  },
  {
   "cell_type": "code",
   "execution_count": 6,
   "metadata": {
    "colab": {
     "base_uri": "https://localhost:8080/"
    },
    "executionInfo": {
     "elapsed": 241,
     "status": "ok",
     "timestamp": 1648910128950,
     "user": {
      "displayName": "wien hong",
      "userId": "11131435925814580522"
     },
     "user_tz": -480
    },
    "id": "L5MsFJftRxKm",
    "outputId": "fe171dbe-b81a-4101-9e03-d63dbe392488"
   },
   "outputs": [
    {
     "data": {
      "text/plain": [
       "True"
      ]
     },
     "execution_count": 6,
     "metadata": {},
     "output_type": "execute_result"
    }
   ],
   "source": [
    "isprime(83)"
   ]
  },
  {
   "cell_type": "markdown",
   "metadata": {
    "id": "o2t4yrvWNMtA"
   },
   "source": [
    "#### 第5題"
   ]
  },
  {
   "cell_type": "code",
   "execution_count": 9,
   "metadata": {
    "id": "Yn0p6lN2VQus"
   },
   "outputs": [],
   "source": [
    "def primes(x):    # 一個數去除以所有小於它的質數，如果沒有任何一個質數可以整除此數，則此數也為質數\n",
    "    lst=[2]\n",
    "    for n in range(2,x+1):\n",
    "        for i in lst:\n",
    "            if n%i==0:\n",
    "                break\n",
    "        else:\n",
    "            lst.append(n)\n",
    "    return lst\n",
    "\n",
    "def prime_factors(x):\n",
    "    lst=[]\n",
    "    for i in primes(x):  # 呼叫第4題的函數\n",
    "        if x%i==0:\n",
    "            lst.append(i)\n",
    "    return lst"
   ]
  },
  {
   "cell_type": "code",
   "execution_count": 10,
   "metadata": {
    "colab": {
     "base_uri": "https://localhost:8080/"
    },
    "executionInfo": {
     "elapsed": 240,
     "status": "ok",
     "timestamp": 1648910237239,
     "user": {
      "displayName": "wien hong",
      "userId": "11131435925814580522"
     },
     "user_tz": -480
    },
    "id": "3qjE6S1dXxiZ",
    "outputId": "fc2da682-d454-425f-c586-de30175d5c58"
   },
   "outputs": [
    {
     "data": {
      "text/plain": [
       "[2, 3]"
      ]
     },
     "execution_count": 10,
     "metadata": {},
     "output_type": "execute_result"
    }
   ],
   "source": [
    "prime_factors(72)"
   ]
  },
  {
   "cell_type": "markdown",
   "metadata": {
    "id": "QvfJpeM5NM4D"
   },
   "source": [
    "#### 第7題"
   ]
  },
  {
   "cell_type": "code",
   "execution_count": 11,
   "metadata": {
    "id": "4WAO3qz0h9On"
   },
   "outputs": [],
   "source": [
    "def bin2dec(bs):\n",
    "    s=0\n",
    "    for i in range(len(bs)):\n",
    "        s=s+2**(len(bs)-i-1)*int(bs[i])\n",
    "    return(s)"
   ]
  },
  {
   "cell_type": "code",
   "execution_count": 12,
   "metadata": {
    "colab": {
     "base_uri": "https://localhost:8080/"
    },
    "executionInfo": {
     "elapsed": 9,
     "status": "ok",
     "timestamp": 1648910343811,
     "user": {
      "displayName": "wien hong",
      "userId": "11131435925814580522"
     },
     "user_tz": -480
    },
    "id": "QvYZA5cUnyyc",
    "outputId": "51244d63-52ed-43dd-f88e-5e3dd22a06c9"
   },
   "outputs": [
    {
     "data": {
      "text/plain": [
       "11"
      ]
     },
     "execution_count": 12,
     "metadata": {},
     "output_type": "execute_result"
    }
   ],
   "source": [
    "bin2dec('1011')"
   ]
  },
  {
   "cell_type": "markdown",
   "metadata": {
    "id": "YjtTYMkSNNI3"
   },
   "source": [
    "#### 第9題"
   ]
  },
  {
   "cell_type": "code",
   "execution_count": 13,
   "metadata": {
    "id": "h1SKQwHTvQLx"
   },
   "outputs": [],
   "source": [
    "def n_digits(num):\n",
    "    cnt=0\n",
    "    while num!=0:\n",
    "        num=num//10\n",
    "        cnt+=1\n",
    "    return cnt"
   ]
  },
  {
   "cell_type": "code",
   "execution_count": 14,
   "metadata": {
    "colab": {
     "base_uri": "https://localhost:8080/"
    },
    "executionInfo": {
     "elapsed": 10,
     "status": "ok",
     "timestamp": 1648910437607,
     "user": {
      "displayName": "wien hong",
      "userId": "11131435925814580522"
     },
     "user_tz": -480
    },
    "id": "FT_xe-1YMEzT",
    "outputId": "79dfc0cd-5ed1-46b4-85c8-61bcb0efeb53"
   },
   "outputs": [
    {
     "data": {
      "text/plain": [
       "4"
      ]
     },
     "execution_count": 14,
     "metadata": {},
     "output_type": "execute_result"
    }
   ],
   "source": [
    "n_digits(5591)"
   ]
  },
  {
   "cell_type": "markdown",
   "metadata": {
    "id": "OMQ0NcQONub3"
   },
   "source": [
    "### 6.2 參數的傳遞機制"
   ]
  },
  {
   "cell_type": "markdown",
   "metadata": {
    "id": "uAOBsSijNNSK"
   },
   "source": [
    "#### 第11題"
   ]
  },
  {
   "cell_type": "code",
   "execution_count": 15,
   "metadata": {
    "id": "NCyuGA-aOSzb"
   },
   "outputs": [],
   "source": [
    "def square_tup(tup):\n",
    "    return tuple([n**2 for n in tup])"
   ]
  },
  {
   "cell_type": "code",
   "execution_count": 16,
   "metadata": {
    "colab": {
     "base_uri": "https://localhost:8080/"
    },
    "executionInfo": {
     "elapsed": 11,
     "status": "ok",
     "timestamp": 1648910505573,
     "user": {
      "displayName": "wien hong",
      "userId": "11131435925814580522"
     },
     "user_tz": -480
    },
    "id": "LhitPkgPOs3C",
    "outputId": "87bdd27b-55a9-423e-b27b-460a83d4b3e2"
   },
   "outputs": [
    {
     "data": {
      "text/plain": [
       "(25, 36, 9)"
      ]
     },
     "execution_count": 16,
     "metadata": {},
     "output_type": "execute_result"
    }
   ],
   "source": [
    "square_tup((5,6,3))"
   ]
  },
  {
   "cell_type": "markdown",
   "metadata": {
    "id": "imzQQCBbNNbH"
   },
   "source": [
    "#### 第13題"
   ]
  },
  {
   "cell_type": "code",
   "execution_count": 17,
   "metadata": {
    "id": "uwCYMWF_S9pU"
   },
   "outputs": [],
   "source": [
    "def add100(lst):\n",
    "    lst[0]+=100"
   ]
  },
  {
   "cell_type": "code",
   "execution_count": 18,
   "metadata": {
    "colab": {
     "base_uri": "https://localhost:8080/"
    },
    "executionInfo": {
     "elapsed": 231,
     "status": "ok",
     "timestamp": 1648910551365,
     "user": {
      "displayName": "wien hong",
      "userId": "11131435925814580522"
     },
     "user_tz": -480
    },
    "id": "_ykbU4myTFYY",
    "outputId": "8a80581b-d042-4647-87cb-d6194726741d"
   },
   "outputs": [
    {
     "data": {
      "text/plain": [
       "[110, 20, 30]"
      ]
     },
     "execution_count": 18,
     "metadata": {},
     "output_type": "execute_result"
    }
   ],
   "source": [
    "alist=[10,20,30]\n",
    "add100(alist)\n",
    "alist  # alist也會被修改，因為傳遞的是alist的位址"
   ]
  },
  {
   "cell_type": "markdown",
   "metadata": {
    "id": "-m-6osZ6TwlQ"
   },
   "source": [
    "### 6.3 關於傳入的參數"
   ]
  },
  {
   "cell_type": "markdown",
   "metadata": {
    "id": "tNzUVCPNNNji"
   },
   "source": [
    "#### 第15題"
   ]
  },
  {
   "cell_type": "code",
   "execution_count": 19,
   "metadata": {
    "id": "Le0E868vVVjE"
   },
   "outputs": [],
   "source": [
    "def find_int(num):  \n",
    "    return num-1 if (num-1) % 4 !=0 else num+1 "
   ]
  },
  {
   "cell_type": "code",
   "execution_count": 20,
   "metadata": {
    "colab": {
     "base_uri": "https://localhost:8080/"
    },
    "executionInfo": {
     "elapsed": 6,
     "status": "ok",
     "timestamp": 1648911365785,
     "user": {
      "displayName": "wien hong",
      "userId": "11131435925814580522"
     },
     "user_tz": -480
    },
    "id": "mobw38gHV0ql",
    "outputId": "59a56e59-3508-4672-c0e6-26131b7837c3"
   },
   "outputs": [
    {
     "data": {
      "text/plain": [
       "(18, 6, 26)"
      ]
     },
     "execution_count": 20,
     "metadata": {},
     "output_type": "execute_result"
    }
   ],
   "source": [
    "find_int(19), find_int(7), find_int(27)"
   ]
  },
  {
   "cell_type": "markdown",
   "metadata": {
    "id": "eAmMg_mJNNxo"
   },
   "source": [
    "#### 第17題"
   ]
  },
  {
   "cell_type": "code",
   "execution_count": 21,
   "metadata": {
    "id": "Qpj-4dLfambO"
   },
   "outputs": [],
   "source": [
    "def make_dict(k,v=0):\n",
    "    if v==0:\n",
    "        v=[0]*len(k)\n",
    "    d={}\n",
    "    for i,j in zip(k,v):\n",
    "        d.update({i:j})\n",
    "    return d"
   ]
  },
  {
   "cell_type": "code",
   "execution_count": 22,
   "metadata": {
    "colab": {
     "base_uri": "https://localhost:8080/"
    },
    "executionInfo": {
     "elapsed": 9,
     "status": "ok",
     "timestamp": 1648911921975,
     "user": {
      "displayName": "wien hong",
      "userId": "11131435925814580522"
     },
     "user_tz": -480
    },
    "id": "qv0ZNdoVb9bJ",
    "outputId": "97393a98-fafa-499e-a771-7aaf1f7722f0"
   },
   "outputs": [
    {
     "data": {
      "text/plain": [
       "{0: 32, 1: 43, 2: 55}"
      ]
     },
     "execution_count": 22,
     "metadata": {},
     "output_type": "execute_result"
    }
   ],
   "source": [
    "make_dict([0,1,2],[32,43,55])"
   ]
  },
  {
   "cell_type": "code",
   "execution_count": 23,
   "metadata": {
    "colab": {
     "base_uri": "https://localhost:8080/"
    },
    "executionInfo": {
     "elapsed": 270,
     "status": "ok",
     "timestamp": 1648911924997,
     "user": {
      "displayName": "wien hong",
      "userId": "11131435925814580522"
     },
     "user_tz": -480
    },
    "id": "IDebqL3OeIAy",
    "outputId": "c5ccc267-e3c1-4107-9169-b74960d1632b"
   },
   "outputs": [
    {
     "data": {
      "text/plain": [
       "{0: 0, 1: 0, 2: 0}"
      ]
     },
     "execution_count": 23,
     "metadata": {},
     "output_type": "execute_result"
    }
   ],
   "source": [
    "make_dict([0,1,2])"
   ]
  },
  {
   "cell_type": "markdown",
   "metadata": {
    "id": "SaWTZn-dUIED"
   },
   "source": [
    "### 6.4 全域變數與區域變數"
   ]
  },
  {
   "cell_type": "markdown",
   "metadata": {
    "id": "k-XpZ7KSNN72"
   },
   "source": [
    "#### 第19題"
   ]
  },
  {
   "cell_type": "code",
   "execution_count": 24,
   "metadata": {
    "id": "yIJEq16koClR"
   },
   "outputs": [],
   "source": [
    "cnt=0\n",
    "def fun():\n",
    "    global cnt\n",
    "    cnt+=1"
   ]
  },
  {
   "cell_type": "code",
   "execution_count": 25,
   "metadata": {
    "colab": {
     "base_uri": "https://localhost:8080/"
    },
    "executionInfo": {
     "elapsed": 7,
     "status": "ok",
     "timestamp": 1648912014959,
     "user": {
      "displayName": "wien hong",
      "userId": "11131435925814580522"
     },
     "user_tz": -480
    },
    "id": "9jiDggTioOyP",
    "outputId": "ab50f524-849f-4e0a-c78a-d62b203efb50"
   },
   "outputs": [
    {
     "data": {
      "text/plain": [
       "5"
      ]
     },
     "execution_count": 25,
     "metadata": {},
     "output_type": "execute_result"
    }
   ],
   "source": [
    "fun();fun();fun();fun();fun()\n",
    "cnt"
   ]
  },
  {
   "cell_type": "markdown",
   "metadata": {
    "id": "NmYseZ4QUV7b"
   },
   "source": [
    "### 6.5 遞迴函數"
   ]
  },
  {
   "cell_type": "markdown",
   "metadata": {
    "id": "uOXMbIZ_NOFJ"
   },
   "source": [
    "#### 第21題"
   ]
  },
  {
   "cell_type": "code",
   "execution_count": 26,
   "metadata": {
    "id": "IGNJWphscG4B"
   },
   "outputs": [],
   "source": [
    "def total(n):\n",
    "    if n>1:\n",
    "        return n+total(n-1)\n",
    "    else:\n",
    "        return 1"
   ]
  },
  {
   "cell_type": "code",
   "execution_count": 27,
   "metadata": {
    "colab": {
     "base_uri": "https://localhost:8080/"
    },
    "executionInfo": {
     "elapsed": 8,
     "status": "ok",
     "timestamp": 1648912108509,
     "user": {
      "displayName": "wien hong",
      "userId": "11131435925814580522"
     },
     "user_tz": -480
    },
    "id": "7dg1KN-Pdt6a",
    "outputId": "ec2c5bdc-d186-409c-dcc3-66622888691a"
   },
   "outputs": [
    {
     "data": {
      "text/plain": [
       "55"
      ]
     },
     "execution_count": 27,
     "metadata": {},
     "output_type": "execute_result"
    }
   ],
   "source": [
    "total(10)"
   ]
  },
  {
   "cell_type": "markdown",
   "metadata": {
    "id": "vc3vMxFkNOPf"
   },
   "source": [
    "#### 第23題"
   ]
  },
  {
   "cell_type": "code",
   "execution_count": 28,
   "metadata": {
    "id": "1b7Ou3qJQKBB"
   },
   "outputs": [],
   "source": [
    "def r_sum(n):\n",
    "    if n==2:\n",
    "        return 2\n",
    "    else:\n",
    "        return (n-1)*n+r_sum(n-1)"
   ]
  },
  {
   "cell_type": "code",
   "execution_count": 29,
   "metadata": {
    "colab": {
     "base_uri": "https://localhost:8080/"
    },
    "executionInfo": {
     "elapsed": 23,
     "status": "ok",
     "timestamp": 1637118096156,
     "user": {
      "displayName": "wien hong",
      "photoUrl": "https://lh3.googleusercontent.com/a/default-user=s64",
      "userId": "11131435925814580522"
     },
     "user_tz": -480
    },
    "id": "j-v4FTJ6RBQ2",
    "outputId": "51cea017-8f4a-4adf-ef57-df0f45ad0bd9"
   },
   "outputs": [
    {
     "data": {
      "text/plain": [
       "40"
      ]
     },
     "execution_count": 29,
     "metadata": {},
     "output_type": "execute_result"
    }
   ],
   "source": [
    "r_sum(5)"
   ]
  },
  {
   "cell_type": "markdown",
   "metadata": {
    "id": "fJUa_P_OpSNg"
   },
   "source": [
    "### 6.6 匿名函數"
   ]
  },
  {
   "cell_type": "markdown",
   "metadata": {
    "id": "2EPhixjYNOZU"
   },
   "source": [
    "#### 第25題"
   ]
  },
  {
   "cell_type": "code",
   "execution_count": 30,
   "metadata": {
    "id": "cmziU2CRftUA"
   },
   "outputs": [],
   "source": [
    "#(a)\n",
    "def sign(x):\n",
    "    if x>=0:\n",
    "        return 1\n",
    "    else:\n",
    "        return -1 "
   ]
  },
  {
   "cell_type": "code",
   "execution_count": 31,
   "metadata": {
    "colab": {
     "base_uri": "https://localhost:8080/"
    },
    "executionInfo": {
     "elapsed": 262,
     "status": "ok",
     "timestamp": 1648912721893,
     "user": {
      "displayName": "wien hong",
      "userId": "11131435925814580522"
     },
     "user_tz": -480
    },
    "id": "LMxwV9RmgRxk",
    "outputId": "56e8a58d-a159-40eb-faa1-1caea4b89f60"
   },
   "outputs": [
    {
     "data": {
      "text/plain": [
       "(1, -1)"
      ]
     },
     "execution_count": 31,
     "metadata": {},
     "output_type": "execute_result"
    }
   ],
   "source": [
    "sign(9),sign(-5)"
   ]
  },
  {
   "cell_type": "code",
   "execution_count": 32,
   "metadata": {
    "id": "E7vC8CCXgZCd"
   },
   "outputs": [],
   "source": [
    "#(b)\n",
    "sign=lambda x: 1 if x>=0 else -1"
   ]
  },
  {
   "cell_type": "code",
   "execution_count": 33,
   "metadata": {
    "colab": {
     "base_uri": "https://localhost:8080/"
    },
    "executionInfo": {
     "elapsed": 8,
     "status": "ok",
     "timestamp": 1648912731030,
     "user": {
      "displayName": "wien hong",
      "userId": "11131435925814580522"
     },
     "user_tz": -480
    },
    "id": "3gtL5ws9hBYH",
    "outputId": "c3c3a160-6c5a-45a2-bb20-886e659d912d"
   },
   "outputs": [
    {
     "data": {
      "text/plain": [
       "(1, -1)"
      ]
     },
     "execution_count": 33,
     "metadata": {},
     "output_type": "execute_result"
    }
   ],
   "source": [
    "sign(9),sign(-5)"
   ]
  },
  {
   "cell_type": "code",
   "execution_count": 34,
   "metadata": {
    "colab": {
     "base_uri": "https://localhost:8080/"
    },
    "executionInfo": {
     "elapsed": 244,
     "status": "ok",
     "timestamp": 1648912772151,
     "user": {
      "displayName": "wien hong",
      "userId": "11131435925814580522"
     },
     "user_tz": -480
    },
    "id": "M7d6RpTJhgQX",
    "outputId": "15d1a353-97f4-4bb8-c250-4b8557593c3e"
   },
   "outputs": [
    {
     "data": {
      "text/plain": [
       "[1, -1, 1, 1, 1, -1, -1]"
      ]
     },
     "execution_count": 34,
     "metadata": {},
     "output_type": "execute_result"
    }
   ],
   "source": [
    "#(c)\n",
    "lst=[9,-3,8,2,1,-1,-4]\n",
    "[sign(n) for n in lst]"
   ]
  },
  {
   "cell_type": "code",
   "execution_count": 35,
   "metadata": {
    "id": "0IF0xkK03Wwu"
   },
   "outputs": [],
   "source": [
    "#(d)\n",
    "sign2=lambda x: 1 if x>0 else (0 if x==0 else -1)"
   ]
  },
  {
   "cell_type": "code",
   "execution_count": 36,
   "metadata": {
    "colab": {
     "base_uri": "https://localhost:8080/"
    },
    "executionInfo": {
     "elapsed": 7,
     "status": "ok",
     "timestamp": 1648913058341,
     "user": {
      "displayName": "wien hong",
      "userId": "11131435925814580522"
     },
     "user_tz": -480
    },
    "id": "dZbbeVgx3447",
    "outputId": "1e556909-295d-48cf-ee65-cf2dfc67a1db"
   },
   "outputs": [
    {
     "data": {
      "text/plain": [
       "(1, 0, -1)"
      ]
     },
     "execution_count": 36,
     "metadata": {},
     "output_type": "execute_result"
    }
   ],
   "source": [
    "sign2(9),sign2(0),sign2(-4)"
   ]
  },
  {
   "cell_type": "markdown",
   "metadata": {
    "id": "PkufpY_yNOoR"
   },
   "source": [
    "#### 第27題"
   ]
  },
  {
   "cell_type": "code",
   "execution_count": 37,
   "metadata": {
    "colab": {
     "base_uri": "https://localhost:8080/"
    },
    "executionInfo": {
     "elapsed": 240,
     "status": "ok",
     "timestamp": 1648913248901,
     "user": {
      "displayName": "wien hong",
      "userId": "11131435925814580522"
     },
     "user_tz": -480
    },
    "id": "Z8XkAozmsFBs",
    "outputId": "c99ffa70-dc57-4655-8f10-8737b27ff5e5"
   },
   "outputs": [
    {
     "data": {
      "text/plain": [
       "[6, 100]"
      ]
     },
     "execution_count": 37,
     "metadata": {},
     "output_type": "execute_result"
    }
   ],
   "source": [
    "f=lambda lst: [i for i in lst if 0<=i<=255]\n",
    "f([-3,6,100,300])"
   ]
  },
  {
   "cell_type": "markdown",
   "metadata": {
    "id": "CEHoRkRhpkwT"
   },
   "source": [
    "### 6.7 函數的進階應用"
   ]
  },
  {
   "cell_type": "markdown",
   "metadata": {
    "id": "Rum5CLjHNOyc"
   },
   "source": [
    "#### 第29題"
   ]
  },
  {
   "cell_type": "code",
   "execution_count": 38,
   "metadata": {
    "id": "8dEVFOk3kAV7"
   },
   "outputs": [],
   "source": [
    "#(a)\n",
    "def rgb2gray(r,g,b):\n",
    "    return round(r*0.299+g*0.587+b*0.114)"
   ]
  },
  {
   "cell_type": "code",
   "execution_count": 39,
   "metadata": {
    "colab": {
     "base_uri": "https://localhost:8080/"
    },
    "executionInfo": {
     "elapsed": 6,
     "status": "ok",
     "timestamp": 1648913360129,
     "user": {
      "displayName": "wien hong",
      "userId": "11131435925814580522"
     },
     "user_tz": -480
    },
    "id": "Gfxpm9eJl_xE",
    "outputId": "53f0aad1-b902-4779-e342-889c331b69f7"
   },
   "outputs": [
    {
     "data": {
      "text/plain": [
       "73"
      ]
     },
     "execution_count": 39,
     "metadata": {},
     "output_type": "execute_result"
    }
   ],
   "source": [
    "rgb2gray(128,56,12)"
   ]
  },
  {
   "cell_type": "code",
   "execution_count": 40,
   "metadata": {
    "colab": {
     "base_uri": "https://localhost:8080/"
    },
    "executionInfo": {
     "elapsed": 253,
     "status": "ok",
     "timestamp": 1648913406158,
     "user": {
      "displayName": "wien hong",
      "userId": "11131435925814580522"
     },
     "user_tz": -480
    },
    "id": "gjmysEQSmgHf",
    "outputId": "a9db3571-fecb-4766-b52e-5bc5db7cfd7a"
   },
   "outputs": [
    {
     "data": {
      "text/plain": [
       "57"
      ]
     },
     "execution_count": 40,
     "metadata": {},
     "output_type": "execute_result"
    }
   ],
   "source": [
    "#(b)\n",
    "lst=[32,56,128]\n",
    "rgb2gray(*lst)"
   ]
  },
  {
   "cell_type": "code",
   "execution_count": 41,
   "metadata": {
    "colab": {
     "base_uri": "https://localhost:8080/"
    },
    "executionInfo": {
     "elapsed": 233,
     "status": "ok",
     "timestamp": 1648913433483,
     "user": {
      "displayName": "wien hong",
      "userId": "11131435925814580522"
     },
     "user_tz": -480
    },
    "id": "AgwHRCAQqdoP",
    "outputId": "754d5eb1-ac06-43d3-cd47-196011e22c9f"
   },
   "outputs": [
    {
     "data": {
      "text/plain": [
       "[89, 49, 80, 89]"
      ]
     },
     "execution_count": 41,
     "metadata": {},
     "output_type": "execute_result"
    }
   ],
   "source": [
    "#(c)\n",
    "colors=[[34,128,34],[56,22,169],[147,43,98],[155,65,38]]\n",
    "[rgb2gray(*color) for color in colors]"
   ]
  },
  {
   "cell_type": "markdown",
   "metadata": {
    "id": "pUSiQ5uhNO8N"
   },
   "source": [
    "#### 第31題"
   ]
  },
  {
   "cell_type": "code",
   "execution_count": 42,
   "metadata": {
    "id": "gSCGOt9StH1y"
   },
   "outputs": [],
   "source": [
    "a=(45,33,75)\n",
    "b=(109,85,63)\n",
    "c=(9,8,5)"
   ]
  },
  {
   "cell_type": "code",
   "execution_count": 43,
   "metadata": {
    "colab": {
     "base_uri": "https://localhost:8080/"
    },
    "executionInfo": {
     "elapsed": 8,
     "status": "ok",
     "timestamp": 1648913511221,
     "user": {
      "displayName": "wien hong",
      "userId": "11131435925814580522"
     },
     "user_tz": -480
    },
    "id": "4_opPBldtmoM",
    "outputId": "3bf9f2af-3f6a-4ff5-b7be-8585d615509e"
   },
   "outputs": [
    {
     "data": {
      "text/plain": [
       "[(45, 109, 9), (33, 85, 8), (75, 63, 5)]"
      ]
     },
     "execution_count": 43,
     "metadata": {},
     "output_type": "execute_result"
    }
   ],
   "source": [
    "#(a)\n",
    "lst=[]\n",
    "for x,y,z in zip(a,b,c):\n",
    "    lst.append((x,y,z))\n",
    "lst"
   ]
  },
  {
   "cell_type": "code",
   "execution_count": 44,
   "metadata": {
    "colab": {
     "base_uri": "https://localhost:8080/"
    },
    "executionInfo": {
     "elapsed": 227,
     "status": "ok",
     "timestamp": 1648913532478,
     "user": {
      "displayName": "wien hong",
      "userId": "11131435925814580522"
     },
     "user_tz": -480
    },
    "id": "nVwv3AYTtn3p",
    "outputId": "c6a0ba76-13e4-47a4-aba6-a6d88b8d03e4"
   },
   "outputs": [
    {
     "data": {
      "text/plain": [
       "[[45, 109, 9], [33, 85, 8], [75, 63, 5]]"
      ]
     },
     "execution_count": 44,
     "metadata": {},
     "output_type": "execute_result"
    }
   ],
   "source": [
    "#(b)\n",
    "lst=[]\n",
    "for x,y,z in zip(a,b,c):\n",
    "    lst.append([x,y,z])\n",
    "lst"
   ]
  },
  {
   "cell_type": "markdown",
   "metadata": {
    "id": "_-eJ3AnXNQPR"
   },
   "source": [
    "#### 第33題"
   ]
  },
  {
   "cell_type": "code",
   "execution_count": 45,
   "metadata": {
    "id": "cHIcqVFq0eHn"
   },
   "outputs": [],
   "source": [
    "def gen(n):\n",
    "    t=1\n",
    "    while t<=n:\n",
    "        if t%3==0 and t%5!=0:\n",
    "            yield t\n",
    "        t+=1"
   ]
  },
  {
   "cell_type": "code",
   "execution_count": 46,
   "metadata": {
    "id": "FK7uWvhh1BMx"
   },
   "outputs": [],
   "source": [
    "g=gen(20)"
   ]
  },
  {
   "cell_type": "code",
   "execution_count": 47,
   "metadata": {
    "colab": {
     "base_uri": "https://localhost:8080/"
    },
    "executionInfo": {
     "elapsed": 7,
     "status": "ok",
     "timestamp": 1648913833177,
     "user": {
      "displayName": "wien hong",
      "userId": "11131435925814580522"
     },
     "user_tz": -480
    },
    "id": "u-_R931p1C1i",
    "outputId": "5f0d4e4f-48fa-4a0c-f535-86aa78566cea"
   },
   "outputs": [
    {
     "data": {
      "text/plain": [
       "[3, 6, 9, 12, 18]"
      ]
     },
     "execution_count": 47,
     "metadata": {},
     "output_type": "execute_result"
    }
   ],
   "source": [
    "list(g)"
   ]
  },
  {
   "cell_type": "markdown",
   "metadata": {
    "id": "JRSIyvngqVVA"
   },
   "source": [
    "#### 第35題"
   ]
  },
  {
   "cell_type": "code",
   "execution_count": 48,
   "metadata": {
    "id": "SiDQFFDuqYg2"
   },
   "outputs": [],
   "source": [
    "def primes():\n",
    "    prime_list=[]\n",
    "    n=2\n",
    "    while True:\n",
    "        for p in prime_list:\n",
    "            if n % p==0:\n",
    "                n+=1\n",
    "                break\n",
    "        else:   # i is a prime\n",
    "            yield n\n",
    "            prime_list.append(n)\n",
    "            n+=1"
   ]
  },
  {
   "cell_type": "code",
   "execution_count": 49,
   "metadata": {
    "id": "MROEMPjttkQE"
   },
   "outputs": [],
   "source": [
    "prm2=primes()"
   ]
  },
  {
   "cell_type": "code",
   "execution_count": 50,
   "metadata": {
    "colab": {
     "base_uri": "https://localhost:8080/"
    },
    "executionInfo": {
     "elapsed": 243,
     "status": "ok",
     "timestamp": 1648913925238,
     "user": {
      "displayName": "wien hong",
      "userId": "11131435925814580522"
     },
     "user_tz": -480
    },
    "id": "5qVp4IaAtoTY",
    "outputId": "0b5ca4bd-fe19-41d7-9016-fcd55b21247e"
   },
   "outputs": [
    {
     "data": {
      "text/plain": [
       "(2, 3, 5, 7, 11)"
      ]
     },
     "execution_count": 50,
     "metadata": {},
     "output_type": "execute_result"
    }
   ],
   "source": [
    "next(prm2),next(prm2),next(prm2),next(prm2),next(prm2)"
   ]
  }
 ],
 "metadata": {
  "colab": {
   "authorship_tag": "ABX9TyP2ypy8o/g180KFj265OH1h",
   "collapsed_sections": [],
   "name": "ch06-習題參考答案.ipynb",
   "provenance": [],
   "toc_visible": true
  },
  "kernelspec": {
   "display_name": "Python 3 (ipykernel)",
   "language": "python",
   "name": "python3"
  },
  "language_info": {
   "codemirror_mode": {
    "name": "ipython",
    "version": 3
   },
   "file_extension": ".py",
   "mimetype": "text/x-python",
   "name": "python",
   "nbconvert_exporter": "python",
   "pygments_lexer": "ipython3",
   "version": "3.8.9"
  }
 },
 "nbformat": 4,
 "nbformat_minor": 4
}

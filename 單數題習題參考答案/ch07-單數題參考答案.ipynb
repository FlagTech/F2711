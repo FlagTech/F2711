{
 "cells": [
  {
   "cell_type": "markdown",
   "id": "looking-judges",
   "metadata": {
    "id": "nLU0AQ5V_-ae"
   },
   "source": [
    "### 7.1 類別的基本概念"
   ]
  },
  {
   "cell_type": "markdown",
   "id": "tired-latter",
   "metadata": {
    "id": "medical-spray"
   },
   "source": [
    "#### 第1題"
   ]
  },
  {
   "cell_type": "code",
   "execution_count": 1,
   "id": "silver-surgeon",
   "metadata": {
    "id": "foreign-failing"
   },
   "outputs": [],
   "source": [
    "class Window:\n",
    "    def __init__(self,w=10,h=5):\n",
    "        self.width=w\n",
    "        self.height=h"
   ]
  },
  {
   "cell_type": "code",
   "execution_count": 2,
   "id": "affecting-locator",
   "metadata": {
    "colab": {
     "base_uri": "https://localhost:8080/"
    },
    "executionInfo": {
     "elapsed": 12,
     "status": "ok",
     "timestamp": 1649038365922,
     "user": {
      "displayName": "wien hong",
      "userId": "11131435925814580522"
     },
     "user_tz": -480
    },
    "id": "norman-blame",
    "outputId": "865b7571-e20e-45a2-c6e0-35a144dd8ecd"
   },
   "outputs": [
    {
     "name": "stdout",
     "output_type": "stream",
     "text": [
      "10\n",
      "5\n"
     ]
    }
   ],
   "source": [
    "#(a)\n",
    "w0=Window()\n",
    "print(w0.width)  \n",
    "print(w0.height) "
   ]
  },
  {
   "cell_type": "code",
   "execution_count": 3,
   "id": "cloudy-relations",
   "metadata": {
    "colab": {
     "base_uri": "https://localhost:8080/"
    },
    "executionInfo": {
     "elapsed": 318,
     "status": "ok",
     "timestamp": 1649038384549,
     "user": {
      "displayName": "wien hong",
      "userId": "11131435925814580522"
     },
     "user_tz": -480
    },
    "id": "bB7Oq-PoWFXT",
    "outputId": "9c7ec0c2-4173-47bc-a049-56b4c2eb23b9"
   },
   "outputs": [
    {
     "name": "stdout",
     "output_type": "stream",
     "text": [
      "12\n",
      "8\n"
     ]
    }
   ],
   "source": [
    "#(b)\n",
    "w1=Window(12,8)\n",
    "print(w1.width)  \n",
    "print(w1.height) "
   ]
  },
  {
   "cell_type": "code",
   "execution_count": 4,
   "id": "periodic-association",
   "metadata": {
    "colab": {
     "base_uri": "https://localhost:8080/"
    },
    "executionInfo": {
     "elapsed": 16,
     "status": "ok",
     "timestamp": 1649038410581,
     "user": {
      "displayName": "wien hong",
      "userId": "11131435925814580522"
     },
     "user_tz": -480
    },
    "id": "forced-healthcare",
    "outputId": "76bd20f2-9f95-4683-9aa2-f3a9ba13e0a2"
   },
   "outputs": [
    {
     "name": "stdout",
     "output_type": "stream",
     "text": [
      "16\n",
      "7\n"
     ]
    }
   ],
   "source": [
    "#(c)\n",
    "setattr(w1,'width',16)\n",
    "setattr(w1,'height',7)\n",
    "print(w1.width)  \n",
    "print(w1.height) "
   ]
  },
  {
   "cell_type": "code",
   "execution_count": 5,
   "id": "suburban-panic",
   "metadata": {
    "colab": {
     "base_uri": "https://localhost:8080/"
    },
    "executionInfo": {
     "elapsed": 305,
     "status": "ok",
     "timestamp": 1649038428248,
     "user": {
      "displayName": "wien hong",
      "userId": "11131435925814580522"
     },
     "user_tz": -480
    },
    "id": "harmful-field",
    "outputId": "245f0516-b254-4c58-b3b6-fb62b30f74f0"
   },
   "outputs": [
    {
     "name": "stdout",
     "output_type": "stream",
     "text": [
      "112\n"
     ]
    }
   ],
   "source": [
    "#(d)\n",
    "a = w0.width * w0.height \n",
    "b = w1.width * w1.height \n",
    "if a>b :\n",
    "    print(a)\n",
    "else:\n",
    "    print(b)"
   ]
  },
  {
   "cell_type": "markdown",
   "id": "coordinate-assessment",
   "metadata": {
    "id": "endless-assault"
   },
   "source": [
    "#### 第3題"
   ]
  },
  {
   "cell_type": "code",
   "execution_count": 6,
   "id": "funny-trash",
   "metadata": {
    "id": "acute-matthew"
   },
   "outputs": [],
   "source": [
    "#(a)\n",
    "class Student():\n",
    "    def __init__(self,na,gr):\n",
    "        self.name=na\n",
    "        self.grade=gr"
   ]
  },
  {
   "cell_type": "code",
   "execution_count": 7,
   "id": "specialized-bundle",
   "metadata": {
    "colab": {
     "base_uri": "https://localhost:8080/"
    },
    "executionInfo": {
     "elapsed": 5,
     "status": "ok",
     "timestamp": 1649038664095,
     "user": {
      "displayName": "wien hong",
      "userId": "11131435925814580522"
     },
     "user_tz": -480
    },
    "id": "exposed-prophet",
    "outputId": "4e391eb4-aeda-4c7c-c2dd-b522f558eb82"
   },
   "outputs": [
    {
     "name": "stdout",
     "output_type": "stream",
     "text": [
      "89\n",
      "Tom\n"
     ]
    }
   ],
   "source": [
    "#(b)\n",
    "s0=Student('Tom',89)\n",
    "print(getattr(s0,'grade'))\n",
    "print(getattr(s0,'name'))"
   ]
  },
  {
   "cell_type": "markdown",
   "id": "unable-rescue",
   "metadata": {
    "id": "GWvKLcDAA5Eo"
   },
   "source": [
    "### 7.2 實例函數"
   ]
  },
  {
   "cell_type": "markdown",
   "id": "combined-replacement",
   "metadata": {
    "id": "sized-wings"
   },
   "source": [
    "#### 第5題"
   ]
  },
  {
   "cell_type": "code",
   "execution_count": 8,
   "id": "north-exercise",
   "metadata": {
    "id": "catholic-consolidation"
   },
   "outputs": [],
   "source": [
    "#(a)(b)\n",
    "class Sphere():\n",
    "    def __init__(self,r=1):\n",
    "        self.rad=r\n",
    "    def __repr__(self):\n",
    "        return f'Sphere object, rad={self.rad}'\n",
    "    def volume(self):\n",
    "        return 4/3 * 3.14 * (self.rad**3)\n",
    "    def surface_area(self):\n",
    "        return 4 * 3.14 * (self.rad**2)\n",
    "    def __str__(self):\n",
    "        return f'Sphere object, rad={self.rad}, volume={self.volume():.2f}, surface_area={self.surface_area()}'\n",
    "        "
   ]
  },
  {
   "cell_type": "code",
   "execution_count": 9,
   "id": "assumed-airline",
   "metadata": {
    "colab": {
     "base_uri": "https://localhost:8080/"
    },
    "executionInfo": {
     "elapsed": 260,
     "status": "ok",
     "timestamp": 1649039032420,
     "user": {
      "displayName": "wien hong",
      "userId": "11131435925814580522"
     },
     "user_tz": -480
    },
    "id": "FsJzWJ7P8ySE",
    "outputId": "193b9033-2cc6-4af4-b69e-a84efd807f8e"
   },
   "outputs": [
    {
     "data": {
      "text/plain": [
       "Sphere object, rad=5"
      ]
     },
     "execution_count": 9,
     "metadata": {},
     "output_type": "execute_result"
    }
   ],
   "source": [
    "s1=Sphere(5)\n",
    "s1"
   ]
  },
  {
   "cell_type": "code",
   "execution_count": 10,
   "id": "starting-crash",
   "metadata": {
    "colab": {
     "base_uri": "https://localhost:8080/"
    },
    "executionInfo": {
     "elapsed": 254,
     "status": "ok",
     "timestamp": 1649039046521,
     "user": {
      "displayName": "wien hong",
      "userId": "11131435925814580522"
     },
     "user_tz": -480
    },
    "id": "LQoWZkLL9Cf4",
    "outputId": "1bc2d2c3-d897-450b-9655-2dfa77e05325"
   },
   "outputs": [
    {
     "data": {
      "text/plain": [
       "523.3333333333334"
      ]
     },
     "execution_count": 10,
     "metadata": {},
     "output_type": "execute_result"
    }
   ],
   "source": [
    "s1.volume()"
   ]
  },
  {
   "cell_type": "code",
   "execution_count": 11,
   "id": "primary-terrorism",
   "metadata": {
    "colab": {
     "base_uri": "https://localhost:8080/"
    },
    "executionInfo": {
     "elapsed": 10,
     "status": "ok",
     "timestamp": 1649039048343,
     "user": {
      "displayName": "wien hong",
      "userId": "11131435925814580522"
     },
     "user_tz": -480
    },
    "id": "_vbraxlb9JQa",
    "outputId": "8e73f304-4073-48cc-fc97-f9300abf7aa5"
   },
   "outputs": [
    {
     "data": {
      "text/plain": [
       "314.0"
      ]
     },
     "execution_count": 11,
     "metadata": {},
     "output_type": "execute_result"
    }
   ],
   "source": [
    "s1.surface_area()"
   ]
  },
  {
   "cell_type": "code",
   "execution_count": 12,
   "id": "surface-deployment",
   "metadata": {
    "colab": {
     "base_uri": "https://localhost:8080/"
    },
    "executionInfo": {
     "elapsed": 12,
     "status": "ok",
     "timestamp": 1649039050092,
     "user": {
      "displayName": "wien hong",
      "userId": "11131435925814580522"
     },
     "user_tz": -480
    },
    "id": "north-attraction",
    "outputId": "69447453-0c85-418b-ec5a-214b9ed70a35"
   },
   "outputs": [
    {
     "name": "stdout",
     "output_type": "stream",
     "text": [
      "Sphere object, rad=5, volume=523.33, surface_area=314.0\n"
     ]
    }
   ],
   "source": [
    "print(s1)"
   ]
  },
  {
   "cell_type": "markdown",
   "id": "rocky-battle",
   "metadata": {
    "id": "UNY9ynkmBDk9"
   },
   "source": [
    "### 7.3 類別函數和靜態函數"
   ]
  },
  {
   "cell_type": "markdown",
   "id": "corresponding-correspondence",
   "metadata": {
    "id": "relevant-management"
   },
   "source": [
    "#### 第7題"
   ]
  },
  {
   "cell_type": "code",
   "execution_count": 13,
   "id": "directed-villa",
   "metadata": {
    "id": "individual-guarantee"
   },
   "outputs": [],
   "source": [
    "class Employee():\n",
    "    #(a)\n",
    "    payRate=[1,1.2,1.5]\n",
    "    def __init__(self,base):\n",
    "        self.baseSalary=base\n",
    "    def salary(self,hr,bonus):\n",
    "        return round(self.baseSalary*hr*self.payRate[bonus])\n",
    "    #(b)\n",
    "    @classmethod    \n",
    "    def set_payRate(cls,new_payRate):\n",
    "        cls.payRate=new_payRate\n",
    "    #(c)\n",
    "    @staticmethod\n",
    "    def estimate(bs,hr,rate):\n",
    "        return round(bs * hr * rate)"
   ]
  },
  {
   "cell_type": "code",
   "execution_count": 14,
   "id": "pediatric-breast",
   "metadata": {
    "colab": {
     "base_uri": "https://localhost:8080/"
    },
    "executionInfo": {
     "elapsed": 311,
     "status": "ok",
     "timestamp": 1649039647819,
     "user": {
      "displayName": "wien hong",
      "userId": "11131435925814580522"
     },
     "user_tz": -480
    },
    "id": "cooperative-synthesis",
    "outputId": "9cf00a09-fad0-4d90-fe03-20f551ca895d",
    "tags": []
   },
   "outputs": [
    {
     "data": {
      "text/plain": [
       "1920"
      ]
     },
     "execution_count": 14,
     "metadata": {},
     "output_type": "execute_result"
    }
   ],
   "source": [
    "#7-1\n",
    "tom=Employee(160)\n",
    "tom.salary(10,1)"
   ]
  },
  {
   "cell_type": "code",
   "execution_count": 15,
   "id": "broken-thinking",
   "metadata": {
    "id": "announced-responsibility",
    "tags": []
   },
   "outputs": [],
   "source": [
    "#7-2\n",
    "tom.set_payRate([1,1.3,1.5])"
   ]
  },
  {
   "cell_type": "code",
   "execution_count": 16,
   "id": "experimental-absence",
   "metadata": {
    "colab": {
     "base_uri": "https://localhost:8080/"
    },
    "executionInfo": {
     "elapsed": 276,
     "status": "ok",
     "timestamp": 1649039649383,
     "user": {
      "displayName": "wien hong",
      "userId": "11131435925814580522"
     },
     "user_tz": -480
    },
    "id": "parallel-nickname",
    "outputId": "d5820dc5-9d8f-4718-9db8-d02a278b8ee4",
    "tags": []
   },
   "outputs": [
    {
     "data": {
      "text/plain": [
       "[1, 1.3, 1.5]"
      ]
     },
     "execution_count": 16,
     "metadata": {},
     "output_type": "execute_result"
    }
   ],
   "source": [
    "Employee.payRate"
   ]
  },
  {
   "cell_type": "code",
   "execution_count": 17,
   "id": "excellent-employer",
   "metadata": {
    "colab": {
     "base_uri": "https://localhost:8080/"
    },
    "executionInfo": {
     "elapsed": 7,
     "status": "ok",
     "timestamp": 1649039650431,
     "user": {
      "displayName": "wien hong",
      "userId": "11131435925814580522"
     },
     "user_tz": -480
    },
    "id": "opponent-funeral",
    "outputId": "816628a2-1053-41d9-f269-da3cea520adb",
    "tags": []
   },
   "outputs": [
    {
     "name": "stdout",
     "output_type": "stream",
     "text": [
      "2080\n"
     ]
    }
   ],
   "source": [
    "print(tom.salary(10,1))"
   ]
  },
  {
   "cell_type": "code",
   "execution_count": 18,
   "id": "alike-hundred",
   "metadata": {
    "colab": {
     "base_uri": "https://localhost:8080/"
    },
    "executionInfo": {
     "elapsed": 292,
     "status": "ok",
     "timestamp": 1649039653564,
     "user": {
      "displayName": "wien hong",
      "userId": "11131435925814580522"
     },
     "user_tz": -480
    },
    "id": "desirable-radio",
    "outputId": "7c146da3-db25-4c9e-b65a-b146e2ac96e5",
    "tags": []
   },
   "outputs": [
    {
     "name": "stdout",
     "output_type": "stream",
     "text": [
      "2000\n"
     ]
    }
   ],
   "source": [
    "#7-3\n",
    "print(Employee.estimate(160,10,1.25))"
   ]
  },
  {
   "cell_type": "markdown",
   "id": "coupled-mention",
   "metadata": {
    "id": "VOIoOsidvFI4"
   },
   "source": [
    "### 7.4 繼承"
   ]
  },
  {
   "cell_type": "markdown",
   "id": "reserved-acquisition",
   "metadata": {
    "id": "mZENaylUAYDr"
   },
   "source": [
    "#### 第9題"
   ]
  },
  {
   "cell_type": "code",
   "execution_count": 19,
   "id": "frank-disposal",
   "metadata": {
    "id": "WQlU3j6JFwsb"
   },
   "outputs": [],
   "source": [
    "class Car:\n",
    "    def __init__(self,color):\n",
    "        self.color=color\n",
    "    def show(self):\n",
    "        print(f'color={self.color}')"
   ]
  },
  {
   "cell_type": "code",
   "execution_count": 20,
   "id": "entertaining-transport",
   "metadata": {
    "id": "jJp9GQBFGCES"
   },
   "outputs": [],
   "source": [
    "#(a)\n",
    "class Truck(Car):\n",
    "    def __init__(self,dr,ow,co):   #(1)\n",
    "        self.doors=dr\n",
    "        self.owner=ow\n",
    "        super().__init__(co)\n",
    "    def show(self):                #(2)\n",
    "        print(f'doors={self.doors}, owner={self.owner}, color={self.color}')"
   ]
  },
  {
   "cell_type": "code",
   "execution_count": 21,
   "id": "sitting-notice",
   "metadata": {
    "colab": {
     "base_uri": "https://localhost:8080/"
    },
    "executionInfo": {
     "elapsed": 280,
     "status": "ok",
     "timestamp": 1649040211930,
     "user": {
      "displayName": "wien hong",
      "userId": "11131435925814580522"
     },
     "user_tz": -480
    },
    "id": "saLrrSZsdLQa",
    "outputId": "ceb14f7a-bc8c-4996-e0de-2232d56c5139"
   },
   "outputs": [
    {
     "name": "stdout",
     "output_type": "stream",
     "text": [
      "color=red\n",
      "doors=2, owner=Tom, color=blue\n"
     ]
    }
   ],
   "source": [
    "Car('red').show()\n",
    "Truck(2,'Tom','blue').show()"
   ]
  },
  {
   "cell_type": "markdown",
   "id": "reserved-preparation",
   "metadata": {
    "id": "GVbjwKFkvTp1"
   },
   "source": [
    "### 7.5 類別的進階認識"
   ]
  },
  {
   "cell_type": "markdown",
   "id": "interracial-caution",
   "metadata": {
    "id": "hxxZD_WEAjd2"
   },
   "source": [
    "#### 第11題"
   ]
  },
  {
   "cell_type": "code",
   "execution_count": 22,
   "id": "numerous-statement",
   "metadata": {
    "id": "2vv09lu2OXFq"
   },
   "outputs": [],
   "source": [
    "class Triangle:\n",
    "    def __init__(self,base,height):\n",
    "        self.__base=base\n",
    "        self.__height=height\n",
    "    def area(self):\n",
    "        return 0.5*self.__base*self.__height"
   ]
  },
  {
   "cell_type": "code",
   "execution_count": 23,
   "id": "joint-latino",
   "metadata": {
    "colab": {
     "base_uri": "https://localhost:8080/"
    },
    "executionInfo": {
     "elapsed": 5,
     "status": "ok",
     "timestamp": 1649040844913,
     "user": {
      "displayName": "wien hong",
      "userId": "11131435925814580522"
     },
     "user_tz": -480
    },
    "id": "5iWwdkKiPfKS",
    "outputId": "eedf11a8-921d-4a0e-eb13-c407725d31d3"
   },
   "outputs": [
    {
     "data": {
      "text/plain": [
       "25.0"
      ]
     },
     "execution_count": 23,
     "metadata": {},
     "output_type": "execute_result"
    }
   ],
   "source": [
    "t0=Triangle(10,5)\n",
    "t0.area()"
   ]
  },
  {
   "cell_type": "code",
   "execution_count": 24,
   "id": "handy-terrorist",
   "metadata": {
    "colab": {
     "base_uri": "https://localhost:8080/"
    },
    "executionInfo": {
     "elapsed": 270,
     "status": "ok",
     "timestamp": 1649041113784,
     "user": {
      "displayName": "wien hong",
      "userId": "11131435925814580522"
     },
     "user_tz": -480
    },
    "id": "ThgOw_-cPuaE",
    "outputId": "4f24b3cb-1fab-4456-d1a1-9ae0c64ef82c"
   },
   "outputs": [
    {
     "data": {
      "text/plain": [
       "25.0"
      ]
     },
     "execution_count": 24,
     "metadata": {},
     "output_type": "execute_result"
    }
   ],
   "source": [
    "t0.__base=40   # 這裡的 __base 是公有的變數，和 self.__base 是不一樣的變數了\n",
    "t0.area()"
   ]
  },
  {
   "cell_type": "code",
   "execution_count": 25,
   "id": "possible-tomato",
   "metadata": {
    "id": "aw_rJINAQ-u4"
   },
   "outputs": [],
   "source": [
    "# new version,add setter\n",
    "class Triangle:\n",
    "    def __init__(self,base,height):\n",
    "        self.__base=base\n",
    "        self.__height=height\n",
    "    def area(self):\n",
    "        return 0.5*self.__base*self.__height\n",
    "    def set_base(self,ba):   # set private attribute __base\n",
    "        self.__base=ba\n",
    "    def set_height(self,hi): # set private attribute __height\n",
    "        self.__height=hi"
   ]
  },
  {
   "cell_type": "code",
   "execution_count": 26,
   "id": "hollow-backup",
   "metadata": {
    "colab": {
     "base_uri": "https://localhost:8080/"
    },
    "executionInfo": {
     "elapsed": 269,
     "status": "ok",
     "timestamp": 1649041129375,
     "user": {
      "displayName": "wien hong",
      "userId": "11131435925814580522"
     },
     "user_tz": -480
    },
    "id": "H9F5CmBbSOP4",
    "outputId": "d4316a4c-a6ac-42d4-8ba0-b46427f5a055"
   },
   "outputs": [
    {
     "name": "stdout",
     "output_type": "stream",
     "text": [
      "25.0\n",
      "100.0\n"
     ]
    }
   ],
   "source": [
    "t0=Triangle(10,5)\n",
    "print(t0.area())\n",
    "t0.set_base(40)\n",
    "print(t0.area())"
   ]
  }
 ],
 "metadata": {
  "colab": {
   "collapsed_sections": [],
   "name": "ch07-習題參考答案.ipynb",
   "provenance": [
    {
     "file_id": "1p5JPiuHD16xLQOJL774PbtolsDIzIHhd",
     "timestamp": 1636965607193
    }
   ]
  },
  "kernelspec": {
   "display_name": "Python 3 (ipykernel)",
   "language": "python",
   "name": "python3"
  },
  "language_info": {
   "codemirror_mode": {
    "name": "ipython",
    "version": 3
   },
   "file_extension": ".py",
   "mimetype": "text/x-python",
   "name": "python",
   "nbconvert_exporter": "python",
   "pygments_lexer": "ipython3",
   "version": "3.8.9"
  }
 },
 "nbformat": 4,
 "nbformat_minor": 5
}

{
 "cells": [
  {
   "cell_type": "markdown",
   "metadata": {
    "id": "bvzavRQoIz94"
   },
   "source": [
    "### 3.1 數值運算"
   ]
  },
  {
   "cell_type": "markdown",
   "metadata": {
    "id": "ti95c23AqwfE"
   },
   "source": [
    "#### 第1題\n"
   ]
  },
  {
   "cell_type": "code",
   "execution_count": 1,
   "metadata": {
    "colab": {
     "base_uri": "https://localhost:8080/"
    },
    "executionInfo": {
     "elapsed": 11,
     "status": "ok",
     "timestamp": 1648831685495,
     "user": {
      "displayName": "wien hong",
      "userId": "11131435925814580522"
     },
     "user_tz": -480
    },
    "id": "mpEdoKZZq7QW",
    "outputId": "255d776f-589f-4b43-f8dc-310f89d9d426"
   },
   "outputs": [
    {
     "data": {
      "text/plain": [
       "93"
      ]
     },
     "execution_count": 1,
     "metadata": {},
     "output_type": "execute_result"
    }
   ],
   "source": [
    "max(12,81,93,27)"
   ]
  },
  {
   "cell_type": "code",
   "execution_count": 2,
   "metadata": {
    "colab": {
     "base_uri": "https://localhost:8080/"
    },
    "executionInfo": {
     "elapsed": 8,
     "status": "ok",
     "timestamp": 1648831685496,
     "user": {
      "displayName": "wien hong",
      "userId": "11131435925814580522"
     },
     "user_tz": -480
    },
    "id": "FQAr6OULrnsh",
    "outputId": "6260a195-203f-40a6-c207-dc43118cb78a"
   },
   "outputs": [
    {
     "data": {
      "text/plain": [
       "12"
      ]
     },
     "execution_count": 2,
     "metadata": {},
     "output_type": "execute_result"
    }
   ],
   "source": [
    "min(12,81,93,27)"
   ]
  },
  {
   "cell_type": "markdown",
   "metadata": {
    "id": "FaSU25sFr6U6"
   },
   "source": [
    "#### 第3題"
   ]
  },
  {
   "cell_type": "code",
   "execution_count": 3,
   "metadata": {
    "id": "3nhIl8ahsd8e"
   },
   "outputs": [],
   "source": [
    "import math"
   ]
  },
  {
   "cell_type": "code",
   "execution_count": 4,
   "metadata": {
    "colab": {
     "base_uri": "https://localhost:8080/"
    },
    "executionInfo": {
     "elapsed": 289,
     "status": "ok",
     "timestamp": 1648831881412,
     "user": {
      "displayName": "wien hong",
      "userId": "11131435925814580522"
     },
     "user_tz": -480
    },
    "id": "cqilgtlgsTJF",
    "outputId": "8b421802-7376-49ca-977f-f391d2e28ad6"
   },
   "outputs": [
    {
     "data": {
      "text/plain": [
       "4.653672110948631"
      ]
     },
     "execution_count": 4,
     "metadata": {},
     "output_type": "execute_result"
    }
   ],
   "source": [
    "#(a)\n",
    "math.sin(2.5)+math.exp(1.4)"
   ]
  },
  {
   "cell_type": "code",
   "execution_count": 5,
   "metadata": {
    "colab": {
     "base_uri": "https://localhost:8080/"
    },
    "executionInfo": {
     "elapsed": 280,
     "status": "ok",
     "timestamp": 1648831903887,
     "user": {
      "displayName": "wien hong",
      "userId": "11131435925814580522"
     },
     "user_tz": -480
    },
    "id": "PaGNBn14tHdM",
    "outputId": "b4d20e32-6224-4afe-bc1d-0730d5762432"
   },
   "outputs": [
    {
     "data": {
      "text/plain": [
       "40"
      ]
     },
     "execution_count": 5,
     "metadata": {},
     "output_type": "execute_result"
    }
   ],
   "source": [
    "#(b)\n",
    "math.ceil(6.3**2-0.5)"
   ]
  },
  {
   "cell_type": "code",
   "execution_count": 6,
   "metadata": {
    "colab": {
     "base_uri": "https://localhost:8080/"
    },
    "executionInfo": {
     "elapsed": 292,
     "status": "ok",
     "timestamp": 1648831982710,
     "user": {
      "displayName": "wien hong",
      "userId": "11131435925814580522"
     },
     "user_tz": -480
    },
    "id": "HguEpKM1t225",
    "outputId": "e9879b44-5a3d-4f16-a4d2-2004262d09b1"
   },
   "outputs": [
    {
     "data": {
      "text/plain": [
       "2"
      ]
     },
     "execution_count": 6,
     "metadata": {},
     "output_type": "execute_result"
    }
   ],
   "source": [
    "#(c)\n",
    "math.floor(math.cos(0.5**2)+math.sqrt(2))"
   ]
  },
  {
   "cell_type": "code",
   "execution_count": 7,
   "metadata": {
    "colab": {
     "base_uri": "https://localhost:8080/"
    },
    "executionInfo": {
     "elapsed": 316,
     "status": "ok",
     "timestamp": 1648832055310,
     "user": {
      "displayName": "wien hong",
      "userId": "11131435925814580522"
     },
     "user_tz": -480
    },
    "id": "8w_-TcBLuaEI",
    "outputId": "0d734ee9-cd8c-436e-d348-22502bf201e0"
   },
   "outputs": [
    {
     "data": {
      "text/plain": [
       "2"
      ]
     },
     "execution_count": 7,
     "metadata": {},
     "output_type": "execute_result"
    }
   ],
   "source": [
    "#(d)\n",
    "math.gcd(math.gcd(6,8),12)"
   ]
  },
  {
   "cell_type": "code",
   "execution_count": 8,
   "metadata": {
    "colab": {
     "base_uri": "https://localhost:8080/"
    },
    "executionInfo": {
     "elapsed": 292,
     "status": "ok",
     "timestamp": 1648832070510,
     "user": {
      "displayName": "wien hong",
      "userId": "11131435925814580522"
     },
     "user_tz": -480
    },
    "id": "3pLioBBAuvp6",
    "outputId": "ba45ef84-93b4-486b-f2f4-a735fe103611"
   },
   "outputs": [
    {
     "data": {
      "text/plain": [
       "nan"
      ]
     },
     "execution_count": 8,
     "metadata": {},
     "output_type": "execute_result"
    }
   ],
   "source": [
    "#(e)\n",
    "math.inf-(math.inf*2)"
   ]
  },
  {
   "cell_type": "code",
   "execution_count": 9,
   "metadata": {
    "colab": {
     "base_uri": "https://localhost:8080/"
    },
    "executionInfo": {
     "elapsed": 7,
     "status": "ok",
     "timestamp": 1648832116637,
     "user": {
      "displayName": "wien hong",
      "userId": "11131435925814580522"
     },
     "user_tz": -480
    },
    "id": "ScWxJZK8vfbK",
    "outputId": "7e6645f0-60e8-4bc3-9d8f-6735f9c01f02"
   },
   "outputs": [
    {
     "data": {
      "text/plain": [
       "1.7320508075688772"
      ]
     },
     "execution_count": 9,
     "metadata": {},
     "output_type": "execute_result"
    }
   ],
   "source": [
    "#(f)\n",
    "3**0.5"
   ]
  },
  {
   "cell_type": "code",
   "execution_count": 10,
   "metadata": {
    "colab": {
     "base_uri": "https://localhost:8080/"
    },
    "executionInfo": {
     "elapsed": 308,
     "status": "ok",
     "timestamp": 1648832145448,
     "user": {
      "displayName": "wien hong",
      "userId": "11131435925814580522"
     },
     "user_tz": -480
    },
    "id": "zijxfn03vwul",
    "outputId": "ed2933e0-8f99-43e9-acd0-d3e23c38a2e9"
   },
   "outputs": [
    {
     "data": {
      "text/plain": [
       "10.0"
      ]
     },
     "execution_count": 10,
     "metadata": {},
     "output_type": "execute_result"
    }
   ],
   "source": [
    "#(g)\n",
    "math.log2(1024)"
   ]
  },
  {
   "cell_type": "code",
   "execution_count": 11,
   "metadata": {
    "colab": {
     "base_uri": "https://localhost:8080/"
    },
    "executionInfo": {
     "elapsed": 270,
     "status": "ok",
     "timestamp": 1648832253808,
     "user": {
      "displayName": "wien hong",
      "userId": "11131435925814580522"
     },
     "user_tz": -480
    },
    "id": "DpR9Vs3Iv5Vy",
    "outputId": "a1377882-b77e-4eda-c55e-d22dc331c759"
   },
   "outputs": [
    {
     "data": {
      "text/plain": [
       "6.0"
      ]
     },
     "execution_count": 11,
     "metadata": {},
     "output_type": "execute_result"
    }
   ],
   "source": [
    "#(h)\n",
    "math.log(49**3,7)"
   ]
  },
  {
   "cell_type": "code",
   "execution_count": 12,
   "metadata": {
    "colab": {
     "base_uri": "https://localhost:8080/"
    },
    "executionInfo": {
     "elapsed": 282,
     "status": "ok",
     "timestamp": 1648832273357,
     "user": {
      "displayName": "wien hong",
      "userId": "11131435925814580522"
     },
     "user_tz": -480
    },
    "id": "dvidypsRsI6p",
    "outputId": "49c8b67c-4246-42d8-ac83-2e22aff77051"
   },
   "outputs": [
    {
     "data": {
      "text/plain": [
       "0.6944222469134894"
      ]
     },
     "execution_count": 12,
     "metadata": {},
     "output_type": "execute_result"
    }
   ],
   "source": [
    "#(i)\n",
    "math.asin(-0.7)+math.atan(math.pi**2)"
   ]
  },
  {
   "cell_type": "markdown",
   "metadata": {
    "id": "kAyCFPc8xmIr"
   },
   "source": [
    "#### 第5題"
   ]
  },
  {
   "cell_type": "code",
   "execution_count": 13,
   "metadata": {
    "colab": {
     "base_uri": "https://localhost:8080/"
    },
    "executionInfo": {
     "elapsed": 15,
     "status": "ok",
     "timestamp": 1648832639641,
     "user": {
      "displayName": "wien hong",
      "userId": "11131435925814580522"
     },
     "user_tz": -480
    },
    "id": "xR7QjMuexkSN",
    "outputId": "0545f30d-3382-4fb5-f7b0-c0501d153216"
   },
   "outputs": [
    {
     "name": "stdout",
     "output_type": "stream",
     "text": [
      "球的體積: 137.26\n",
      "球的表面積: 128.68\n"
     ]
    }
   ],
   "source": [
    "import math\n",
    "r=3.2\n",
    "volume=4/3*math.pi*r**3\n",
    "sarea=4*math.pi*r*r\n",
    "print(f'球的體積: {volume:6.2f}')\n",
    "print(f'球的表面積: {sarea:6.2f}')"
   ]
  },
  {
   "cell_type": "markdown",
   "metadata": {
    "id": "zEWqDqw5I8fZ"
   },
   "source": [
    "### 3.2 random模組裡的函數"
   ]
  },
  {
   "cell_type": "markdown",
   "metadata": {
    "id": "jCsDFDMv0inQ"
   },
   "source": [
    "#### 第7題"
   ]
  },
  {
   "cell_type": "code",
   "execution_count": 14,
   "metadata": {
    "id": "ZlZIIQL70yFN"
   },
   "outputs": [],
   "source": [
    "import random\n",
    "random.seed(37)"
   ]
  },
  {
   "cell_type": "code",
   "execution_count": 15,
   "metadata": {
    "colab": {
     "base_uri": "https://localhost:8080/"
    },
    "executionInfo": {
     "elapsed": 271,
     "status": "ok",
     "timestamp": 1648864768254,
     "user": {
      "displayName": "wien hong",
      "userId": "11131435925814580522"
     },
     "user_tz": -480
    },
    "id": "Jt6ipL1N01Xc",
    "outputId": "bc062cc5-bedd-4fc8-b77f-1694df5d025d"
   },
   "outputs": [
    {
     "data": {
      "text/plain": [
       "88"
      ]
     },
     "execution_count": 15,
     "metadata": {},
     "output_type": "execute_result"
    }
   ],
   "source": [
    "#(a)\n",
    "random.randint(1,100)"
   ]
  },
  {
   "cell_type": "code",
   "execution_count": 16,
   "metadata": {
    "colab": {
     "base_uri": "https://localhost:8080/"
    },
    "executionInfo": {
     "elapsed": 406,
     "status": "ok",
     "timestamp": 1648864795125,
     "user": {
      "displayName": "wien hong",
      "userId": "11131435925814580522"
     },
     "user_tz": -480
    },
    "id": "h2o2tlrg1RzX",
    "outputId": "150500e5-fe64-4d9a-e4ff-fe2c57f792bd"
   },
   "outputs": [
    {
     "data": {
      "text/plain": [
       "['o', 'H', 'w', 'l']"
      ]
     },
     "execution_count": 16,
     "metadata": {},
     "output_type": "execute_result"
    }
   ],
   "source": [
    "#(b)\n",
    "random.sample('Holloween',4)"
   ]
  },
  {
   "cell_type": "code",
   "execution_count": 17,
   "metadata": {
    "colab": {
     "base_uri": "https://localhost:8080/"
    },
    "executionInfo": {
     "elapsed": 279,
     "status": "ok",
     "timestamp": 1648864909560,
     "user": {
      "displayName": "wien hong",
      "userId": "11131435925814580522"
     },
     "user_tz": -480
    },
    "id": "cTyFn8tl1pqn",
    "outputId": "7d8d4f4f-27e9-4076-dfec-cdae1654e187"
   },
   "outputs": [
    {
     "data": {
      "text/plain": [
       "[64, 77]"
      ]
     },
     "execution_count": 17,
     "metadata": {},
     "output_type": "execute_result"
    }
   ],
   "source": [
    "#(c)\n",
    "random.sample([12,38,54,64,77,29],2)"
   ]
  },
  {
   "cell_type": "code",
   "execution_count": 18,
   "metadata": {
    "colab": {
     "base_uri": "https://localhost:8080/"
    },
    "executionInfo": {
     "elapsed": 294,
     "status": "ok",
     "timestamp": 1648864966717,
     "user": {
      "displayName": "wien hong",
      "userId": "11131435925814580522"
     },
     "user_tz": -480
    },
    "id": "PZ805IbT0Zbn",
    "outputId": "766d10f0-4c87-4ddd-bfdc-5bf60fd0c5cc"
   },
   "outputs": [
    {
     "data": {
      "text/plain": [
       "[9, 3, 5, 8, 2]"
      ]
     },
     "execution_count": 18,
     "metadata": {},
     "output_type": "execute_result"
    }
   ],
   "source": [
    "my_list=[2,3,5,8,9]\n",
    "random.shuffle(my_list)\n",
    "my_list"
   ]
  },
  {
   "cell_type": "markdown",
   "metadata": {
    "id": "bdYfzCY1JCZa"
   },
   "source": [
    "### 3.3 字串的處理函數"
   ]
  },
  {
   "cell_type": "markdown",
   "metadata": {
    "id": "y9s_qx7Mohao"
   },
   "source": [
    "#### 第9題"
   ]
  },
  {
   "cell_type": "code",
   "execution_count": 19,
   "metadata": {
    "colab": {
     "base_uri": "https://localhost:8080/",
     "height": 35
    },
    "executionInfo": {
     "elapsed": 264,
     "status": "ok",
     "timestamp": 1648867239832,
     "user": {
      "displayName": "wien hong",
      "userId": "11131435925814580522"
     },
     "user_tz": -480
    },
    "id": "roCIzisnojoa",
    "outputId": "dfb4bd3b-b29b-4272-8fe6-939478462c1d"
   },
   "outputs": [
    {
     "data": {
      "text/plain": [
       "'周杰倫'"
      ]
     },
     "execution_count": 19,
     "metadata": {},
     "output_type": "execute_result"
    }
   ],
   "source": [
    "'周'+\"杰倫\""
   ]
  },
  {
   "cell_type": "markdown",
   "metadata": {
    "id": "7BcIaOPzollT"
   },
   "source": [
    "#### 第11題"
   ]
  },
  {
   "cell_type": "code",
   "execution_count": 20,
   "metadata": {
    "id": "tpAeQGf3wTZY"
   },
   "outputs": [],
   "source": [
    "s1='Have a nice day'"
   ]
  },
  {
   "cell_type": "code",
   "execution_count": 21,
   "metadata": {
    "colab": {
     "base_uri": "https://localhost:8080/",
     "height": 35
    },
    "executionInfo": {
     "elapsed": 311,
     "status": "ok",
     "timestamp": 1648867287877,
     "user": {
      "displayName": "wien hong",
      "userId": "11131435925814580522"
     },
     "user_tz": -480
    },
    "id": "UU-IrL6Tu6LR",
    "outputId": "1dc88467-4a14-45de-8dc1-cdfe4cbbddbc"
   },
   "outputs": [
    {
     "data": {
      "text/plain": [
       "'nice'"
      ]
     },
     "execution_count": 21,
     "metadata": {},
     "output_type": "execute_result"
    }
   ],
   "source": [
    "#(a)\n",
    "s1[7:-4]"
   ]
  },
  {
   "cell_type": "code",
   "execution_count": 22,
   "metadata": {
    "colab": {
     "base_uri": "https://localhost:8080/"
    },
    "executionInfo": {
     "elapsed": 278,
     "status": "ok",
     "timestamp": 1648867310917,
     "user": {
      "displayName": "wien hong",
      "userId": "11131435925814580522"
     },
     "user_tz": -480
    },
    "id": "voptX7hevinU",
    "outputId": "69b04d3b-eadc-423b-a219-accc3a5ccef9"
   },
   "outputs": [
    {
     "data": {
      "text/plain": [
       "True"
      ]
     },
     "execution_count": 22,
     "metadata": {},
     "output_type": "execute_result"
    }
   ],
   "source": [
    "#(b)\n",
    "'day' in s1"
   ]
  },
  {
   "cell_type": "code",
   "execution_count": 23,
   "metadata": {
    "colab": {
     "base_uri": "https://localhost:8080/",
     "height": 35
    },
    "executionInfo": {
     "elapsed": 293,
     "status": "ok",
     "timestamp": 1648867327841,
     "user": {
      "displayName": "wien hong",
      "userId": "11131435925814580522"
     },
     "user_tz": -480
    },
    "id": "Y8_1E_NFv2iT",
    "outputId": "a825cfdb-5e6f-4df5-a899-caa331aa76c9"
   },
   "outputs": [
    {
     "data": {
      "text/plain": [
       "'y'"
      ]
     },
     "execution_count": 23,
     "metadata": {},
     "output_type": "execute_result"
    }
   ],
   "source": [
    "#(c)\n",
    "s1[-1]"
   ]
  },
  {
   "cell_type": "code",
   "execution_count": 24,
   "metadata": {
    "colab": {
     "base_uri": "https://localhost:8080/",
     "height": 35
    },
    "executionInfo": {
     "elapsed": 315,
     "status": "ok",
     "timestamp": 1648867361581,
     "user": {
      "displayName": "wien hong",
      "userId": "11131435925814580522"
     },
     "user_tz": -480
    },
    "id": "MQbwfWAfwhX3",
    "outputId": "24e24d03-86b7-48cb-aed2-71c3cb18f272"
   },
   "outputs": [
    {
     "data": {
      "text/plain": [
       "'y'"
      ]
     },
     "execution_count": 24,
     "metadata": {},
     "output_type": "execute_result"
    }
   ],
   "source": [
    "#(d)\n",
    "max(s1)"
   ]
  },
  {
   "cell_type": "markdown",
   "metadata": {
    "id": "nP-BkmjtJJUJ"
   },
   "source": [
    "### 3.4 字串類別提供的函數"
   ]
  },
  {
   "cell_type": "markdown",
   "metadata": {
    "id": "YwcAfRt_oomn"
   },
   "source": [
    "#### 第13題"
   ]
  },
  {
   "cell_type": "code",
   "execution_count": 25,
   "metadata": {
    "colab": {
     "base_uri": "https://localhost:8080/",
     "height": 35
    },
    "executionInfo": {
     "elapsed": 271,
     "status": "ok",
     "timestamp": 1648867920727,
     "user": {
      "displayName": "wien hong",
      "userId": "11131435925814580522"
     },
     "user_tz": -480
    },
    "id": "DpJFwQjyb-I9",
    "outputId": "8f6da6da-feb1-4aad-d678-561bd75e5ff8"
   },
   "outputs": [
    {
     "data": {
      "text/plain": [
       "'CatsAndDogs'"
      ]
     },
     "execution_count": 25,
     "metadata": {},
     "output_type": "execute_result"
    }
   ],
   "source": [
    "'cats and dogs'.title().replace(' ','')"
   ]
  },
  {
   "cell_type": "markdown",
   "metadata": {
    "id": "jpYnn2oLovNk"
   },
   "source": [
    "#### 第15題"
   ]
  },
  {
   "cell_type": "code",
   "execution_count": 26,
   "metadata": {
    "colab": {
     "base_uri": "https://localhost:8080/",
     "height": 35
    },
    "executionInfo": {
     "elapsed": 852,
     "status": "ok",
     "timestamp": 1648867986230,
     "user": {
      "displayName": "wien hong",
      "userId": "11131435925814580522"
     },
     "user_tz": -480
    },
    "id": "GH5iDAq-dEYe",
    "outputId": "9d988915-8394-484c-da6b-d67fb509b220"
   },
   "outputs": [
    {
     "data": {
      "text/plain": [
       "'Peggy Chen'"
      ]
     },
     "execution_count": 26,
     "metadata": {},
     "output_type": "execute_result"
    }
   ],
   "source": [
    "s1=' Peggy Chen '\n",
    "' Peggy Chen '.strip()"
   ]
  }
 ],
 "metadata": {
  "colab": {
   "collapsed_sections": [],
   "name": "ch03-習題參考答案.ipynb",
   "provenance": [
    {
     "file_id": "1bEXhLM4BIBgcSXQSi2bwpQfii65H19-7",
     "timestamp": 1634439577915
    }
   ]
  },
  "kernelspec": {
   "display_name": "Python 3 (ipykernel)",
   "language": "python",
   "name": "python3"
  },
  "language_info": {
   "codemirror_mode": {
    "name": "ipython",
    "version": 3
   },
   "file_extension": ".py",
   "mimetype": "text/x-python",
   "name": "python",
   "nbconvert_exporter": "python",
   "pygments_lexer": "ipython3",
   "version": "3.8.9"
  }
 },
 "nbformat": 4,
 "nbformat_minor": 4
}

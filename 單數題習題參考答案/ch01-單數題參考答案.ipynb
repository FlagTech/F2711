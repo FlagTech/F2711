{
 "cells": [
  {
   "cell_type": "markdown",
   "metadata": {
    "id": "7IODJ8gc5Q74"
   },
   "source": [
    "### 1.1 Python簡介"
   ]
  },
  {
   "cell_type": "markdown",
   "metadata": {
    "id": "vsP-2N_wUKuG"
   },
   "source": [
    "#### 第1題\n",
    ">請自行查閱"
   ]
  },
  {
   "cell_type": "markdown",
   "metadata": {
    "id": "ITzMppVp__9a"
   },
   "source": [
    "### 1.2 使用Google Colaboratory"
   ]
  },
  {
   "cell_type": "markdown",
   "metadata": {
    "id": "UqapX61CT7p2"
   },
   "source": [
    "#### 第3題"
   ]
  },
  {
   "cell_type": "code",
   "execution_count": 1,
   "metadata": {
    "colab": {
     "base_uri": "https://localhost:8080/"
    },
    "executionInfo": {
     "elapsed": 52,
     "status": "ok",
     "timestamp": 1649083175083,
     "user": {
      "displayName": "wien hong",
      "userId": "11131435925814580522"
     },
     "user_tz": -480
    },
    "id": "qMDN2jNMXgDN",
    "outputId": "61a2b16f-6ef7-4140-e69a-da7303d3480a"
   },
   "outputs": [
    {
     "data": {
      "text/plain": [
       "9"
      ]
     },
     "execution_count": 1,
     "metadata": {},
     "output_type": "execute_result"
    }
   ],
   "source": [
    "#(a)\n",
    "1+3+5"
   ]
  },
  {
   "cell_type": "code",
   "execution_count": 2,
   "metadata": {
    "colab": {
     "base_uri": "https://localhost:8080/"
    },
    "executionInfo": {
     "elapsed": 42,
     "status": "ok",
     "timestamp": 1649083175085,
     "user": {
      "displayName": "wien hong",
      "userId": "11131435925814580522"
     },
     "user_tz": -480
    },
    "id": "KGZM-s3sXjIN",
    "outputId": "2d6e62ee-c18f-4f07-8dd5-439429440df0"
   },
   "outputs": [
    {
     "name": "stdout",
     "output_type": "stream",
     "text": [
      "Hello world\n"
     ]
    }
   ],
   "source": [
    "#(b)\n",
    "print('Hello world')"
   ]
  },
  {
   "cell_type": "code",
   "execution_count": 3,
   "metadata": {
    "executionInfo": {
     "elapsed": 35,
     "status": "ok",
     "timestamp": 1649083175085,
     "user": {
      "displayName": "wien hong",
      "userId": "11131435925814580522"
     },
     "user_tz": -480
    },
    "id": "EwpupfAuX_xt"
   },
   "outputs": [],
   "source": [
    "#(c)\n",
    "###My first Colab Program"
   ]
  },
  {
   "cell_type": "markdown",
   "metadata": {
    "id": "5X1v_jmIAeIg"
   },
   "source": [
    "### 1.3 Python語法的組成"
   ]
  },
  {
   "cell_type": "markdown",
   "metadata": {
    "id": "XqO2OUZbUrnW"
   },
   "source": [
    "#### 第5題\n",
    ">請自行練習"
   ]
  },
  {
   "cell_type": "markdown",
   "metadata": {
    "id": "eGfAiPBbAjEL"
   },
   "source": [
    "### 1.4 程式撰寫時的注意事項"
   ]
  },
  {
   "cell_type": "markdown",
   "metadata": {
    "id": "S9Nnp47bUwMu"
   },
   "source": [
    "#### 第7題"
   ]
  },
  {
   "cell_type": "code",
   "execution_count": 4,
   "metadata": {
    "colab": {
     "base_uri": "https://localhost:8080/"
    },
    "executionInfo": {
     "elapsed": 22,
     "status": "ok",
     "timestamp": 1649083175087,
     "user": {
      "displayName": "wien hong",
      "userId": "11131435925814580522"
     },
     "user_tz": -480
    },
    "id": "w_VLcfGH-HXC",
    "outputId": "2378fb8d-5e11-45fe-ee1a-f4083cfb616c"
   },
   "outputs": [
    {
     "data": {
      "text/plain": [
       "120"
      ]
     },
     "execution_count": 4,
     "metadata": {},
     "output_type": "execute_result"
    }
   ],
   "source": [
    "1+2+3+4+5+\\\n",
    "6+7+8+9+10+\\\n",
    "11+12+13+14+15"
   ]
  },
  {
   "cell_type": "markdown",
   "metadata": {
    "id": "sHayc2SjAqrJ"
   },
   "source": [
    "### 1.5 當程式執行錯誤時"
   ]
  },
  {
   "cell_type": "markdown",
   "metadata": {
    "id": "YPYqxSsKU1X-"
   },
   "source": [
    "#### 第9題"
   ]
  },
  {
   "cell_type": "code",
   "execution_count": 5,
   "metadata": {
    "executionInfo": {
     "elapsed": 13,
     "status": "ok",
     "timestamp": 1649083175388,
     "user": {
      "displayName": "wien hong",
      "userId": "11131435925814580522"
     },
     "user_tz": -480
    },
    "id": "qeFnA3TS47ZL"
   },
   "outputs": [],
   "source": [
    "#(a)\n",
    "# if=4  # SyntaxError: invalid syntax，不合語法的錯誤"
   ]
  },
  {
   "cell_type": "code",
   "execution_count": 6,
   "metadata": {
    "executionInfo": {
     "elapsed": 14,
     "status": "ok",
     "timestamp": 1649083175389,
     "user": {
      "displayName": "wien hong",
      "userId": "11131435925814580522"
     },
     "user_tz": -480
    },
    "id": "7P0xYxKeZef8"
   },
   "outputs": [],
   "source": [
    "#(b)\n",
    "# num+6   # NameError: name 'num' is not defined, num未被定義"
   ]
  },
  {
   "cell_type": "code",
   "execution_count": 7,
   "metadata": {
    "executionInfo": {
     "elapsed": 14,
     "status": "ok",
     "timestamp": 1649083175390,
     "user": {
      "displayName": "wien hong",
      "userId": "11131435925814580522"
     },
     "user_tz": -480
    },
    "id": "eGwTuoFY4-5m"
   },
   "outputs": [],
   "source": [
    "#(c)\n",
    "# 2 @ 3   # TypeError: unsupported operand type(s) for @: 'int' and 'int'， @ 不支援 int 和 int 之間的運算"
   ]
  },
  {
   "cell_type": "markdown",
   "metadata": {
    "id": "hFR5AFcyAuXZ"
   },
   "source": [
    "### 1.6 程式的註解與函數用法的查詢"
   ]
  }
 ],
 "metadata": {
  "colab": {
   "collapsed_sections": [],
   "name": "ch01-習題參考答案.ipynb",
   "provenance": [
    {
     "file_id": "1rNwrrU4Pg0k1ngOIpnALsigTow2zZM1p",
     "timestamp": 1634433901642
    }
   ],
   "toc_visible": true
  },
  "kernelspec": {
   "display_name": "Python 3 (ipykernel)",
   "language": "python",
   "name": "python3"
  },
  "language_info": {
   "codemirror_mode": {
    "name": "ipython",
    "version": 3
   },
   "file_extension": ".py",
   "mimetype": "text/x-python",
   "name": "python",
   "nbconvert_exporter": "python",
   "pygments_lexer": "ipython3",
   "version": "3.8.9"
  }
 },
 "nbformat": 4,
 "nbformat_minor": 4
}
